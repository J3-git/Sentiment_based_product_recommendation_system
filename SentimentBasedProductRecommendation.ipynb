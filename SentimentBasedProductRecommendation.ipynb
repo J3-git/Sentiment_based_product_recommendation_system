{
 "cells": [
  {
   "cell_type": "markdown",
   "id": "f6b2858f",
   "metadata": {},
   "source": [
    "## Introduction:\n",
    "With the advancement in technology,the e-commerce business is quite popular today. A company launches its website to sell the items to the end consumer, and customers can order the products that they require from the same website. Famous examples of such e-commerce companies are Amazon, Flipkart, Myntra.\n",
    "## Objective:\n",
    "Our main goal is to build a model that will improve the recommendations given to the users given their past reviews and ratings in order to grow the e-commerce business. For this we will build a sentiment-based product recommendation system.\n",
    "## Assumptions:\n",
    "The number of users and the number of products are fixed in this case study, and we are doing the sentiment analysis and building the recommendation system only for those users who have already submitted the reviews or ratings corresponding to some of the products in the dataset. In other words, no new users or products will be introduced or considered when building or predicting from the models built."
   ]
  },
  {
   "cell_type": "code",
   "execution_count": 1,
   "id": "bb016b1c",
   "metadata": {},
   "outputs": [],
   "source": [
    "# import general libraties for data processing and visualization:\n",
    "import re\n",
    "import time\n",
    "import math\n",
    "import pandas as pd\n",
    "import numpy as np\n",
    "import copy\n",
    "import pickle\n",
    "import seaborn as sns\n",
    "import matplotlib.pyplot as plt\n",
    "from IPython.display import display\n",
    "from collections import Counter\n",
    "from wordcloud import WordCloud\n",
    "import warnings\n",
    "warnings.filterwarnings(\"ignore\")"
   ]
  },
  {
   "cell_type": "code",
   "execution_count": 2,
   "id": "bedfb882",
   "metadata": {},
   "outputs": [
    {
     "name": "stderr",
     "output_type": "stream",
     "text": [
      "[nltk_data] Downloading package stopwords to\n",
      "[nltk_data]     C:\\Users\\ADMIN\\AppData\\Roaming\\nltk_data...\n",
      "[nltk_data]   Package stopwords is already up-to-date!\n",
      "[nltk_data] Downloading package punkt to\n",
      "[nltk_data]     C:\\Users\\ADMIN\\AppData\\Roaming\\nltk_data...\n",
      "[nltk_data]   Package punkt is already up-to-date!\n",
      "[nltk_data] Downloading package averaged_perceptron_tagger to\n",
      "[nltk_data]     C:\\Users\\ADMIN\\AppData\\Roaming\\nltk_data...\n",
      "[nltk_data]   Package averaged_perceptron_tagger is already up-to-\n",
      "[nltk_data]       date!\n",
      "[nltk_data] Downloading package wordnet to\n",
      "[nltk_data]     C:\\Users\\ADMIN\\AppData\\Roaming\\nltk_data...\n",
      "[nltk_data]   Package wordnet is already up-to-date!\n"
     ]
    }
   ],
   "source": [
    "# import NLTK libraries for natural language processing:\n",
    "import nltk\n",
    "nltk.download('stopwords')\n",
    "nltk.download('punkt')\n",
    "nltk.download('averaged_perceptron_tagger')\n",
    "nltk.download('wordnet')\n",
    "from nltk.corpus import stopwords\n",
    "from nltk import FreqDist\n",
    "from nltk.tokenize import word_tokenize\n",
    "from nltk.stem.wordnet import WordNetLemmatizer\n",
    "from nltk.corpus import wordnet"
   ]
  },
  {
   "cell_type": "code",
   "execution_count": 3,
   "id": "c00aa9c6",
   "metadata": {},
   "outputs": [],
   "source": [
    "# import libraries for model building and model evalution:\n",
    "from sklearn.model_selection import train_test_split\n",
    "from imblearn.over_sampling import SMOTE\n",
    "from sklearn.preprocessing import MinMaxScaler\n",
    "from sklearn.feature_extraction.text import TfidfVectorizer\n",
    "from sklearn.linear_model import LogisticRegression\n",
    "from sklearn.ensemble import RandomForestClassifier\n",
    "import xgboost as xgb\n",
    "from sklearn.naive_bayes import MultinomialNB\n",
    "from sklearn.model_selection import GridSearchCV,RandomizedSearchCV\n",
    "from sklearn.metrics.pairwise import pairwise_distances\n",
    "from sklearn.metrics import accuracy_score\n",
    "from sklearn.metrics import confusion_matrix, classification_report,f1_score\n",
    "from sklearn.metrics import auc, plot_roc_curve"
   ]
  },
  {
   "cell_type": "markdown",
   "id": "14c53b67",
   "metadata": {},
   "source": [
    "### Data sourcing:"
   ]
  },
  {
   "cell_type": "code",
   "execution_count": 4,
   "id": "7bdbd3b3",
   "metadata": {},
   "outputs": [],
   "source": [
    "# main_df = pd.read_csv(r'C:\\Users\\ADMIN\\Downloads\\sample30.csv', encoding='latin-1')\n",
    "# main_df.head()"
   ]
  },
  {
   "cell_type": "code",
   "execution_count": 5,
   "id": "1d5f9b1e",
   "metadata": {},
   "outputs": [
    {
     "data": {
      "text/html": [
       "<div>\n",
       "<style scoped>\n",
       "    .dataframe tbody tr th:only-of-type {\n",
       "        vertical-align: middle;\n",
       "    }\n",
       "\n",
       "    .dataframe tbody tr th {\n",
       "        vertical-align: top;\n",
       "    }\n",
       "\n",
       "    .dataframe thead th {\n",
       "        text-align: right;\n",
       "    }\n",
       "</style>\n",
       "<table border=\"1\" class=\"dataframe\">\n",
       "  <thead>\n",
       "    <tr style=\"text-align: right;\">\n",
       "      <th></th>\n",
       "      <th>id</th>\n",
       "      <th>brand</th>\n",
       "      <th>categories</th>\n",
       "      <th>manufacturer</th>\n",
       "      <th>name</th>\n",
       "      <th>reviews_date</th>\n",
       "      <th>reviews_didPurchase</th>\n",
       "      <th>reviews_doRecommend</th>\n",
       "      <th>reviews_rating</th>\n",
       "      <th>reviews_text</th>\n",
       "      <th>reviews_title</th>\n",
       "      <th>reviews_userCity</th>\n",
       "      <th>reviews_userProvince</th>\n",
       "      <th>reviews_username</th>\n",
       "      <th>user_sentiment</th>\n",
       "    </tr>\n",
       "  </thead>\n",
       "  <tbody>\n",
       "    <tr>\n",
       "      <th>0</th>\n",
       "      <td>AV13O1A8GV-KLJ3akUyj</td>\n",
       "      <td>Universal Music</td>\n",
       "      <td>Movies, Music &amp; Books,Music,R&amp;b,Movies &amp; TV,Mo...</td>\n",
       "      <td>Universal Music Group / Cash Money</td>\n",
       "      <td>Pink Friday: Roman Reloaded Re-Up (w/dvd)</td>\n",
       "      <td>2012-11-30T06:21:45.000Z</td>\n",
       "      <td>NaN</td>\n",
       "      <td>NaN</td>\n",
       "      <td>5</td>\n",
       "      <td>i love this album. it's very good. more to the...</td>\n",
       "      <td>Just Awesome</td>\n",
       "      <td>Los Angeles</td>\n",
       "      <td>NaN</td>\n",
       "      <td>joshua</td>\n",
       "      <td>Positive</td>\n",
       "    </tr>\n",
       "    <tr>\n",
       "      <th>1</th>\n",
       "      <td>AV14LG0R-jtxr-f38QfS</td>\n",
       "      <td>Lundberg</td>\n",
       "      <td>Food,Packaged Foods,Snacks,Crackers,Snacks, Co...</td>\n",
       "      <td>Lundberg</td>\n",
       "      <td>Lundberg Organic Cinnamon Toast Rice Cakes</td>\n",
       "      <td>2017-07-09T00:00:00.000Z</td>\n",
       "      <td>True</td>\n",
       "      <td>NaN</td>\n",
       "      <td>5</td>\n",
       "      <td>Good flavor. This review was collected as part...</td>\n",
       "      <td>Good</td>\n",
       "      <td>NaN</td>\n",
       "      <td>NaN</td>\n",
       "      <td>dorothy w</td>\n",
       "      <td>Positive</td>\n",
       "    </tr>\n",
       "    <tr>\n",
       "      <th>2</th>\n",
       "      <td>AV14LG0R-jtxr-f38QfS</td>\n",
       "      <td>Lundberg</td>\n",
       "      <td>Food,Packaged Foods,Snacks,Crackers,Snacks, Co...</td>\n",
       "      <td>Lundberg</td>\n",
       "      <td>Lundberg Organic Cinnamon Toast Rice Cakes</td>\n",
       "      <td>2017-07-09T00:00:00.000Z</td>\n",
       "      <td>True</td>\n",
       "      <td>NaN</td>\n",
       "      <td>5</td>\n",
       "      <td>Good flavor.</td>\n",
       "      <td>Good</td>\n",
       "      <td>NaN</td>\n",
       "      <td>NaN</td>\n",
       "      <td>dorothy w</td>\n",
       "      <td>Positive</td>\n",
       "    </tr>\n",
       "    <tr>\n",
       "      <th>3</th>\n",
       "      <td>AV16khLE-jtxr-f38VFn</td>\n",
       "      <td>K-Y</td>\n",
       "      <td>Personal Care,Medicine Cabinet,Lubricant/Sperm...</td>\n",
       "      <td>K-Y</td>\n",
       "      <td>K-Y Love Sensuality Pleasure Gel</td>\n",
       "      <td>2016-01-06T00:00:00.000Z</td>\n",
       "      <td>False</td>\n",
       "      <td>False</td>\n",
       "      <td>1</td>\n",
       "      <td>I read through the reviews on here before look...</td>\n",
       "      <td>Disappointed</td>\n",
       "      <td>NaN</td>\n",
       "      <td>NaN</td>\n",
       "      <td>rebecca</td>\n",
       "      <td>Negative</td>\n",
       "    </tr>\n",
       "    <tr>\n",
       "      <th>4</th>\n",
       "      <td>AV16khLE-jtxr-f38VFn</td>\n",
       "      <td>K-Y</td>\n",
       "      <td>Personal Care,Medicine Cabinet,Lubricant/Sperm...</td>\n",
       "      <td>K-Y</td>\n",
       "      <td>K-Y Love Sensuality Pleasure Gel</td>\n",
       "      <td>2016-12-21T00:00:00.000Z</td>\n",
       "      <td>False</td>\n",
       "      <td>False</td>\n",
       "      <td>1</td>\n",
       "      <td>My husband bought this gel for us. The gel cau...</td>\n",
       "      <td>Irritation</td>\n",
       "      <td>NaN</td>\n",
       "      <td>NaN</td>\n",
       "      <td>walker557</td>\n",
       "      <td>Negative</td>\n",
       "    </tr>\n",
       "  </tbody>\n",
       "</table>\n",
       "</div>"
      ],
      "text/plain": [
       "                     id            brand  \\\n",
       "0  AV13O1A8GV-KLJ3akUyj  Universal Music   \n",
       "1  AV14LG0R-jtxr-f38QfS         Lundberg   \n",
       "2  AV14LG0R-jtxr-f38QfS         Lundberg   \n",
       "3  AV16khLE-jtxr-f38VFn              K-Y   \n",
       "4  AV16khLE-jtxr-f38VFn              K-Y   \n",
       "\n",
       "                                          categories  \\\n",
       "0  Movies, Music & Books,Music,R&b,Movies & TV,Mo...   \n",
       "1  Food,Packaged Foods,Snacks,Crackers,Snacks, Co...   \n",
       "2  Food,Packaged Foods,Snacks,Crackers,Snacks, Co...   \n",
       "3  Personal Care,Medicine Cabinet,Lubricant/Sperm...   \n",
       "4  Personal Care,Medicine Cabinet,Lubricant/Sperm...   \n",
       "\n",
       "                         manufacturer  \\\n",
       "0  Universal Music Group / Cash Money   \n",
       "1                            Lundberg   \n",
       "2                            Lundberg   \n",
       "3                                 K-Y   \n",
       "4                                 K-Y   \n",
       "\n",
       "                                         name              reviews_date  \\\n",
       "0   Pink Friday: Roman Reloaded Re-Up (w/dvd)  2012-11-30T06:21:45.000Z   \n",
       "1  Lundberg Organic Cinnamon Toast Rice Cakes  2017-07-09T00:00:00.000Z   \n",
       "2  Lundberg Organic Cinnamon Toast Rice Cakes  2017-07-09T00:00:00.000Z   \n",
       "3            K-Y Love Sensuality Pleasure Gel  2016-01-06T00:00:00.000Z   \n",
       "4            K-Y Love Sensuality Pleasure Gel  2016-12-21T00:00:00.000Z   \n",
       "\n",
       "  reviews_didPurchase reviews_doRecommend  reviews_rating  \\\n",
       "0                 NaN                 NaN               5   \n",
       "1                True                 NaN               5   \n",
       "2                True                 NaN               5   \n",
       "3               False               False               1   \n",
       "4               False               False               1   \n",
       "\n",
       "                                        reviews_text reviews_title  \\\n",
       "0  i love this album. it's very good. more to the...  Just Awesome   \n",
       "1  Good flavor. This review was collected as part...          Good   \n",
       "2                                       Good flavor.          Good   \n",
       "3  I read through the reviews on here before look...  Disappointed   \n",
       "4  My husband bought this gel for us. The gel cau...    Irritation   \n",
       "\n",
       "  reviews_userCity reviews_userProvince reviews_username user_sentiment  \n",
       "0      Los Angeles                  NaN           joshua       Positive  \n",
       "1              NaN                  NaN        dorothy w       Positive  \n",
       "2              NaN                  NaN        dorothy w       Positive  \n",
       "3              NaN                  NaN          rebecca       Negative  \n",
       "4              NaN                  NaN        walker557       Negative  "
      ]
     },
     "execution_count": 5,
     "metadata": {},
     "output_type": "execute_result"
    }
   ],
   "source": [
    "main_df = pd.read_pickle(r'C:\\Users\\ADMIN\\Downloads\\sample30.pkl')\n",
    "main_df.head()"
   ]
  },
  {
   "cell_type": "markdown",
   "id": "87b27f40",
   "metadata": {},
   "source": [
    "### EDA and visualization:"
   ]
  },
  {
   "cell_type": "code",
   "execution_count": 6,
   "id": "d305aff3",
   "metadata": {},
   "outputs": [
    {
     "name": "stdout",
     "output_type": "stream",
     "text": [
      "<class 'pandas.core.frame.DataFrame'>\n",
      "RangeIndex: 30000 entries, 0 to 29999\n",
      "Data columns (total 15 columns):\n",
      " #   Column                Non-Null Count  Dtype \n",
      "---  ------                --------------  ----- \n",
      " 0   id                    30000 non-null  object\n",
      " 1   brand                 30000 non-null  object\n",
      " 2   categories            30000 non-null  object\n",
      " 3   manufacturer          29859 non-null  object\n",
      " 4   name                  30000 non-null  object\n",
      " 5   reviews_date          29954 non-null  object\n",
      " 6   reviews_didPurchase   15932 non-null  object\n",
      " 7   reviews_doRecommend   27430 non-null  object\n",
      " 8   reviews_rating        30000 non-null  int64 \n",
      " 9   reviews_text          30000 non-null  object\n",
      " 10  reviews_title         29810 non-null  object\n",
      " 11  reviews_userCity      1929 non-null   object\n",
      " 12  reviews_userProvince  170 non-null    object\n",
      " 13  reviews_username      29937 non-null  object\n",
      " 14  user_sentiment        29999 non-null  object\n",
      "dtypes: int64(1), object(14)\n",
      "memory usage: 3.4+ MB\n"
     ]
    }
   ],
   "source": [
    "main_df.info()"
   ]
  },
  {
   "cell_type": "code",
   "execution_count": 7,
   "id": "1c034988",
   "metadata": {},
   "outputs": [
    {
     "data": {
      "text/html": [
       "<div>\n",
       "<style scoped>\n",
       "    .dataframe tbody tr th:only-of-type {\n",
       "        vertical-align: middle;\n",
       "    }\n",
       "\n",
       "    .dataframe tbody tr th {\n",
       "        vertical-align: top;\n",
       "    }\n",
       "\n",
       "    .dataframe thead th {\n",
       "        text-align: right;\n",
       "    }\n",
       "</style>\n",
       "<table border=\"1\" class=\"dataframe\">\n",
       "  <thead>\n",
       "    <tr style=\"text-align: right;\">\n",
       "      <th></th>\n",
       "      <th>Attribute</th>\n",
       "      <th>Attribute Description</th>\n",
       "    </tr>\n",
       "  </thead>\n",
       "  <tbody>\n",
       "    <tr>\n",
       "      <th>0</th>\n",
       "      <td>id</td>\n",
       "      <td>Uniques identity number to identify each unique review given by the user to a particular product in the dataset</td>\n",
       "    </tr>\n",
       "    <tr>\n",
       "      <th>1</th>\n",
       "      <td>brand</td>\n",
       "      <td>Name of the brand of the product to which user has given review and rating</td>\n",
       "    </tr>\n",
       "    <tr>\n",
       "      <th>2</th>\n",
       "      <td>categories</td>\n",
       "      <td>Category of the product like household essentials, books, personal care products, medicines, cosmetic items, beauty products, electrical appliances, kitchen and dining products, health care products and many more.</td>\n",
       "    </tr>\n",
       "    <tr>\n",
       "      <th>3</th>\n",
       "      <td>manufacturer</td>\n",
       "      <td>Name of the manufacturer of the product</td>\n",
       "    </tr>\n",
       "    <tr>\n",
       "      <th>4</th>\n",
       "      <td>name</td>\n",
       "      <td>Name of the product to which user has added review or rating</td>\n",
       "    </tr>\n",
       "    <tr>\n",
       "      <th>5</th>\n",
       "      <td>reviews_date</td>\n",
       "      <td>Date on which the review has been added by the user</td>\n",
       "    </tr>\n",
       "    <tr>\n",
       "      <th>6</th>\n",
       "      <td>reviews_didPurchase</td>\n",
       "      <td>Whether a particular user has purchased the product or not</td>\n",
       "    </tr>\n",
       "    <tr>\n",
       "      <th>7</th>\n",
       "      <td>reviews_doRecommend</td>\n",
       "      <td>Whether a particular user has recommended the product or not</td>\n",
       "    </tr>\n",
       "    <tr>\n",
       "      <th>8</th>\n",
       "      <td>reviews_rating</td>\n",
       "      <td>Rating given by the user to a particular product</td>\n",
       "    </tr>\n",
       "    <tr>\n",
       "      <th>9</th>\n",
       "      <td>reviews_text</td>\n",
       "      <td>Review given by the user to a particular product</td>\n",
       "    </tr>\n",
       "    <tr>\n",
       "      <th>10</th>\n",
       "      <td>reviews_title</td>\n",
       "      <td>The title of the review given by the user to a particular product</td>\n",
       "    </tr>\n",
       "    <tr>\n",
       "      <th>11</th>\n",
       "      <td>reviews_userCity</td>\n",
       "      <td>The residing city of the user</td>\n",
       "    </tr>\n",
       "    <tr>\n",
       "      <th>12</th>\n",
       "      <td>reviews_userProvince</td>\n",
       "      <td>The residing province of the user</td>\n",
       "    </tr>\n",
       "    <tr>\n",
       "      <th>13</th>\n",
       "      <td>reviews_username</td>\n",
       "      <td>The unique identification for individual user in the dataset</td>\n",
       "    </tr>\n",
       "    <tr>\n",
       "      <th>14</th>\n",
       "      <td>user_sentiment</td>\n",
       "      <td>The overall sentiment of the user for a particular product (Positive or Negative)</td>\n",
       "    </tr>\n",
       "  </tbody>\n",
       "</table>\n",
       "</div>"
      ],
      "text/plain": [
       "               Attribute  \\\n",
       "0                     id   \n",
       "1                  brand   \n",
       "2             categories   \n",
       "3           manufacturer   \n",
       "4                   name   \n",
       "5           reviews_date   \n",
       "6    reviews_didPurchase   \n",
       "7    reviews_doRecommend   \n",
       "8         reviews_rating   \n",
       "9           reviews_text   \n",
       "10         reviews_title   \n",
       "11      reviews_userCity   \n",
       "12  reviews_userProvince   \n",
       "13      reviews_username   \n",
       "14        user_sentiment   \n",
       "\n",
       "                                                                                                                                                                                                    Attribute Description  \n",
       "0                                                                                                         Uniques identity number to identify each unique review given by the user to a particular product in the dataset  \n",
       "1                                                                                                                                              Name of the brand of the product to which user has given review and rating  \n",
       "2   Category of the product like household essentials, books, personal care products, medicines, cosmetic items, beauty products, electrical appliances, kitchen and dining products, health care products and many more.  \n",
       "3                                                                                                                                                                                 Name of the manufacturer of the product  \n",
       "4                                                                                                                                                            Name of the product to which user has added review or rating  \n",
       "5                                                                                                                                                                     Date on which the review has been added by the user  \n",
       "6                                                                                                                                                              Whether a particular user has purchased the product or not  \n",
       "7                                                                                                                                                            Whether a particular user has recommended the product or not  \n",
       "8                                                                                                                                                                        Rating given by the user to a particular product  \n",
       "9                                                                                                                                                                        Review given by the user to a particular product  \n",
       "10                                                                                                                                                      The title of the review given by the user to a particular product  \n",
       "11                                                                                                                                                                                          The residing city of the user  \n",
       "12                                                                                                                                                                                      The residing province of the user  \n",
       "13                                                                                                                                                           The unique identification for individual user in the dataset  \n",
       "14                                                                                                                                      The overall sentiment of the user for a particular product (Positive or Negative)  "
      ]
     },
     "metadata": {},
     "output_type": "display_data"
    }
   ],
   "source": [
    "df_attributes = pd.read_csv(r'C:\\Users\\ADMIN\\Downloads\\Data+Attribute+Description.csv', encoding='latin-1')\n",
    "with pd.option_context('display.max_colwidth', None):\n",
    "    display(df_attributes)"
   ]
  },
  {
   "cell_type": "code",
   "execution_count": 8,
   "id": "d09ed0ff",
   "metadata": {},
   "outputs": [
    {
     "data": {
      "image/png": "[encoded data removed]",
      "text/plain": [
       "<Figure size 1080x360 with 1 Axes>"
      ]
     },
     "metadata": {
      "needs_background": "light"
     },
     "output_type": "display_data"
    }
   ],
   "source": [
    "plt.figure(figsize = (15,5))\n",
    "main_df.user_sentiment.value_counts(dropna=False).sort_values().plot(kind = 'barh')\n",
    "for index, value in enumerate(main_df.user_sentiment.value_counts(dropna=False).sort_values().values):\n",
    "    plt.text(value, index, str(value),verticalalignment='center',color='r',fontsize ='x-large')\n",
    "plt.title('user sentiment count')\n",
    "plt.show()"
   ]
  },
  {
   "cell_type": "markdown",
   "id": "1abb3e41",
   "metadata": {},
   "source": [
    "`We can see that we have class imbalance issue.`"
   ]
  },
  {
   "cell_type": "code",
   "execution_count": 9,
   "id": "ea1cce02",
   "metadata": {},
   "outputs": [
    {
     "data": {
      "image/png": "[encoded data removed]",
      "text/plain": [
       "<Figure size 1080x360 with 1 Axes>"
      ]
     },
     "metadata": {
      "needs_background": "light"
     },
     "output_type": "display_data"
    }
   ],
   "source": [
    "plt.figure(figsize = (15,5))\n",
    "main_df.reviews_rating.value_counts(dropna=False).sort_values().plot(kind = 'barh')\n",
    "for index, value in enumerate(main_df.reviews_rating.value_counts(dropna=False).sort_values().values):\n",
    "    plt.text(value, index, str(value),verticalalignment='center',color='r',fontsize ='x-large')\n",
    "plt.title('user rating count')\n",
    "plt.show()"
   ]
  },
  {
   "cell_type": "markdown",
   "id": "00408e6f",
   "metadata": {},
   "source": [
    "`Most of the ratings are 5-stars where as 2-stars are given the least number of times.`"
   ]
  },
  {
   "cell_type": "code",
   "execution_count": 10,
   "id": "3dee6b91",
   "metadata": {},
   "outputs": [
    {
     "data": {
      "image/png": "[encoded data removed]",
      "text/plain": [
       "<Figure size 720x720 with 1 Axes>"
      ]
     },
     "metadata": {
      "needs_background": "light"
     },
     "output_type": "display_data"
    }
   ],
   "source": [
    "# Reviews character length distribution\n",
    "review_len = [len(review) for review in main_df['reviews_text']]\n",
    "\n",
    "plt.figure(figsize=(10,10))\n",
    "sns.histplot(data=review_len,kde=True)\n",
    "plt.ylabel('Number of Reviews', fontsize=20)\n",
    "plt.xlabel('Review character length', fontsize=20)\n",
    "plt.title('Reviews character length distribution')\n",
    "plt.show()"
   ]
  },
  {
   "cell_type": "code",
   "execution_count": 11,
   "id": "1c179e0e",
   "metadata": {},
   "outputs": [
    {
     "data": {
      "image/png": "[encoded data removed]",
      "text/plain": [
       "<Figure size 1080x360 with 1 Axes>"
      ]
     },
     "metadata": {
      "needs_background": "light"
     },
     "output_type": "display_data"
    }
   ],
   "source": [
    "plt.figure(figsize=[15,5])\n",
    "sns.boxplot(data=review_len,orient='h')\n",
    "plt.yticks([])\n",
    "plt.xlabel('Review character length')\n",
    "plt.title('Reviews character length distribution')\n",
    "plt.show()"
   ]
  },
  {
   "cell_type": "markdown",
   "id": "2f6baa0c",
   "metadata": {},
   "source": [
    "`From the boxplot and histogram we can see that Reviews character length distribution is highly right skewed.`"
   ]
  },
  {
   "cell_type": "code",
   "execution_count": 12,
   "id": "546a2e38",
   "metadata": {},
   "outputs": [
    {
     "name": "stdout",
     "output_type": "stream",
     "text": [
      "Total unique product categories are : 270\n",
      "Total unique product brands are : 214\n",
      "Total unique products are : 271\n"
     ]
    }
   ],
   "source": [
    "print(f'Total unique product categories are : {main_df.categories.nunique(dropna=False)}')\n",
    "print(f'Total unique product brands are : {main_df.brand.nunique(dropna=False)}')\n",
    "print(f'Total unique products are : {main_df.name.nunique(dropna=False)}')"
   ]
  },
  {
   "cell_type": "code",
   "execution_count": null,
   "id": "a9c4899a",
   "metadata": {},
   "outputs": [],
   "source": []
  },
  {
   "cell_type": "markdown",
   "id": "1b2480c0",
   "metadata": {},
   "source": [
    "# sentiment-based product recommendation system\n",
    "* As per our problem statement we need to build two different models:\n",
    "    1. Product recommendation model\n",
    "    2. Sentiment classification model"
   ]
  },
  {
   "cell_type": "code",
   "execution_count": null,
   "id": "889d1287",
   "metadata": {},
   "outputs": [],
   "source": []
  },
  {
   "cell_type": "markdown",
   "id": "4cbd8099",
   "metadata": {},
   "source": [
    "## Task 1. Building collaborative filtering based product recommendation system:\n",
    "\n",
    "* Types of collaborative filtering based recommendation systems:\n",
    "    1. User-based recommendation system\n",
    "        * In user-based collaborative filtering, user will be recommended items that have been liked by other users who share similar tastes and preferences.\n",
    "    2. Item-based recommendation system\n",
    "        * Item-based recommendation filtering recommends items that are similar to the items that user may have already rated or liked/disliked. "
   ]
  },
  {
   "cell_type": "markdown",
   "id": "16f2ae08",
   "metadata": {},
   "source": [
    "* we will consider following relevent columns for building product recommendation model:\n",
    "    * reviews_username :- individual's unique username.\n",
    "    * reviews_rating :- rating given by the user to a particular product.\n",
    "    * name :- name of the product"
   ]
  },
  {
   "cell_type": "code",
   "execution_count": 13,
   "id": "1ecbf977",
   "metadata": {},
   "outputs": [
    {
     "data": {
      "text/html": [
       "<div>\n",
       "<style scoped>\n",
       "    .dataframe tbody tr th:only-of-type {\n",
       "        vertical-align: middle;\n",
       "    }\n",
       "\n",
       "    .dataframe tbody tr th {\n",
       "        vertical-align: top;\n",
       "    }\n",
       "\n",
       "    .dataframe thead th {\n",
       "        text-align: right;\n",
       "    }\n",
       "</style>\n",
       "<table border=\"1\" class=\"dataframe\">\n",
       "  <thead>\n",
       "    <tr style=\"text-align: right;\">\n",
       "      <th></th>\n",
       "      <th>brand</th>\n",
       "      <th>categories</th>\n",
       "      <th>manufacturer</th>\n",
       "      <th>name</th>\n",
       "      <th>reviews_rating</th>\n",
       "      <th>reviews_text</th>\n",
       "      <th>reviews_title</th>\n",
       "      <th>reviews_username</th>\n",
       "      <th>user_sentiment</th>\n",
       "    </tr>\n",
       "  </thead>\n",
       "  <tbody>\n",
       "    <tr>\n",
       "      <th>0</th>\n",
       "      <td>Universal Music</td>\n",
       "      <td>Movies, Music &amp; Books,Music,R&amp;b,Movies &amp; TV,Mo...</td>\n",
       "      <td>Universal Music Group / Cash Money</td>\n",
       "      <td>Pink Friday: Roman Reloaded Re-Up (w/dvd)</td>\n",
       "      <td>5</td>\n",
       "      <td>i love this album. it's very good. more to the...</td>\n",
       "      <td>Just Awesome</td>\n",
       "      <td>joshua</td>\n",
       "      <td>Positive</td>\n",
       "    </tr>\n",
       "    <tr>\n",
       "      <th>1</th>\n",
       "      <td>Lundberg</td>\n",
       "      <td>Food,Packaged Foods,Snacks,Crackers,Snacks, Co...</td>\n",
       "      <td>Lundberg</td>\n",
       "      <td>Lundberg Organic Cinnamon Toast Rice Cakes</td>\n",
       "      <td>5</td>\n",
       "      <td>Good flavor. This review was collected as part...</td>\n",
       "      <td>Good</td>\n",
       "      <td>dorothy w</td>\n",
       "      <td>Positive</td>\n",
       "    </tr>\n",
       "    <tr>\n",
       "      <th>2</th>\n",
       "      <td>Lundberg</td>\n",
       "      <td>Food,Packaged Foods,Snacks,Crackers,Snacks, Co...</td>\n",
       "      <td>Lundberg</td>\n",
       "      <td>Lundberg Organic Cinnamon Toast Rice Cakes</td>\n",
       "      <td>5</td>\n",
       "      <td>Good flavor.</td>\n",
       "      <td>Good</td>\n",
       "      <td>dorothy w</td>\n",
       "      <td>Positive</td>\n",
       "    </tr>\n",
       "    <tr>\n",
       "      <th>3</th>\n",
       "      <td>K-Y</td>\n",
       "      <td>Personal Care,Medicine Cabinet,Lubricant/Sperm...</td>\n",
       "      <td>K-Y</td>\n",
       "      <td>K-Y Love Sensuality Pleasure Gel</td>\n",
       "      <td>1</td>\n",
       "      <td>I read through the reviews on here before look...</td>\n",
       "      <td>Disappointed</td>\n",
       "      <td>rebecca</td>\n",
       "      <td>Negative</td>\n",
       "    </tr>\n",
       "    <tr>\n",
       "      <th>4</th>\n",
       "      <td>K-Y</td>\n",
       "      <td>Personal Care,Medicine Cabinet,Lubricant/Sperm...</td>\n",
       "      <td>K-Y</td>\n",
       "      <td>K-Y Love Sensuality Pleasure Gel</td>\n",
       "      <td>1</td>\n",
       "      <td>My husband bought this gel for us. The gel cau...</td>\n",
       "      <td>Irritation</td>\n",
       "      <td>walker557</td>\n",
       "      <td>Negative</td>\n",
       "    </tr>\n",
       "  </tbody>\n",
       "</table>\n",
       "</div>"
      ],
      "text/plain": [
       "             brand                                         categories  \\\n",
       "0  Universal Music  Movies, Music & Books,Music,R&b,Movies & TV,Mo...   \n",
       "1         Lundberg  Food,Packaged Foods,Snacks,Crackers,Snacks, Co...   \n",
       "2         Lundberg  Food,Packaged Foods,Snacks,Crackers,Snacks, Co...   \n",
       "3              K-Y  Personal Care,Medicine Cabinet,Lubricant/Sperm...   \n",
       "4              K-Y  Personal Care,Medicine Cabinet,Lubricant/Sperm...   \n",
       "\n",
       "                         manufacturer  \\\n",
       "0  Universal Music Group / Cash Money   \n",
       "1                            Lundberg   \n",
       "2                            Lundberg   \n",
       "3                                 K-Y   \n",
       "4                                 K-Y   \n",
       "\n",
       "                                         name  reviews_rating  \\\n",
       "0   Pink Friday: Roman Reloaded Re-Up (w/dvd)               5   \n",
       "1  Lundberg Organic Cinnamon Toast Rice Cakes               5   \n",
       "2  Lundberg Organic Cinnamon Toast Rice Cakes               5   \n",
       "3            K-Y Love Sensuality Pleasure Gel               1   \n",
       "4            K-Y Love Sensuality Pleasure Gel               1   \n",
       "\n",
       "                                        reviews_text reviews_title  \\\n",
       "0  i love this album. it's very good. more to the...  Just Awesome   \n",
       "1  Good flavor. This review was collected as part...          Good   \n",
       "2                                       Good flavor.          Good   \n",
       "3  I read through the reviews on here before look...  Disappointed   \n",
       "4  My husband bought this gel for us. The gel cau...    Irritation   \n",
       "\n",
       "  reviews_username user_sentiment  \n",
       "0           joshua       Positive  \n",
       "1        dorothy w       Positive  \n",
       "2        dorothy w       Positive  \n",
       "3          rebecca       Negative  \n",
       "4        walker557       Negative  "
      ]
     },
     "execution_count": 13,
     "metadata": {},
     "output_type": "execute_result"
    }
   ],
   "source": [
    "main_df_filtered = main_df.copy(deep=True)\n",
    "main_df_filtered.drop(columns=['id','reviews_date','reviews_didPurchase','reviews_doRecommend','reviews_userCity','reviews_userProvince'],inplace=True)\n",
    "main_df_filtered.head()"
   ]
  },
  {
   "cell_type": "code",
   "execution_count": 14,
   "id": "4f9286ac",
   "metadata": {},
   "outputs": [
    {
     "data": {
      "text/plain": [
       "279"
      ]
     },
     "execution_count": 14,
     "metadata": {},
     "output_type": "execute_result"
    }
   ],
   "source": [
    "# Checking for duplicate rows:\n",
    "main_df_filtered.duplicated().sum()"
   ]
  },
  {
   "cell_type": "code",
   "execution_count": 15,
   "id": "e35f7a92",
   "metadata": {},
   "outputs": [],
   "source": [
    "# Droping duplicate rows since they will not contribute any additional useful information. \n",
    "main_df_filtered.drop_duplicates(inplace=True)"
   ]
  },
  {
   "cell_type": "markdown",
   "id": "cc191074",
   "metadata": {},
   "source": [
    "Consider a scenario where user 'A' rates same product 'P' twice with same rating 'R' but with different reviews 'R1' and 'R2'. For the purpose of building recommendation system, these two records will be logically duplicate and thus will not offer any information diversity. This is because for building recommendation system, we only consider rating given by a particular user to a particular product. thus, review attribute will be irrelevent as long as 'A', 'P' and 'R' are same. On the other hand later in sentiment classification, review attribute will play major role."
   ]
  },
  {
   "cell_type": "code",
   "execution_count": 16,
   "id": "0924963b",
   "metadata": {},
   "outputs": [
    {
     "data": {
      "text/plain": [
       "1958"
      ]
     },
     "execution_count": 16,
     "metadata": {},
     "output_type": "execute_result"
    }
   ],
   "source": [
    "# Further inspecting duplicate values by above mentioned logic:\n",
    "main_df_filtered.duplicated(subset=['brand','categories','manufacturer','name','reviews_rating','reviews_username']).sum()"
   ]
  },
  {
   "cell_type": "code",
   "execution_count": 17,
   "id": "a41c414d",
   "metadata": {},
   "outputs": [],
   "source": [
    "# Droping duplicate values due to above mentioned logic:\n",
    "main_df_filtered.drop_duplicates(subset=['brand','categories','manufacturer','name','reviews_rating','reviews_username'],inplace=True)"
   ]
  },
  {
   "cell_type": "code",
   "execution_count": 18,
   "id": "f6243172",
   "metadata": {},
   "outputs": [
    {
     "name": "stdout",
     "output_type": "stream",
     "text": [
      "<class 'pandas.core.frame.DataFrame'>\n",
      "Int64Index: 27763 entries, 0 to 29999\n",
      "Data columns (total 9 columns):\n",
      " #   Column            Non-Null Count  Dtype \n",
      "---  ------            --------------  ----- \n",
      " 0   brand             27763 non-null  object\n",
      " 1   categories        27763 non-null  object\n",
      " 2   manufacturer      27622 non-null  object\n",
      " 3   name              27763 non-null  object\n",
      " 4   reviews_rating    27763 non-null  int64 \n",
      " 5   reviews_text      27763 non-null  object\n",
      " 6   reviews_title     27577 non-null  object\n",
      " 7   reviews_username  27739 non-null  object\n",
      " 8   user_sentiment    27762 non-null  object\n",
      "dtypes: int64(1), object(8)\n",
      "memory usage: 2.1+ MB\n"
     ]
    }
   ],
   "source": [
    "main_df_filtered.info()"
   ]
  },
  {
   "cell_type": "code",
   "execution_count": 19,
   "id": "39ba8fe7",
   "metadata": {},
   "outputs": [],
   "source": [
    "# Filtering dataframe resulting in relevent attributes only:\n",
    "main_df_filtered = main_df_filtered[['reviews_username','name','reviews_rating']]"
   ]
  },
  {
   "cell_type": "code",
   "execution_count": 20,
   "id": "16e5570c",
   "metadata": {},
   "outputs": [
    {
     "name": "stdout",
     "output_type": "stream",
     "text": [
      "<class 'pandas.core.frame.DataFrame'>\n",
      "Int64Index: 27763 entries, 0 to 29999\n",
      "Data columns (total 3 columns):\n",
      " #   Column            Non-Null Count  Dtype \n",
      "---  ------            --------------  ----- \n",
      " 0   reviews_username  27739 non-null  object\n",
      " 1   name              27763 non-null  object\n",
      " 2   reviews_rating    27763 non-null  int64 \n",
      "dtypes: int64(1), object(2)\n",
      "memory usage: 867.6+ KB\n"
     ]
    }
   ],
   "source": [
    "main_df_filtered.info()"
   ]
  },
  {
   "cell_type": "code",
   "execution_count": 21,
   "id": "d303e642",
   "metadata": {},
   "outputs": [
    {
     "data": {
      "text/html": [
       "<div>\n",
       "<style scoped>\n",
       "    .dataframe tbody tr th:only-of-type {\n",
       "        vertical-align: middle;\n",
       "    }\n",
       "\n",
       "    .dataframe tbody tr th {\n",
       "        vertical-align: top;\n",
       "    }\n",
       "\n",
       "    .dataframe thead th {\n",
       "        text-align: right;\n",
       "    }\n",
       "</style>\n",
       "<table border=\"1\" class=\"dataframe\">\n",
       "  <thead>\n",
       "    <tr style=\"text-align: right;\">\n",
       "      <th></th>\n",
       "      <th>reviews_username</th>\n",
       "      <th>name</th>\n",
       "      <th>reviews_rating</th>\n",
       "    </tr>\n",
       "  </thead>\n",
       "  <tbody>\n",
       "    <tr>\n",
       "      <th>1453</th>\n",
       "      <td>NaN</td>\n",
       "      <td>Way Basics 3-Shelf Eco Narrow Bookcase Storage...</td>\n",
       "      <td>4</td>\n",
       "    </tr>\n",
       "    <tr>\n",
       "      <th>1531</th>\n",
       "      <td>NaN</td>\n",
       "      <td>Yes To Carrots Nourishing Body Wash</td>\n",
       "      <td>5</td>\n",
       "    </tr>\n",
       "    <tr>\n",
       "      <th>1787</th>\n",
       "      <td>NaN</td>\n",
       "      <td>Clambake (dvd)</td>\n",
       "      <td>2</td>\n",
       "    </tr>\n",
       "    <tr>\n",
       "      <th>1792</th>\n",
       "      <td>NaN</td>\n",
       "      <td>Clambake (dvd)</td>\n",
       "      <td>4</td>\n",
       "    </tr>\n",
       "    <tr>\n",
       "      <th>1795</th>\n",
       "      <td>NaN</td>\n",
       "      <td>Clambake (dvd)</td>\n",
       "      <td>5</td>\n",
       "    </tr>\n",
       "    <tr>\n",
       "      <th>3472</th>\n",
       "      <td>NaN</td>\n",
       "      <td>Toy Story Kids' Woody Accessory Kit</td>\n",
       "      <td>1</td>\n",
       "    </tr>\n",
       "    <tr>\n",
       "      <th>4152</th>\n",
       "      <td>NaN</td>\n",
       "      <td>Hoover174 Platinum Collection153 Lightweight B...</td>\n",
       "      <td>1</td>\n",
       "    </tr>\n",
       "    <tr>\n",
       "      <th>4168</th>\n",
       "      <td>NaN</td>\n",
       "      <td>Hoover174 Platinum Collection153 Lightweight B...</td>\n",
       "      <td>2</td>\n",
       "    </tr>\n",
       "    <tr>\n",
       "      <th>4230</th>\n",
       "      <td>NaN</td>\n",
       "      <td>Hoover174 Platinum Collection153 Lightweight B...</td>\n",
       "      <td>4</td>\n",
       "    </tr>\n",
       "    <tr>\n",
       "      <th>4473</th>\n",
       "      <td>NaN</td>\n",
       "      <td>Hoover174 Platinum Collection153 Lightweight B...</td>\n",
       "      <td>5</td>\n",
       "    </tr>\n",
       "  </tbody>\n",
       "</table>\n",
       "</div>"
      ],
      "text/plain": [
       "     reviews_username                                               name  \\\n",
       "1453              NaN  Way Basics 3-Shelf Eco Narrow Bookcase Storage...   \n",
       "1531              NaN                Yes To Carrots Nourishing Body Wash   \n",
       "1787              NaN                                     Clambake (dvd)   \n",
       "1792              NaN                                     Clambake (dvd)   \n",
       "1795              NaN                                     Clambake (dvd)   \n",
       "3472              NaN                Toy Story Kids' Woody Accessory Kit   \n",
       "4152              NaN  Hoover174 Platinum Collection153 Lightweight B...   \n",
       "4168              NaN  Hoover174 Platinum Collection153 Lightweight B...   \n",
       "4230              NaN  Hoover174 Platinum Collection153 Lightweight B...   \n",
       "4473              NaN  Hoover174 Platinum Collection153 Lightweight B...   \n",
       "\n",
       "      reviews_rating  \n",
       "1453               4  \n",
       "1531               5  \n",
       "1787               2  \n",
       "1792               4  \n",
       "1795               5  \n",
       "3472               1  \n",
       "4152               1  \n",
       "4168               2  \n",
       "4230               4  \n",
       "4473               5  "
      ]
     },
     "execution_count": 21,
     "metadata": {},
     "output_type": "execute_result"
    }
   ],
   "source": [
    "# Inspecting few records containg null value in 'reviews_username' column:\n",
    "main_df_filtered[main_df_filtered.isnull().any(axis=1)][:10]"
   ]
  },
  {
   "cell_type": "code",
   "execution_count": 22,
   "id": "70b7574f",
   "metadata": {},
   "outputs": [
    {
     "data": {
      "text/plain": [
       "reviews_username    24\n",
       "name                 0\n",
       "reviews_rating       0\n",
       "dtype: int64"
      ]
     },
     "execution_count": 22,
     "metadata": {},
     "output_type": "execute_result"
    }
   ],
   "source": [
    "main_df_filtered.isnull().sum()"
   ]
  },
  {
   "cell_type": "markdown",
   "id": "40f0ed39",
   "metadata": {},
   "source": [
    "It is not clear whether these records correspond to single or distinct users. Since number of such records with missing username is low, We will drop these records instead of imputation, to avoid introducing any bias/misinformation to the dataset."
   ]
  },
  {
   "cell_type": "code",
   "execution_count": 23,
   "id": "a0d8c595",
   "metadata": {},
   "outputs": [
    {
     "name": "stdout",
     "output_type": "stream",
     "text": [
      "<class 'pandas.core.frame.DataFrame'>\n",
      "Int64Index: 27739 entries, 0 to 29999\n",
      "Data columns (total 3 columns):\n",
      " #   Column            Non-Null Count  Dtype \n",
      "---  ------            --------------  ----- \n",
      " 0   reviews_username  27739 non-null  object\n",
      " 1   name              27739 non-null  object\n",
      " 2   reviews_rating    27739 non-null  int64 \n",
      "dtypes: int64(1), object(2)\n",
      "memory usage: 866.8+ KB\n"
     ]
    }
   ],
   "source": [
    "main_df_filtered.dropna(inplace=True)\n",
    "main_df_filtered.info()"
   ]
  },
  {
   "cell_type": "code",
   "execution_count": 24,
   "id": "321e3598",
   "metadata": {},
   "outputs": [
    {
     "data": {
      "text/plain": [
       "0"
      ]
     },
     "execution_count": 24,
     "metadata": {},
     "output_type": "execute_result"
    }
   ],
   "source": [
    "# Checking for duplicates in final filtered dataframe:\n",
    "main_df_filtered.duplicated().sum()"
   ]
  },
  {
   "cell_type": "markdown",
   "id": "13b9d95a",
   "metadata": {},
   "source": [
    "#### Train-Test data split:"
   ]
  },
  {
   "cell_type": "code",
   "execution_count": 25,
   "id": "ac5c9c4e",
   "metadata": {},
   "outputs": [
    {
     "name": "stdout",
     "output_type": "stream",
     "text": [
      "(19417, 3)\n",
      "(8322, 3)\n"
     ]
    }
   ],
   "source": [
    "# Test and Train split of the dataset.\n",
    "from sklearn.model_selection import train_test_split\n",
    "train, test = train_test_split(main_df_filtered, test_size=0.30, random_state=10)\n",
    "\n",
    "print(train.shape)\n",
    "print(test.shape)"
   ]
  },
  {
   "cell_type": "markdown",
   "id": "3df07fc6",
   "metadata": {},
   "source": [
    "### 1.1 User-based recommendation system:"
   ]
  },
  {
   "cell_type": "code",
   "execution_count": 26,
   "id": "69b5a8eb",
   "metadata": {},
   "outputs": [
    {
     "data": {
      "text/html": [
       "<div>\n",
       "<style scoped>\n",
       "    .dataframe tbody tr th:only-of-type {\n",
       "        vertical-align: middle;\n",
       "    }\n",
       "\n",
       "    .dataframe tbody tr th {\n",
       "        vertical-align: top;\n",
       "    }\n",
       "\n",
       "    .dataframe thead th {\n",
       "        text-align: right;\n",
       "    }\n",
       "</style>\n",
       "<table border=\"1\" class=\"dataframe\">\n",
       "  <thead>\n",
       "    <tr style=\"text-align: right;\">\n",
       "      <th>name</th>\n",
       "      <th>0.6 Cu. Ft. Letter A4 Size Waterproof 30 Min. Fire File Chest</th>\n",
       "      <th>100:Complete First Season (blu-Ray)</th>\n",
       "      <th>2017-2018 Brownline174 Duraflex 14-Month Planner 8 1/2 X 11 Black</th>\n",
       "      <th>2x Ultra Era with Oxi Booster, 50fl oz</th>\n",
       "      <th>42 Dual Drop Leaf Table with 2 Madrid Chairs\"</th>\n",
       "      <th>4C Grated Parmesan Cheese 100% Natural 8oz Shaker</th>\n",
       "      <th>5302050 15/16 FCT/HOSE ADAPTOR</th>\n",
       "      <th>Africa's Best No-Lye Dual Conditioning Relaxer System Super</th>\n",
       "      <th>Alberto VO5 Salon Series Smooth Plus Sleek Shampoo</th>\n",
       "      <th>Alex Cross (dvdvideo)</th>\n",
       "      <th>...</th>\n",
       "      <th>Voortman Sugar Free Fudge Chocolate Chip Cookies</th>\n",
       "      <th>Wagan Smartac 80watt Inverter With Usb</th>\n",
       "      <th>Walkers Stem Ginger Shortbread</th>\n",
       "      <th>Way Basics 3-Shelf Eco Narrow Bookcase Storage Shelf, Espresso - Formaldehyde Free - Lifetime Guarantee</th>\n",
       "      <th>WeatherTech 40647 14-15 Outlander Cargo Liners Behind 2nd Row, Black</th>\n",
       "      <th>Weleda Everon Lip Balm</th>\n",
       "      <th>Wilton Black Dots Standard Baking Cups</th>\n",
       "      <th>Windex Original Glass Cleaner Refill 67.6oz (2 Liter)</th>\n",
       "      <th>Yes To Carrots Nourishing Body Wash</th>\n",
       "      <th>Yes To Grapefruit Rejuvenating Body Wash</th>\n",
       "    </tr>\n",
       "    <tr>\n",
       "      <th>reviews_username</th>\n",
       "      <th></th>\n",
       "      <th></th>\n",
       "      <th></th>\n",
       "      <th></th>\n",
       "      <th></th>\n",
       "      <th></th>\n",
       "      <th></th>\n",
       "      <th></th>\n",
       "      <th></th>\n",
       "      <th></th>\n",
       "      <th></th>\n",
       "      <th></th>\n",
       "      <th></th>\n",
       "      <th></th>\n",
       "      <th></th>\n",
       "      <th></th>\n",
       "      <th></th>\n",
       "      <th></th>\n",
       "      <th></th>\n",
       "      <th></th>\n",
       "      <th></th>\n",
       "    </tr>\n",
       "  </thead>\n",
       "  <tbody>\n",
       "    <tr>\n",
       "      <th>00dog3</th>\n",
       "      <td>0.0</td>\n",
       "      <td>0.0</td>\n",
       "      <td>0.0</td>\n",
       "      <td>0.0</td>\n",
       "      <td>0.0</td>\n",
       "      <td>0.0</td>\n",
       "      <td>0.0</td>\n",
       "      <td>0.0</td>\n",
       "      <td>0.0</td>\n",
       "      <td>0.0</td>\n",
       "      <td>...</td>\n",
       "      <td>0.0</td>\n",
       "      <td>0.0</td>\n",
       "      <td>0.0</td>\n",
       "      <td>0.0</td>\n",
       "      <td>0.0</td>\n",
       "      <td>0.0</td>\n",
       "      <td>0.0</td>\n",
       "      <td>0.0</td>\n",
       "      <td>0.0</td>\n",
       "      <td>0.0</td>\n",
       "    </tr>\n",
       "    <tr>\n",
       "      <th>00sab00</th>\n",
       "      <td>0.0</td>\n",
       "      <td>0.0</td>\n",
       "      <td>0.0</td>\n",
       "      <td>0.0</td>\n",
       "      <td>0.0</td>\n",
       "      <td>0.0</td>\n",
       "      <td>0.0</td>\n",
       "      <td>0.0</td>\n",
       "      <td>0.0</td>\n",
       "      <td>0.0</td>\n",
       "      <td>...</td>\n",
       "      <td>0.0</td>\n",
       "      <td>0.0</td>\n",
       "      <td>0.0</td>\n",
       "      <td>0.0</td>\n",
       "      <td>0.0</td>\n",
       "      <td>0.0</td>\n",
       "      <td>0.0</td>\n",
       "      <td>0.0</td>\n",
       "      <td>0.0</td>\n",
       "      <td>0.0</td>\n",
       "    </tr>\n",
       "    <tr>\n",
       "      <th>01impala</th>\n",
       "      <td>0.0</td>\n",
       "      <td>0.0</td>\n",
       "      <td>0.0</td>\n",
       "      <td>0.0</td>\n",
       "      <td>0.0</td>\n",
       "      <td>0.0</td>\n",
       "      <td>0.0</td>\n",
       "      <td>0.0</td>\n",
       "      <td>0.0</td>\n",
       "      <td>0.0</td>\n",
       "      <td>...</td>\n",
       "      <td>0.0</td>\n",
       "      <td>0.0</td>\n",
       "      <td>0.0</td>\n",
       "      <td>0.0</td>\n",
       "      <td>0.0</td>\n",
       "      <td>0.0</td>\n",
       "      <td>0.0</td>\n",
       "      <td>0.0</td>\n",
       "      <td>0.0</td>\n",
       "      <td>0.0</td>\n",
       "    </tr>\n",
       "  </tbody>\n",
       "</table>\n",
       "<p>3 rows × 253 columns</p>\n",
       "</div>"
      ],
      "text/plain": [
       "name              0.6 Cu. Ft. Letter A4 Size Waterproof 30 Min. Fire File Chest  \\\n",
       "reviews_username                                                                  \n",
       "00dog3                                                          0.0               \n",
       "00sab00                                                         0.0               \n",
       "01impala                                                        0.0               \n",
       "\n",
       "name              100:Complete First Season (blu-Ray)  \\\n",
       "reviews_username                                        \n",
       "00dog3                                            0.0   \n",
       "00sab00                                           0.0   \n",
       "01impala                                          0.0   \n",
       "\n",
       "name              2017-2018 Brownline174 Duraflex 14-Month Planner 8 1/2 X 11 Black  \\\n",
       "reviews_username                                                                      \n",
       "00dog3                                                          0.0                   \n",
       "00sab00                                                         0.0                   \n",
       "01impala                                                        0.0                   \n",
       "\n",
       "name              2x Ultra Era with Oxi Booster, 50fl oz  \\\n",
       "reviews_username                                           \n",
       "00dog3                                               0.0   \n",
       "00sab00                                              0.0   \n",
       "01impala                                             0.0   \n",
       "\n",
       "name              42 Dual Drop Leaf Table with 2 Madrid Chairs\"  \\\n",
       "reviews_username                                                  \n",
       "00dog3                                                      0.0   \n",
       "00sab00                                                     0.0   \n",
       "01impala                                                    0.0   \n",
       "\n",
       "name              4C Grated Parmesan Cheese 100% Natural 8oz Shaker  \\\n",
       "reviews_username                                                      \n",
       "00dog3                                                          0.0   \n",
       "00sab00                                                         0.0   \n",
       "01impala                                                        0.0   \n",
       "\n",
       "name              5302050 15/16 FCT/HOSE ADAPTOR  \\\n",
       "reviews_username                                   \n",
       "00dog3                                       0.0   \n",
       "00sab00                                      0.0   \n",
       "01impala                                     0.0   \n",
       "\n",
       "name              Africa's Best No-Lye Dual Conditioning Relaxer System Super  \\\n",
       "reviews_username                                                                \n",
       "00dog3                                                          0.0             \n",
       "00sab00                                                         0.0             \n",
       "01impala                                                        0.0             \n",
       "\n",
       "name              Alberto VO5 Salon Series Smooth Plus Sleek Shampoo  \\\n",
       "reviews_username                                                       \n",
       "00dog3                                                          0.0    \n",
       "00sab00                                                         0.0    \n",
       "01impala                                                        0.0    \n",
       "\n",
       "name              Alex Cross (dvdvideo)  ...  \\\n",
       "reviews_username                         ...   \n",
       "00dog3                              0.0  ...   \n",
       "00sab00                             0.0  ...   \n",
       "01impala                            0.0  ...   \n",
       "\n",
       "name              Voortman Sugar Free Fudge Chocolate Chip Cookies  \\\n",
       "reviews_username                                                     \n",
       "00dog3                                                         0.0   \n",
       "00sab00                                                        0.0   \n",
       "01impala                                                       0.0   \n",
       "\n",
       "name              Wagan Smartac 80watt Inverter With Usb  \\\n",
       "reviews_username                                           \n",
       "00dog3                                               0.0   \n",
       "00sab00                                              0.0   \n",
       "01impala                                             0.0   \n",
       "\n",
       "name              Walkers Stem Ginger Shortbread  \\\n",
       "reviews_username                                   \n",
       "00dog3                                       0.0   \n",
       "00sab00                                      0.0   \n",
       "01impala                                     0.0   \n",
       "\n",
       "name              Way Basics 3-Shelf Eco Narrow Bookcase Storage Shelf, Espresso - Formaldehyde Free - Lifetime Guarantee  \\\n",
       "reviews_username                                                                                                            \n",
       "00dog3                                                          0.0                                                         \n",
       "00sab00                                                         0.0                                                         \n",
       "01impala                                                        0.0                                                         \n",
       "\n",
       "name              WeatherTech 40647 14-15 Outlander Cargo Liners Behind 2nd Row, Black  \\\n",
       "reviews_username                                                                         \n",
       "00dog3                                                          0.0                      \n",
       "00sab00                                                         0.0                      \n",
       "01impala                                                        0.0                      \n",
       "\n",
       "name              Weleda Everon Lip Balm  \\\n",
       "reviews_username                           \n",
       "00dog3                               0.0   \n",
       "00sab00                              0.0   \n",
       "01impala                             0.0   \n",
       "\n",
       "name              Wilton Black Dots Standard Baking Cups  \\\n",
       "reviews_username                                           \n",
       "00dog3                                               0.0   \n",
       "00sab00                                              0.0   \n",
       "01impala                                             0.0   \n",
       "\n",
       "name              Windex Original Glass Cleaner Refill 67.6oz (2 Liter)  \\\n",
       "reviews_username                                                          \n",
       "00dog3                                                          0.0       \n",
       "00sab00                                                         0.0       \n",
       "01impala                                                        0.0       \n",
       "\n",
       "name              Yes To Carrots Nourishing Body Wash  \\\n",
       "reviews_username                                        \n",
       "00dog3                                            0.0   \n",
       "00sab00                                           0.0   \n",
       "01impala                                          0.0   \n",
       "\n",
       "name              Yes To Grapefruit Rejuvenating Body Wash  \n",
       "reviews_username                                            \n",
       "00dog3                                                 0.0  \n",
       "00sab00                                                0.0  \n",
       "01impala                                               0.0  \n",
       "\n",
       "[3 rows x 253 columns]"
      ]
     },
     "execution_count": 26,
     "metadata": {},
     "output_type": "execute_result"
    }
   ],
   "source": [
    "# Pivot the train ratings' dataset into matrix format in which columns are products and the rows are usernames.\n",
    "df_pivot = train.pivot_table( \n",
    "    index='reviews_username',\n",
    "    columns='name',\n",
    "    values='reviews_rating',\n",
    "    aggfunc = 'mean'\n",
    ").fillna(0)\n",
    "\n",
    "df_pivot.head(3)"
   ]
  },
  {
   "cell_type": "markdown",
   "id": "ad87bb25",
   "metadata": {},
   "source": [
    "#### Creating dummy train & dummy test dataset\n",
    "\n",
    "- Dummy train will be used later for prediction of the products which has not been rated by the user. To ignore the products rated by the user, we will mark it as 0 during prediction. The products not rated by user is marked as 1 for prediction in dummy train dataset. In other words we will place ‘1’ where there is no rating present and ‘0’ where there are ratings.\n",
    "\n",
    "- Dummy test will be used for evaluation. To evaluate, we will only make prediction on the products rated by the user. So, this is marked as 1. This is just opposite of dummy_train."
   ]
  },
  {
   "cell_type": "code",
   "execution_count": 27,
   "id": "7e1392c6",
   "metadata": {},
   "outputs": [
    {
     "data": {
      "text/html": [
       "<div>\n",
       "<style scoped>\n",
       "    .dataframe tbody tr th:only-of-type {\n",
       "        vertical-align: middle;\n",
       "    }\n",
       "\n",
       "    .dataframe tbody tr th {\n",
       "        vertical-align: top;\n",
       "    }\n",
       "\n",
       "    .dataframe thead th {\n",
       "        text-align: right;\n",
       "    }\n",
       "</style>\n",
       "<table border=\"1\" class=\"dataframe\">\n",
       "  <thead>\n",
       "    <tr style=\"text-align: right;\">\n",
       "      <th></th>\n",
       "      <th>reviews_username</th>\n",
       "      <th>name</th>\n",
       "      <th>reviews_rating</th>\n",
       "    </tr>\n",
       "  </thead>\n",
       "  <tbody>\n",
       "    <tr>\n",
       "      <th>7864</th>\n",
       "      <td>azchick</td>\n",
       "      <td>Clorox Disinfecting Wipes Value Pack Scented 1...</td>\n",
       "      <td>4</td>\n",
       "    </tr>\n",
       "    <tr>\n",
       "      <th>13478</th>\n",
       "      <td>auntieanna</td>\n",
       "      <td>Clorox Disinfecting Wipes Value Pack Scented 1...</td>\n",
       "      <td>5</td>\n",
       "    </tr>\n",
       "    <tr>\n",
       "      <th>5356</th>\n",
       "      <td>ezmny</td>\n",
       "      <td>The Resident Evil Collection 5 Discs (blu-Ray)</td>\n",
       "      <td>5</td>\n",
       "    </tr>\n",
       "    <tr>\n",
       "      <th>29081</th>\n",
       "      <td>cricri</td>\n",
       "      <td>L'or233al Paris Elvive Extraordinary Clay Reba...</td>\n",
       "      <td>4</td>\n",
       "    </tr>\n",
       "    <tr>\n",
       "      <th>27318</th>\n",
       "      <td>dennis</td>\n",
       "      <td>Planes: Fire Rescue (2 Discs) (includes Digita...</td>\n",
       "      <td>4</td>\n",
       "    </tr>\n",
       "  </tbody>\n",
       "</table>\n",
       "</div>"
      ],
      "text/plain": [
       "      reviews_username                                               name  \\\n",
       "7864           azchick  Clorox Disinfecting Wipes Value Pack Scented 1...   \n",
       "13478       auntieanna  Clorox Disinfecting Wipes Value Pack Scented 1...   \n",
       "5356             ezmny     The Resident Evil Collection 5 Discs (blu-Ray)   \n",
       "29081           cricri  L'or233al Paris Elvive Extraordinary Clay Reba...   \n",
       "27318           dennis  Planes: Fire Rescue (2 Discs) (includes Digita...   \n",
       "\n",
       "       reviews_rating  \n",
       "7864                4  \n",
       "13478               5  \n",
       "5356                5  \n",
       "29081               4  \n",
       "27318               4  "
      ]
     },
     "execution_count": 27,
     "metadata": {},
     "output_type": "execute_result"
    }
   ],
   "source": [
    "# Copy the train dataset into dummy_train\n",
    "dummy_train = train.copy(deep=True)\n",
    "dummy_train.head()"
   ]
  },
  {
   "cell_type": "code",
   "execution_count": 28,
   "id": "76b5a635",
   "metadata": {},
   "outputs": [],
   "source": [
    "# The products not rated by user is marked as 1 for prediction. \n",
    "dummy_train['reviews_rating'] = dummy_train['reviews_rating'].apply(lambda x: 0 if x>=1 else 1)"
   ]
  },
  {
   "cell_type": "code",
   "execution_count": 29,
   "id": "788a817e",
   "metadata": {},
   "outputs": [],
   "source": [
    "# Convert the dummy train dataset into matrix format.\n",
    "dummy_train = dummy_train.pivot_table(\n",
    "    index='reviews_username',\n",
    "    columns='name',\n",
    "    values='reviews_rating',\n",
    "    aggfunc = 'mean'\n",
    ").fillna(1)"
   ]
  },
  {
   "cell_type": "code",
   "execution_count": 30,
   "id": "79da2b35",
   "metadata": {},
   "outputs": [
    {
     "data": {
      "text/html": [
       "<div>\n",
       "<style scoped>\n",
       "    .dataframe tbody tr th:only-of-type {\n",
       "        vertical-align: middle;\n",
       "    }\n",
       "\n",
       "    .dataframe tbody tr th {\n",
       "        vertical-align: top;\n",
       "    }\n",
       "\n",
       "    .dataframe thead th {\n",
       "        text-align: right;\n",
       "    }\n",
       "</style>\n",
       "<table border=\"1\" class=\"dataframe\">\n",
       "  <thead>\n",
       "    <tr style=\"text-align: right;\">\n",
       "      <th>name</th>\n",
       "      <th>0.6 Cu. Ft. Letter A4 Size Waterproof 30 Min. Fire File Chest</th>\n",
       "      <th>100:Complete First Season (blu-Ray)</th>\n",
       "      <th>2017-2018 Brownline174 Duraflex 14-Month Planner 8 1/2 X 11 Black</th>\n",
       "      <th>2x Ultra Era with Oxi Booster, 50fl oz</th>\n",
       "      <th>42 Dual Drop Leaf Table with 2 Madrid Chairs\"</th>\n",
       "      <th>4C Grated Parmesan Cheese 100% Natural 8oz Shaker</th>\n",
       "      <th>5302050 15/16 FCT/HOSE ADAPTOR</th>\n",
       "      <th>Africa's Best No-Lye Dual Conditioning Relaxer System Super</th>\n",
       "      <th>Alberto VO5 Salon Series Smooth Plus Sleek Shampoo</th>\n",
       "      <th>Alex Cross (dvdvideo)</th>\n",
       "      <th>...</th>\n",
       "      <th>Voortman Sugar Free Fudge Chocolate Chip Cookies</th>\n",
       "      <th>Wagan Smartac 80watt Inverter With Usb</th>\n",
       "      <th>Walkers Stem Ginger Shortbread</th>\n",
       "      <th>Way Basics 3-Shelf Eco Narrow Bookcase Storage Shelf, Espresso - Formaldehyde Free - Lifetime Guarantee</th>\n",
       "      <th>WeatherTech 40647 14-15 Outlander Cargo Liners Behind 2nd Row, Black</th>\n",
       "      <th>Weleda Everon Lip Balm</th>\n",
       "      <th>Wilton Black Dots Standard Baking Cups</th>\n",
       "      <th>Windex Original Glass Cleaner Refill 67.6oz (2 Liter)</th>\n",
       "      <th>Yes To Carrots Nourishing Body Wash</th>\n",
       "      <th>Yes To Grapefruit Rejuvenating Body Wash</th>\n",
       "    </tr>\n",
       "    <tr>\n",
       "      <th>reviews_username</th>\n",
       "      <th></th>\n",
       "      <th></th>\n",
       "      <th></th>\n",
       "      <th></th>\n",
       "      <th></th>\n",
       "      <th></th>\n",
       "      <th></th>\n",
       "      <th></th>\n",
       "      <th></th>\n",
       "      <th></th>\n",
       "      <th></th>\n",
       "      <th></th>\n",
       "      <th></th>\n",
       "      <th></th>\n",
       "      <th></th>\n",
       "      <th></th>\n",
       "      <th></th>\n",
       "      <th></th>\n",
       "      <th></th>\n",
       "      <th></th>\n",
       "      <th></th>\n",
       "    </tr>\n",
       "  </thead>\n",
       "  <tbody>\n",
       "    <tr>\n",
       "      <th>00dog3</th>\n",
       "      <td>1.0</td>\n",
       "      <td>1.0</td>\n",
       "      <td>1.0</td>\n",
       "      <td>1.0</td>\n",
       "      <td>1.0</td>\n",
       "      <td>1.0</td>\n",
       "      <td>1.0</td>\n",
       "      <td>1.0</td>\n",
       "      <td>1.0</td>\n",
       "      <td>1.0</td>\n",
       "      <td>...</td>\n",
       "      <td>1.0</td>\n",
       "      <td>1.0</td>\n",
       "      <td>1.0</td>\n",
       "      <td>1.0</td>\n",
       "      <td>1.0</td>\n",
       "      <td>1.0</td>\n",
       "      <td>1.0</td>\n",
       "      <td>1.0</td>\n",
       "      <td>1.0</td>\n",
       "      <td>1.0</td>\n",
       "    </tr>\n",
       "    <tr>\n",
       "      <th>00sab00</th>\n",
       "      <td>1.0</td>\n",
       "      <td>1.0</td>\n",
       "      <td>1.0</td>\n",
       "      <td>1.0</td>\n",
       "      <td>1.0</td>\n",
       "      <td>1.0</td>\n",
       "      <td>1.0</td>\n",
       "      <td>1.0</td>\n",
       "      <td>1.0</td>\n",
       "      <td>1.0</td>\n",
       "      <td>...</td>\n",
       "      <td>1.0</td>\n",
       "      <td>1.0</td>\n",
       "      <td>1.0</td>\n",
       "      <td>1.0</td>\n",
       "      <td>1.0</td>\n",
       "      <td>1.0</td>\n",
       "      <td>1.0</td>\n",
       "      <td>1.0</td>\n",
       "      <td>1.0</td>\n",
       "      <td>1.0</td>\n",
       "    </tr>\n",
       "    <tr>\n",
       "      <th>01impala</th>\n",
       "      <td>1.0</td>\n",
       "      <td>1.0</td>\n",
       "      <td>1.0</td>\n",
       "      <td>1.0</td>\n",
       "      <td>1.0</td>\n",
       "      <td>1.0</td>\n",
       "      <td>1.0</td>\n",
       "      <td>1.0</td>\n",
       "      <td>1.0</td>\n",
       "      <td>1.0</td>\n",
       "      <td>...</td>\n",
       "      <td>1.0</td>\n",
       "      <td>1.0</td>\n",
       "      <td>1.0</td>\n",
       "      <td>1.0</td>\n",
       "      <td>1.0</td>\n",
       "      <td>1.0</td>\n",
       "      <td>1.0</td>\n",
       "      <td>1.0</td>\n",
       "      <td>1.0</td>\n",
       "      <td>1.0</td>\n",
       "    </tr>\n",
       "    <tr>\n",
       "      <th>02dakota</th>\n",
       "      <td>1.0</td>\n",
       "      <td>1.0</td>\n",
       "      <td>1.0</td>\n",
       "      <td>1.0</td>\n",
       "      <td>1.0</td>\n",
       "      <td>1.0</td>\n",
       "      <td>1.0</td>\n",
       "      <td>1.0</td>\n",
       "      <td>1.0</td>\n",
       "      <td>1.0</td>\n",
       "      <td>...</td>\n",
       "      <td>1.0</td>\n",
       "      <td>1.0</td>\n",
       "      <td>1.0</td>\n",
       "      <td>1.0</td>\n",
       "      <td>1.0</td>\n",
       "      <td>1.0</td>\n",
       "      <td>1.0</td>\n",
       "      <td>1.0</td>\n",
       "      <td>1.0</td>\n",
       "      <td>1.0</td>\n",
       "    </tr>\n",
       "    <tr>\n",
       "      <th>02deuce</th>\n",
       "      <td>1.0</td>\n",
       "      <td>1.0</td>\n",
       "      <td>1.0</td>\n",
       "      <td>1.0</td>\n",
       "      <td>1.0</td>\n",
       "      <td>1.0</td>\n",
       "      <td>1.0</td>\n",
       "      <td>1.0</td>\n",
       "      <td>1.0</td>\n",
       "      <td>1.0</td>\n",
       "      <td>...</td>\n",
       "      <td>1.0</td>\n",
       "      <td>1.0</td>\n",
       "      <td>1.0</td>\n",
       "      <td>1.0</td>\n",
       "      <td>1.0</td>\n",
       "      <td>1.0</td>\n",
       "      <td>1.0</td>\n",
       "      <td>1.0</td>\n",
       "      <td>1.0</td>\n",
       "      <td>1.0</td>\n",
       "    </tr>\n",
       "  </tbody>\n",
       "</table>\n",
       "<p>5 rows × 253 columns</p>\n",
       "</div>"
      ],
      "text/plain": [
       "name              0.6 Cu. Ft. Letter A4 Size Waterproof 30 Min. Fire File Chest  \\\n",
       "reviews_username                                                                  \n",
       "00dog3                                                          1.0               \n",
       "00sab00                                                         1.0               \n",
       "01impala                                                        1.0               \n",
       "02dakota                                                        1.0               \n",
       "02deuce                                                         1.0               \n",
       "\n",
       "name              100:Complete First Season (blu-Ray)  \\\n",
       "reviews_username                                        \n",
       "00dog3                                            1.0   \n",
       "00sab00                                           1.0   \n",
       "01impala                                          1.0   \n",
       "02dakota                                          1.0   \n",
       "02deuce                                           1.0   \n",
       "\n",
       "name              2017-2018 Brownline174 Duraflex 14-Month Planner 8 1/2 X 11 Black  \\\n",
       "reviews_username                                                                      \n",
       "00dog3                                                          1.0                   \n",
       "00sab00                                                         1.0                   \n",
       "01impala                                                        1.0                   \n",
       "02dakota                                                        1.0                   \n",
       "02deuce                                                         1.0                   \n",
       "\n",
       "name              2x Ultra Era with Oxi Booster, 50fl oz  \\\n",
       "reviews_username                                           \n",
       "00dog3                                               1.0   \n",
       "00sab00                                              1.0   \n",
       "01impala                                             1.0   \n",
       "02dakota                                             1.0   \n",
       "02deuce                                              1.0   \n",
       "\n",
       "name              42 Dual Drop Leaf Table with 2 Madrid Chairs\"  \\\n",
       "reviews_username                                                  \n",
       "00dog3                                                      1.0   \n",
       "00sab00                                                     1.0   \n",
       "01impala                                                    1.0   \n",
       "02dakota                                                    1.0   \n",
       "02deuce                                                     1.0   \n",
       "\n",
       "name              4C Grated Parmesan Cheese 100% Natural 8oz Shaker  \\\n",
       "reviews_username                                                      \n",
       "00dog3                                                          1.0   \n",
       "00sab00                                                         1.0   \n",
       "01impala                                                        1.0   \n",
       "02dakota                                                        1.0   \n",
       "02deuce                                                         1.0   \n",
       "\n",
       "name              5302050 15/16 FCT/HOSE ADAPTOR  \\\n",
       "reviews_username                                   \n",
       "00dog3                                       1.0   \n",
       "00sab00                                      1.0   \n",
       "01impala                                     1.0   \n",
       "02dakota                                     1.0   \n",
       "02deuce                                      1.0   \n",
       "\n",
       "name              Africa's Best No-Lye Dual Conditioning Relaxer System Super  \\\n",
       "reviews_username                                                                \n",
       "00dog3                                                          1.0             \n",
       "00sab00                                                         1.0             \n",
       "01impala                                                        1.0             \n",
       "02dakota                                                        1.0             \n",
       "02deuce                                                         1.0             \n",
       "\n",
       "name              Alberto VO5 Salon Series Smooth Plus Sleek Shampoo  \\\n",
       "reviews_username                                                       \n",
       "00dog3                                                          1.0    \n",
       "00sab00                                                         1.0    \n",
       "01impala                                                        1.0    \n",
       "02dakota                                                        1.0    \n",
       "02deuce                                                         1.0    \n",
       "\n",
       "name              Alex Cross (dvdvideo)  ...  \\\n",
       "reviews_username                         ...   \n",
       "00dog3                              1.0  ...   \n",
       "00sab00                             1.0  ...   \n",
       "01impala                            1.0  ...   \n",
       "02dakota                            1.0  ...   \n",
       "02deuce                             1.0  ...   \n",
       "\n",
       "name              Voortman Sugar Free Fudge Chocolate Chip Cookies  \\\n",
       "reviews_username                                                     \n",
       "00dog3                                                         1.0   \n",
       "00sab00                                                        1.0   \n",
       "01impala                                                       1.0   \n",
       "02dakota                                                       1.0   \n",
       "02deuce                                                        1.0   \n",
       "\n",
       "name              Wagan Smartac 80watt Inverter With Usb  \\\n",
       "reviews_username                                           \n",
       "00dog3                                               1.0   \n",
       "00sab00                                              1.0   \n",
       "01impala                                             1.0   \n",
       "02dakota                                             1.0   \n",
       "02deuce                                              1.0   \n",
       "\n",
       "name              Walkers Stem Ginger Shortbread  \\\n",
       "reviews_username                                   \n",
       "00dog3                                       1.0   \n",
       "00sab00                                      1.0   \n",
       "01impala                                     1.0   \n",
       "02dakota                                     1.0   \n",
       "02deuce                                      1.0   \n",
       "\n",
       "name              Way Basics 3-Shelf Eco Narrow Bookcase Storage Shelf, Espresso - Formaldehyde Free - Lifetime Guarantee  \\\n",
       "reviews_username                                                                                                            \n",
       "00dog3                                                          1.0                                                         \n",
       "00sab00                                                         1.0                                                         \n",
       "01impala                                                        1.0                                                         \n",
       "02dakota                                                        1.0                                                         \n",
       "02deuce                                                         1.0                                                         \n",
       "\n",
       "name              WeatherTech 40647 14-15 Outlander Cargo Liners Behind 2nd Row, Black  \\\n",
       "reviews_username                                                                         \n",
       "00dog3                                                          1.0                      \n",
       "00sab00                                                         1.0                      \n",
       "01impala                                                        1.0                      \n",
       "02dakota                                                        1.0                      \n",
       "02deuce                                                         1.0                      \n",
       "\n",
       "name              Weleda Everon Lip Balm  \\\n",
       "reviews_username                           \n",
       "00dog3                               1.0   \n",
       "00sab00                              1.0   \n",
       "01impala                             1.0   \n",
       "02dakota                             1.0   \n",
       "02deuce                              1.0   \n",
       "\n",
       "name              Wilton Black Dots Standard Baking Cups  \\\n",
       "reviews_username                                           \n",
       "00dog3                                               1.0   \n",
       "00sab00                                              1.0   \n",
       "01impala                                             1.0   \n",
       "02dakota                                             1.0   \n",
       "02deuce                                              1.0   \n",
       "\n",
       "name              Windex Original Glass Cleaner Refill 67.6oz (2 Liter)  \\\n",
       "reviews_username                                                          \n",
       "00dog3                                                          1.0       \n",
       "00sab00                                                         1.0       \n",
       "01impala                                                        1.0       \n",
       "02dakota                                                        1.0       \n",
       "02deuce                                                         1.0       \n",
       "\n",
       "name              Yes To Carrots Nourishing Body Wash  \\\n",
       "reviews_username                                        \n",
       "00dog3                                            1.0   \n",
       "00sab00                                           1.0   \n",
       "01impala                                          1.0   \n",
       "02dakota                                          1.0   \n",
       "02deuce                                           1.0   \n",
       "\n",
       "name              Yes To Grapefruit Rejuvenating Body Wash  \n",
       "reviews_username                                            \n",
       "00dog3                                                 1.0  \n",
       "00sab00                                                1.0  \n",
       "01impala                                               1.0  \n",
       "02dakota                                               1.0  \n",
       "02deuce                                                1.0  \n",
       "\n",
       "[5 rows x 253 columns]"
      ]
     },
     "execution_count": 30,
     "metadata": {},
     "output_type": "execute_result"
    }
   ],
   "source": [
    "dummy_train.head()"
   ]
  },
  {
   "cell_type": "markdown",
   "id": "48aaf4c4",
   "metadata": {
    "id": "Hhn3tGtCExdG"
   },
   "source": [
    "### Using cosine similarity:\n",
    "Since the matrix is very sparse matrix i.e. most of the users have rated a single product only, thus, in this case adjusted cosine does not exist for such users with themselves. `Thus we have used the cosine similarity to get the similarity between the users for simplicity.`\n",
    "* cosine similarity - If the angle between their respective vectors is less, then there will be more similarity between the users, and if the angle between the vectors is more, then there will be less similarity between those users.\n"
   ]
  },
  {
   "cell_type": "code",
   "execution_count": 31,
   "id": "96a988f6",
   "metadata": {},
   "outputs": [
    {
     "data": {
      "text/plain": [
       "17849"
      ]
     },
     "execution_count": 31,
     "metadata": {},
     "output_type": "execute_result"
    }
   ],
   "source": [
    "df_pivot.index.nunique()"
   ]
  },
  {
   "cell_type": "code",
   "execution_count": 32,
   "id": "bcbb8b95",
   "metadata": {},
   "outputs": [
    {
     "name": "stdout",
     "output_type": "stream",
     "text": [
      "[[1.        0.        0.        ... 0.        0.        0.       ]\n",
      " [0.        1.        0.        ... 0.        0.9486833 0.       ]\n",
      " [0.        0.        1.        ... 0.        0.        0.       ]\n",
      " ...\n",
      " [0.        0.        0.        ... 1.        0.        1.       ]\n",
      " [0.        0.9486833 0.        ... 0.        1.        0.       ]\n",
      " [0.        0.        0.        ... 1.        0.        1.       ]]\n"
     ]
    }
   ],
   "source": [
    "# Creating the User Similarity Matrix using pairwise_distance function.\n",
    "user_correlation = 1 - pairwise_distances(df_pivot, metric='cosine')\n",
    "user_correlation[np.isnan(user_correlation)] = 0\n",
    "print(user_correlation)"
   ]
  },
  {
   "cell_type": "code",
   "execution_count": 33,
   "id": "ffb03de4",
   "metadata": {},
   "outputs": [
    {
     "data": {
      "text/plain": [
       "(17849, 17849)"
      ]
     },
     "execution_count": 33,
     "metadata": {},
     "output_type": "execute_result"
    }
   ],
   "source": [
    "user_correlation.shape"
   ]
  },
  {
   "cell_type": "markdown",
   "id": "02593a11",
   "metadata": {
    "id": "ZclauxcCExdH"
   },
   "source": [
    "### Prediction - User based Collaborative Filtering"
   ]
  },
  {
   "cell_type": "markdown",
   "id": "303c7d6a",
   "metadata": {
    "id": "1Gv7jXwsExdH"
   },
   "source": [
    "Doing the prediction for the users which are positively related with other users, and not the users which are negatively related as we are interested in the users which are more similar to the current users. So, ignoring the correlation for values less than 0. "
   ]
  },
  {
   "cell_type": "code",
   "execution_count": 34,
   "id": "ce1f77ad",
   "metadata": {
    "colab": {
     "base_uri": "https://localhost:8080/"
    },
    "executionInfo": {
     "elapsed": 554,
     "status": "ok",
     "timestamp": 1647755863411,
     "user": {
      "displayName": "Harish Kumar",
      "photoUrl": "https://lh3.googleusercontent.com/a/default-user=s64",
      "userId": "06640646465396470949"
     },
     "user_tz": -330
    },
    "id": "fY1304VMExdH",
    "outputId": "1ad03b9d-0423-4f18-c999-d8d274852756"
   },
   "outputs": [
    {
     "data": {
      "text/plain": [
       "array([[1.       , 0.       , 0.       , ..., 0.       , 0.       ,\n",
       "        0.       ],\n",
       "       [0.       , 1.       , 0.       , ..., 0.       , 0.9486833,\n",
       "        0.       ],\n",
       "       [0.       , 0.       , 1.       , ..., 0.       , 0.       ,\n",
       "        0.       ],\n",
       "       ...,\n",
       "       [0.       , 0.       , 0.       , ..., 1.       , 0.       ,\n",
       "        1.       ],\n",
       "       [0.       , 0.9486833, 0.       , ..., 0.       , 1.       ,\n",
       "        0.       ],\n",
       "       [0.       , 0.       , 0.       , ..., 1.       , 0.       ,\n",
       "        1.       ]])"
      ]
     },
     "execution_count": 34,
     "metadata": {},
     "output_type": "execute_result"
    }
   ],
   "source": [
    "user_correlation[user_correlation<0]=0\n",
    "user_correlation"
   ]
  },
  {
   "cell_type": "markdown",
   "id": "cd7e68cf",
   "metadata": {
    "id": "TjdiwJIzExdI"
   },
   "source": [
    "Rating predicted by the user (for products rated as well as not rated) is the weighted sum of correlation with the product rating (as present in the rating dataset). "
   ]
  },
  {
   "cell_type": "code",
   "execution_count": 35,
   "id": "32740074",
   "metadata": {
    "colab": {
     "base_uri": "https://localhost:8080/"
    },
    "executionInfo": {
     "elapsed": 4112,
     "status": "ok",
     "timestamp": 1647755882718,
     "user": {
      "displayName": "Harish Kumar",
      "photoUrl": "https://lh3.googleusercontent.com/a/default-user=s64",
      "userId": "06640646465396470949"
     },
     "user_tz": -330
    },
    "id": "9OqMKQHSExdI",
    "outputId": "efa68089-51ee-4972-f01f-b70804bf91a4"
   },
   "outputs": [
    {
     "data": {
      "text/plain": [
       "array([[ 0.        ,  0.        ,  0.        , ...,  1.66297526,\n",
       "         0.        ,  0.        ],\n",
       "       [ 0.        ,  1.80722895,  0.        , ..., 12.33229865,\n",
       "         2.73861279,  1.35506186],\n",
       "       [ 0.        , 28.40663797,  0.        , ..., 20.60501165,\n",
       "         0.        ,  0.48867778],\n",
       "       ...,\n",
       "       [ 0.        ,  8.27280174,  0.        , ...,  7.34581196,\n",
       "         2.62071209,  0.        ],\n",
       "       [ 0.        ,  0.73507667,  0.        , ..., 10.31471615,\n",
       "         2.88675135,  1.22474487],\n",
       "       [ 0.        ,  8.27280174,  0.        , ...,  7.34581196,\n",
       "         2.62071209,  0.        ]])"
      ]
     },
     "execution_count": 35,
     "metadata": {},
     "output_type": "execute_result"
    }
   ],
   "source": [
    "#this is dot product of corelated matrix and user-iiem matrix\n",
    "user_predicted_ratings = np.dot(user_correlation, df_pivot.fillna(0))\n",
    "user_predicted_ratings"
   ]
  },
  {
   "cell_type": "code",
   "execution_count": 36,
   "id": "9f2c1e16",
   "metadata": {
    "colab": {
     "base_uri": "https://localhost:8080/"
    },
    "executionInfo": {
     "elapsed": 601,
     "status": "ok",
     "timestamp": 1647755889287,
     "user": {
      "displayName": "Harish Kumar",
      "photoUrl": "https://lh3.googleusercontent.com/a/default-user=s64",
      "userId": "06640646465396470949"
     },
     "user_tz": -330
    },
    "id": "M5ZIjVkQExdI",
    "outputId": "057c8bab-e5a3-4605-85a3-63f4ae8a0fcd"
   },
   "outputs": [
    {
     "data": {
      "text/plain": [
       "(17849, 253)"
      ]
     },
     "execution_count": 36,
     "metadata": {},
     "output_type": "execute_result"
    }
   ],
   "source": [
    "user_predicted_ratings.shape"
   ]
  },
  {
   "cell_type": "markdown",
   "id": "f22ec55d",
   "metadata": {
    "id": "w2WW_MKlExdI"
   },
   "source": [
    "Since we are interested only in the products not rated by the user, we will ignore the products rated by the user by making it zero. "
   ]
  },
  {
   "cell_type": "code",
   "execution_count": 37,
   "id": "1644d957",
   "metadata": {
    "colab": {
     "base_uri": "https://localhost:8080/",
     "height": 331
    },
    "executionInfo": {
     "elapsed": 572,
     "status": "ok",
     "timestamp": 1647755904899,
     "user": {
      "displayName": "Harish Kumar",
      "photoUrl": "https://lh3.googleusercontent.com/a/default-user=s64",
      "userId": "06640646465396470949"
     },
     "user_tz": -330
    },
    "id": "4MYZss5bExdI",
    "outputId": "ec013fd2-afc3-48ce-f7a9-d97cff859c19"
   },
   "outputs": [
    {
     "data": {
      "text/html": [
       "<div>\n",
       "<style scoped>\n",
       "    .dataframe tbody tr th:only-of-type {\n",
       "        vertical-align: middle;\n",
       "    }\n",
       "\n",
       "    .dataframe tbody tr th {\n",
       "        vertical-align: top;\n",
       "    }\n",
       "\n",
       "    .dataframe thead th {\n",
       "        text-align: right;\n",
       "    }\n",
       "</style>\n",
       "<table border=\"1\" class=\"dataframe\">\n",
       "  <thead>\n",
       "    <tr style=\"text-align: right;\">\n",
       "      <th>name</th>\n",
       "      <th>0.6 Cu. Ft. Letter A4 Size Waterproof 30 Min. Fire File Chest</th>\n",
       "      <th>100:Complete First Season (blu-Ray)</th>\n",
       "      <th>2017-2018 Brownline174 Duraflex 14-Month Planner 8 1/2 X 11 Black</th>\n",
       "      <th>2x Ultra Era with Oxi Booster, 50fl oz</th>\n",
       "      <th>42 Dual Drop Leaf Table with 2 Madrid Chairs\"</th>\n",
       "      <th>4C Grated Parmesan Cheese 100% Natural 8oz Shaker</th>\n",
       "      <th>5302050 15/16 FCT/HOSE ADAPTOR</th>\n",
       "      <th>Africa's Best No-Lye Dual Conditioning Relaxer System Super</th>\n",
       "      <th>Alberto VO5 Salon Series Smooth Plus Sleek Shampoo</th>\n",
       "      <th>Alex Cross (dvdvideo)</th>\n",
       "      <th>...</th>\n",
       "      <th>Voortman Sugar Free Fudge Chocolate Chip Cookies</th>\n",
       "      <th>Wagan Smartac 80watt Inverter With Usb</th>\n",
       "      <th>Walkers Stem Ginger Shortbread</th>\n",
       "      <th>Way Basics 3-Shelf Eco Narrow Bookcase Storage Shelf, Espresso - Formaldehyde Free - Lifetime Guarantee</th>\n",
       "      <th>WeatherTech 40647 14-15 Outlander Cargo Liners Behind 2nd Row, Black</th>\n",
       "      <th>Weleda Everon Lip Balm</th>\n",
       "      <th>Wilton Black Dots Standard Baking Cups</th>\n",
       "      <th>Windex Original Glass Cleaner Refill 67.6oz (2 Liter)</th>\n",
       "      <th>Yes To Carrots Nourishing Body Wash</th>\n",
       "      <th>Yes To Grapefruit Rejuvenating Body Wash</th>\n",
       "    </tr>\n",
       "    <tr>\n",
       "      <th>reviews_username</th>\n",
       "      <th></th>\n",
       "      <th></th>\n",
       "      <th></th>\n",
       "      <th></th>\n",
       "      <th></th>\n",
       "      <th></th>\n",
       "      <th></th>\n",
       "      <th></th>\n",
       "      <th></th>\n",
       "      <th></th>\n",
       "      <th></th>\n",
       "      <th></th>\n",
       "      <th></th>\n",
       "      <th></th>\n",
       "      <th></th>\n",
       "      <th></th>\n",
       "      <th></th>\n",
       "      <th></th>\n",
       "      <th></th>\n",
       "      <th></th>\n",
       "      <th></th>\n",
       "    </tr>\n",
       "  </thead>\n",
       "  <tbody>\n",
       "    <tr>\n",
       "      <th>00dog3</th>\n",
       "      <td>0.0</td>\n",
       "      <td>0.000000</td>\n",
       "      <td>0.0</td>\n",
       "      <td>0.0</td>\n",
       "      <td>0.000000</td>\n",
       "      <td>0.0</td>\n",
       "      <td>0.0</td>\n",
       "      <td>0.0</td>\n",
       "      <td>0.0</td>\n",
       "      <td>2.461830</td>\n",
       "      <td>...</td>\n",
       "      <td>0.0</td>\n",
       "      <td>0.00000</td>\n",
       "      <td>0.0</td>\n",
       "      <td>0.000000</td>\n",
       "      <td>0.000000</td>\n",
       "      <td>0.0</td>\n",
       "      <td>0.0</td>\n",
       "      <td>1.662975</td>\n",
       "      <td>0.000000</td>\n",
       "      <td>0.000000</td>\n",
       "    </tr>\n",
       "    <tr>\n",
       "      <th>00sab00</th>\n",
       "      <td>0.0</td>\n",
       "      <td>1.807229</td>\n",
       "      <td>0.0</td>\n",
       "      <td>0.0</td>\n",
       "      <td>2.738613</td>\n",
       "      <td>0.0</td>\n",
       "      <td>0.0</td>\n",
       "      <td>0.0</td>\n",
       "      <td>0.0</td>\n",
       "      <td>1.689575</td>\n",
       "      <td>...</td>\n",
       "      <td>0.0</td>\n",
       "      <td>0.00000</td>\n",
       "      <td>0.0</td>\n",
       "      <td>2.240496</td>\n",
       "      <td>0.420239</td>\n",
       "      <td>0.0</td>\n",
       "      <td>0.0</td>\n",
       "      <td>12.332299</td>\n",
       "      <td>2.738613</td>\n",
       "      <td>1.355062</td>\n",
       "    </tr>\n",
       "    <tr>\n",
       "      <th>01impala</th>\n",
       "      <td>0.0</td>\n",
       "      <td>28.406638</td>\n",
       "      <td>0.0</td>\n",
       "      <td>0.0</td>\n",
       "      <td>0.000000</td>\n",
       "      <td>0.0</td>\n",
       "      <td>0.0</td>\n",
       "      <td>0.0</td>\n",
       "      <td>0.0</td>\n",
       "      <td>6.706415</td>\n",
       "      <td>...</td>\n",
       "      <td>0.0</td>\n",
       "      <td>2.46183</td>\n",
       "      <td>0.0</td>\n",
       "      <td>2.051823</td>\n",
       "      <td>1.495025</td>\n",
       "      <td>0.0</td>\n",
       "      <td>0.0</td>\n",
       "      <td>20.605012</td>\n",
       "      <td>0.000000</td>\n",
       "      <td>0.488678</td>\n",
       "    </tr>\n",
       "    <tr>\n",
       "      <th>02dakota</th>\n",
       "      <td>0.0</td>\n",
       "      <td>28.406638</td>\n",
       "      <td>0.0</td>\n",
       "      <td>0.0</td>\n",
       "      <td>0.000000</td>\n",
       "      <td>0.0</td>\n",
       "      <td>0.0</td>\n",
       "      <td>0.0</td>\n",
       "      <td>0.0</td>\n",
       "      <td>6.706415</td>\n",
       "      <td>...</td>\n",
       "      <td>0.0</td>\n",
       "      <td>2.46183</td>\n",
       "      <td>0.0</td>\n",
       "      <td>2.051823</td>\n",
       "      <td>1.495025</td>\n",
       "      <td>0.0</td>\n",
       "      <td>0.0</td>\n",
       "      <td>20.605012</td>\n",
       "      <td>0.000000</td>\n",
       "      <td>0.488678</td>\n",
       "    </tr>\n",
       "    <tr>\n",
       "      <th>02deuce</th>\n",
       "      <td>0.0</td>\n",
       "      <td>28.406638</td>\n",
       "      <td>0.0</td>\n",
       "      <td>0.0</td>\n",
       "      <td>0.000000</td>\n",
       "      <td>0.0</td>\n",
       "      <td>0.0</td>\n",
       "      <td>0.0</td>\n",
       "      <td>0.0</td>\n",
       "      <td>6.706415</td>\n",
       "      <td>...</td>\n",
       "      <td>0.0</td>\n",
       "      <td>2.46183</td>\n",
       "      <td>0.0</td>\n",
       "      <td>2.051823</td>\n",
       "      <td>1.495025</td>\n",
       "      <td>0.0</td>\n",
       "      <td>0.0</td>\n",
       "      <td>20.605012</td>\n",
       "      <td>0.000000</td>\n",
       "      <td>0.488678</td>\n",
       "    </tr>\n",
       "  </tbody>\n",
       "</table>\n",
       "<p>5 rows × 253 columns</p>\n",
       "</div>"
      ],
      "text/plain": [
       "name              0.6 Cu. Ft. Letter A4 Size Waterproof 30 Min. Fire File Chest  \\\n",
       "reviews_username                                                                  \n",
       "00dog3                                                          0.0               \n",
       "00sab00                                                         0.0               \n",
       "01impala                                                        0.0               \n",
       "02dakota                                                        0.0               \n",
       "02deuce                                                         0.0               \n",
       "\n",
       "name              100:Complete First Season (blu-Ray)  \\\n",
       "reviews_username                                        \n",
       "00dog3                                       0.000000   \n",
       "00sab00                                      1.807229   \n",
       "01impala                                    28.406638   \n",
       "02dakota                                    28.406638   \n",
       "02deuce                                     28.406638   \n",
       "\n",
       "name              2017-2018 Brownline174 Duraflex 14-Month Planner 8 1/2 X 11 Black  \\\n",
       "reviews_username                                                                      \n",
       "00dog3                                                          0.0                   \n",
       "00sab00                                                         0.0                   \n",
       "01impala                                                        0.0                   \n",
       "02dakota                                                        0.0                   \n",
       "02deuce                                                         0.0                   \n",
       "\n",
       "name              2x Ultra Era with Oxi Booster, 50fl oz  \\\n",
       "reviews_username                                           \n",
       "00dog3                                               0.0   \n",
       "00sab00                                              0.0   \n",
       "01impala                                             0.0   \n",
       "02dakota                                             0.0   \n",
       "02deuce                                              0.0   \n",
       "\n",
       "name              42 Dual Drop Leaf Table with 2 Madrid Chairs\"  \\\n",
       "reviews_username                                                  \n",
       "00dog3                                                 0.000000   \n",
       "00sab00                                                2.738613   \n",
       "01impala                                               0.000000   \n",
       "02dakota                                               0.000000   \n",
       "02deuce                                                0.000000   \n",
       "\n",
       "name              4C Grated Parmesan Cheese 100% Natural 8oz Shaker  \\\n",
       "reviews_username                                                      \n",
       "00dog3                                                          0.0   \n",
       "00sab00                                                         0.0   \n",
       "01impala                                                        0.0   \n",
       "02dakota                                                        0.0   \n",
       "02deuce                                                         0.0   \n",
       "\n",
       "name              5302050 15/16 FCT/HOSE ADAPTOR  \\\n",
       "reviews_username                                   \n",
       "00dog3                                       0.0   \n",
       "00sab00                                      0.0   \n",
       "01impala                                     0.0   \n",
       "02dakota                                     0.0   \n",
       "02deuce                                      0.0   \n",
       "\n",
       "name              Africa's Best No-Lye Dual Conditioning Relaxer System Super  \\\n",
       "reviews_username                                                                \n",
       "00dog3                                                          0.0             \n",
       "00sab00                                                         0.0             \n",
       "01impala                                                        0.0             \n",
       "02dakota                                                        0.0             \n",
       "02deuce                                                         0.0             \n",
       "\n",
       "name              Alberto VO5 Salon Series Smooth Plus Sleek Shampoo  \\\n",
       "reviews_username                                                       \n",
       "00dog3                                                          0.0    \n",
       "00sab00                                                         0.0    \n",
       "01impala                                                        0.0    \n",
       "02dakota                                                        0.0    \n",
       "02deuce                                                         0.0    \n",
       "\n",
       "name              Alex Cross (dvdvideo)  ...  \\\n",
       "reviews_username                         ...   \n",
       "00dog3                         2.461830  ...   \n",
       "00sab00                        1.689575  ...   \n",
       "01impala                       6.706415  ...   \n",
       "02dakota                       6.706415  ...   \n",
       "02deuce                        6.706415  ...   \n",
       "\n",
       "name              Voortman Sugar Free Fudge Chocolate Chip Cookies  \\\n",
       "reviews_username                                                     \n",
       "00dog3                                                         0.0   \n",
       "00sab00                                                        0.0   \n",
       "01impala                                                       0.0   \n",
       "02dakota                                                       0.0   \n",
       "02deuce                                                        0.0   \n",
       "\n",
       "name              Wagan Smartac 80watt Inverter With Usb  \\\n",
       "reviews_username                                           \n",
       "00dog3                                           0.00000   \n",
       "00sab00                                          0.00000   \n",
       "01impala                                         2.46183   \n",
       "02dakota                                         2.46183   \n",
       "02deuce                                          2.46183   \n",
       "\n",
       "name              Walkers Stem Ginger Shortbread  \\\n",
       "reviews_username                                   \n",
       "00dog3                                       0.0   \n",
       "00sab00                                      0.0   \n",
       "01impala                                     0.0   \n",
       "02dakota                                     0.0   \n",
       "02deuce                                      0.0   \n",
       "\n",
       "name              Way Basics 3-Shelf Eco Narrow Bookcase Storage Shelf, Espresso - Formaldehyde Free - Lifetime Guarantee  \\\n",
       "reviews_username                                                                                                            \n",
       "00dog3                                                     0.000000                                                         \n",
       "00sab00                                                    2.240496                                                         \n",
       "01impala                                                   2.051823                                                         \n",
       "02dakota                                                   2.051823                                                         \n",
       "02deuce                                                    2.051823                                                         \n",
       "\n",
       "name              WeatherTech 40647 14-15 Outlander Cargo Liners Behind 2nd Row, Black  \\\n",
       "reviews_username                                                                         \n",
       "00dog3                                                     0.000000                      \n",
       "00sab00                                                    0.420239                      \n",
       "01impala                                                   1.495025                      \n",
       "02dakota                                                   1.495025                      \n",
       "02deuce                                                    1.495025                      \n",
       "\n",
       "name              Weleda Everon Lip Balm  \\\n",
       "reviews_username                           \n",
       "00dog3                               0.0   \n",
       "00sab00                              0.0   \n",
       "01impala                             0.0   \n",
       "02dakota                             0.0   \n",
       "02deuce                              0.0   \n",
       "\n",
       "name              Wilton Black Dots Standard Baking Cups  \\\n",
       "reviews_username                                           \n",
       "00dog3                                               0.0   \n",
       "00sab00                                              0.0   \n",
       "01impala                                             0.0   \n",
       "02dakota                                             0.0   \n",
       "02deuce                                              0.0   \n",
       "\n",
       "name              Windex Original Glass Cleaner Refill 67.6oz (2 Liter)  \\\n",
       "reviews_username                                                          \n",
       "00dog3                                                     1.662975       \n",
       "00sab00                                                   12.332299       \n",
       "01impala                                                  20.605012       \n",
       "02dakota                                                  20.605012       \n",
       "02deuce                                                   20.605012       \n",
       "\n",
       "name              Yes To Carrots Nourishing Body Wash  \\\n",
       "reviews_username                                        \n",
       "00dog3                                       0.000000   \n",
       "00sab00                                      2.738613   \n",
       "01impala                                     0.000000   \n",
       "02dakota                                     0.000000   \n",
       "02deuce                                      0.000000   \n",
       "\n",
       "name              Yes To Grapefruit Rejuvenating Body Wash  \n",
       "reviews_username                                            \n",
       "00dog3                                            0.000000  \n",
       "00sab00                                           1.355062  \n",
       "01impala                                          0.488678  \n",
       "02dakota                                          0.488678  \n",
       "02deuce                                           0.488678  \n",
       "\n",
       "[5 rows x 253 columns]"
      ]
     },
     "execution_count": 37,
     "metadata": {},
     "output_type": "execute_result"
    }
   ],
   "source": [
    "user_final_rating = np.multiply(user_predicted_ratings,dummy_train)\n",
    "user_final_rating.head()"
   ]
  },
  {
   "cell_type": "markdown",
   "id": "53e2c031",
   "metadata": {
    "id": "7W_Kr8N8ExdJ"
   },
   "source": [
    "### Finding the top 20 recommendation for the *user*"
   ]
  },
  {
   "cell_type": "code",
   "execution_count": 38,
   "id": "20d39950",
   "metadata": {
    "colab": {
     "base_uri": "https://localhost:8080/"
    },
    "executionInfo": {
     "elapsed": 10700,
     "status": "ok",
     "timestamp": 1647755932524,
     "user": {
      "displayName": "Harish Kumar",
      "photoUrl": "https://lh3.googleusercontent.com/a/default-user=s64",
      "userId": "06640646465396470949"
     },
     "user_tz": -330
    },
    "id": "WL8Yt7ZRSiev",
    "outputId": "77241130-e69b-4f03-d1ed-3233342e91ff"
   },
   "outputs": [
    {
     "name": "stdout",
     "output_type": "stream",
     "text": [
      "01impala\n"
     ]
    }
   ],
   "source": [
    "# Take the username as input.\n",
    "user_input = input(\"Enter your user name\")\n",
    "print(user_input)"
   ]
  },
  {
   "cell_type": "markdown",
   "id": "1bd32716",
   "metadata": {},
   "source": [
    "To find the top 20 products for a particular user, you have to filter out the highest rating from ‘user_final_rating’ for a particular user."
   ]
  },
  {
   "cell_type": "code",
   "execution_count": 39,
   "id": "1e9e6ab9",
   "metadata": {
    "colab": {
     "base_uri": "https://localhost:8080/"
    },
    "executionInfo": {
     "elapsed": 542,
     "status": "ok",
     "timestamp": 1647755968197,
     "user": {
      "displayName": "Harish Kumar",
      "photoUrl": "https://lh3.googleusercontent.com/a/default-user=s64",
      "userId": "06640646465396470949"
     },
     "user_tz": -330
    },
    "id": "B9KjLfI9ExdJ",
    "outputId": "e3e70f0d-caa7-4581-f390-7ebeca4c4e59"
   },
   "outputs": [
    {
     "data": {
      "text/plain": [
       "name\n",
       "Planes: Fire Rescue (2 Discs) (includes Digital Copy) (blu-Ray/dvd)                110.747462\n",
       "Mike Dave Need Wedding Dates (dvd + Digital)                                        86.532154\n",
       "The Resident Evil Collection 5 Discs (blu-Ray)                                      80.944372\n",
       "Red (special Edition) (dvdvideo)                                                    58.303749\n",
       "Clorox Disinfecting Wipes Value Pack Scented 150 Ct Total                           52.676001\n",
       "My Big Fat Greek Wedding 2 (blu-Ray + Dvd + Digital)                                52.408303\n",
       "Clorox Disinfecting Bathroom Cleaner                                                30.670025\n",
       "100:Complete First Season (blu-Ray)                                                 28.406638\n",
       "Chester's Cheese Flavored Puffcorn Snacks                                           24.054347\n",
       "Windex Original Glass Cleaner Refill 67.6oz (2 Liter)                               20.605012\n",
       "Coty Airspun Face Powder, Translucent Extra Coverage                                19.211387\n",
       "Tostitos Bite Size Tortilla Chips                                                   16.569634\n",
       "Jason Aldean - They Don't Know                                                      16.340033\n",
       "Dark Shadows (includes Digital Copy) (ultraviolet) (dvdvideo)                       14.740987\n",
       "Hormel Chili, No Beans                                                              12.885691\n",
       "Caress Moisturizing Body Bar Natural Silk, 4.75oz                                   10.911771\n",
       "Burt's Bees Lip Shimmer, Raisin                                                     10.354197\n",
       "Just For Men Touch Of Gray Gray Hair Treatment, Black T-55                           9.986432\n",
       "There's Something About Mary (dvd)                                                   9.915664\n",
       "Pendaflex174 Divide It Up File Folder, Multi Section, Letter, Assorted, 12/pack      9.589207\n",
       "Name: 01impala, dtype: float64"
      ]
     },
     "execution_count": 39,
     "metadata": {},
     "output_type": "execute_result"
    }
   ],
   "source": [
    "UBCF_top20 = user_final_rating.loc[user_input].sort_values(ascending=False)[0:20]\n",
    "UBCF_top20"
   ]
  },
  {
   "cell_type": "code",
   "execution_count": null,
   "id": "d366d208",
   "metadata": {},
   "outputs": [],
   "source": []
  },
  {
   "cell_type": "markdown",
   "id": "909455c7",
   "metadata": {
    "id": "pV2YmSaHoflL"
   },
   "source": [
    "# Evaluation - User based Collaborative Filtering\n",
    "To evaluate the user-based recommendation system, we need to extract those users from the ‘test’ and ‘dummy_test’ datasets that are present in the train dataset because we can find the predicted ratings only for those users. And, only then, we can find the error between the predicted and the actual ratings."
   ]
  },
  {
   "cell_type": "markdown",
   "id": "9dbcddea",
   "metadata": {
    "id": "Sv4DnzeboflU"
   },
   "source": [
    "Evaluation will we same as we have seen above for the prediction. The only difference being, we will evaluate for the products already rated by the user insead of predicting it for the products not rated by the user. "
   ]
  },
  {
   "cell_type": "code",
   "execution_count": 40,
   "id": "b47c72f7",
   "metadata": {
    "colab": {
     "base_uri": "https://localhost:8080/"
    },
    "executionInfo": {
     "elapsed": 673,
     "status": "ok",
     "timestamp": 1647756548471,
     "user": {
      "displayName": "Harish Kumar",
      "photoUrl": "https://lh3.googleusercontent.com/a/default-user=s64",
      "userId": "06640646465396470949"
     },
     "user_tz": -330
    },
    "id": "jTAMAiCqoflV",
    "outputId": "1c43c9b7-2518-44bd-ac23-0c7320740680"
   },
   "outputs": [
    {
     "data": {
      "text/plain": [
       "(1108, 3)"
      ]
     },
     "execution_count": 40,
     "metadata": {},
     "output_type": "execute_result"
    }
   ],
   "source": [
    "# Find out the common users of test and train dataset.\n",
    "common = test[test.reviews_username.isin(train.reviews_username)]\n",
    "common.shape"
   ]
  },
  {
   "cell_type": "code",
   "execution_count": 41,
   "id": "0fc2f8e1",
   "metadata": {
    "colab": {
     "base_uri": "https://localhost:8080/",
     "height": 206
    },
    "executionInfo": {
     "elapsed": 606,
     "status": "ok",
     "timestamp": 1647756552190,
     "user": {
      "displayName": "Harish Kumar",
      "photoUrl": "https://lh3.googleusercontent.com/a/default-user=s64",
      "userId": "06640646465396470949"
     },
     "user_tz": -330
    },
    "id": "sTMqgWYtoflV",
    "outputId": "eb440d41-39cc-4440-b2de-326b43416372"
   },
   "outputs": [
    {
     "data": {
      "text/html": [
       "<div>\n",
       "<style scoped>\n",
       "    .dataframe tbody tr th:only-of-type {\n",
       "        vertical-align: middle;\n",
       "    }\n",
       "\n",
       "    .dataframe tbody tr th {\n",
       "        vertical-align: top;\n",
       "    }\n",
       "\n",
       "    .dataframe thead th {\n",
       "        text-align: right;\n",
       "    }\n",
       "</style>\n",
       "<table border=\"1\" class=\"dataframe\">\n",
       "  <thead>\n",
       "    <tr style=\"text-align: right;\">\n",
       "      <th></th>\n",
       "      <th>reviews_username</th>\n",
       "      <th>name</th>\n",
       "      <th>reviews_rating</th>\n",
       "    </tr>\n",
       "  </thead>\n",
       "  <tbody>\n",
       "    <tr>\n",
       "      <th>7266</th>\n",
       "      <td>ayterrazas</td>\n",
       "      <td>Clorox Disinfecting Wipes Value Pack Scented 1...</td>\n",
       "      <td>4</td>\n",
       "    </tr>\n",
       "    <tr>\n",
       "      <th>17574</th>\n",
       "      <td>lisa</td>\n",
       "      <td>Mill Creek Aloe Vera &amp; Paba Lotion</td>\n",
       "      <td>5</td>\n",
       "    </tr>\n",
       "    <tr>\n",
       "      <th>5041</th>\n",
       "      <td>radicxs2</td>\n",
       "      <td>The Resident Evil Collection 5 Discs (blu-Ray)</td>\n",
       "      <td>5</td>\n",
       "    </tr>\n",
       "  </tbody>\n",
       "</table>\n",
       "</div>"
      ],
      "text/plain": [
       "      reviews_username                                               name  \\\n",
       "7266        ayterrazas  Clorox Disinfecting Wipes Value Pack Scented 1...   \n",
       "17574             lisa                 Mill Creek Aloe Vera & Paba Lotion   \n",
       "5041          radicxs2     The Resident Evil Collection 5 Discs (blu-Ray)   \n",
       "\n",
       "       reviews_rating  \n",
       "7266                4  \n",
       "17574               5  \n",
       "5041                5  "
      ]
     },
     "execution_count": 41,
     "metadata": {},
     "output_type": "execute_result"
    }
   ],
   "source": [
    "common.head(3)"
   ]
  },
  {
   "cell_type": "code",
   "execution_count": 42,
   "id": "5a522723",
   "metadata": {
    "executionInfo": {
     "elapsed": 4,
     "status": "ok",
     "timestamp": 1647756557584,
     "user": {
      "displayName": "Harish Kumar",
      "photoUrl": "https://lh3.googleusercontent.com/a/default-user=s64",
      "userId": "06640646465396470949"
     },
     "user_tz": -330
    },
    "id": "4IFpOTyeoflW"
   },
   "outputs": [],
   "source": [
    "# convert into the user-item matrix.\n",
    "common_user_based_matrix = common.pivot_table(\n",
    "    index='reviews_username', \n",
    "    columns='name', \n",
    "    values='reviews_rating',\n",
    "    aggfunc = 'mean')"
   ]
  },
  {
   "cell_type": "code",
   "execution_count": 43,
   "id": "2e7b6ddc",
   "metadata": {
    "colab": {
     "base_uri": "https://localhost:8080/",
     "height": 331
    },
    "executionInfo": {
     "elapsed": 402,
     "status": "ok",
     "timestamp": 1645337999885,
     "user": {
      "displayName": "Harish Kumar",
      "photoUrl": "https://lh3.googleusercontent.com/a/default-user=s64",
      "userId": "06640646465396470949"
     },
     "user_tz": -330
    },
    "id": "bBCHJw5WSPEF",
    "outputId": "0ddcaa0c-6c09-420e-bc38-06a86300d2f9"
   },
   "outputs": [
    {
     "data": {
      "text/html": [
       "<div>\n",
       "<style scoped>\n",
       "    .dataframe tbody tr th:only-of-type {\n",
       "        vertical-align: middle;\n",
       "    }\n",
       "\n",
       "    .dataframe tbody tr th {\n",
       "        vertical-align: top;\n",
       "    }\n",
       "\n",
       "    .dataframe thead th {\n",
       "        text-align: right;\n",
       "    }\n",
       "</style>\n",
       "<table border=\"1\" class=\"dataframe\">\n",
       "  <thead>\n",
       "    <tr style=\"text-align: right;\">\n",
       "      <th>name</th>\n",
       "      <th>0.6 Cu. Ft. Letter A4 Size Waterproof 30 Min. Fire File Chest</th>\n",
       "      <th>100:Complete First Season (blu-Ray)</th>\n",
       "      <th>Africa's Best No-Lye Dual Conditioning Relaxer System Super</th>\n",
       "      <th>Alex Cross (dvdvideo)</th>\n",
       "      <th>All,bran Complete Wheat Flakes, 18 Oz.</th>\n",
       "      <th>Arrid Extra Dry Anti-Perspirant Deodorant Spray Regular</th>\n",
       "      <th>Aussie Aussome Volume Shampoo, 13.5 Oz</th>\n",
       "      <th>Australian Gold Exotic Blend Lotion, SPF 4</th>\n",
       "      <th>Aveeno Baby Continuous Protection Lotion Sunscreen with Broad Spectrum SPF 55, 4oz</th>\n",
       "      <th>Avery174 Ready Index Contemporary Table Of Contents Divider, 1-8, Multi, Letter</th>\n",
       "      <th>...</th>\n",
       "      <th>Various Artists - Choo Choo Soul (cd)</th>\n",
       "      <th>Vaseline Intensive Care Healthy Hands Stronger Nails</th>\n",
       "      <th>Vaseline Intensive Care Lip Therapy Cocoa Butter</th>\n",
       "      <th>Vicks Vaporub, Regular, 3.53oz</th>\n",
       "      <th>Voortman Sugar Free Fudge Chocolate Chip Cookies</th>\n",
       "      <th>Wagan Smartac 80watt Inverter With Usb</th>\n",
       "      <th>Way Basics 3-Shelf Eco Narrow Bookcase Storage Shelf, Espresso - Formaldehyde Free - Lifetime Guarantee</th>\n",
       "      <th>Windex Original Glass Cleaner Refill 67.6oz (2 Liter)</th>\n",
       "      <th>Yes To Carrots Nourishing Body Wash</th>\n",
       "      <th>Yes To Grapefruit Rejuvenating Body Wash</th>\n",
       "    </tr>\n",
       "    <tr>\n",
       "      <th>reviews_username</th>\n",
       "      <th></th>\n",
       "      <th></th>\n",
       "      <th></th>\n",
       "      <th></th>\n",
       "      <th></th>\n",
       "      <th></th>\n",
       "      <th></th>\n",
       "      <th></th>\n",
       "      <th></th>\n",
       "      <th></th>\n",
       "      <th></th>\n",
       "      <th></th>\n",
       "      <th></th>\n",
       "      <th></th>\n",
       "      <th></th>\n",
       "      <th></th>\n",
       "      <th></th>\n",
       "      <th></th>\n",
       "      <th></th>\n",
       "      <th></th>\n",
       "      <th></th>\n",
       "    </tr>\n",
       "  </thead>\n",
       "  <tbody>\n",
       "    <tr>\n",
       "      <th>1234</th>\n",
       "      <td>NaN</td>\n",
       "      <td>NaN</td>\n",
       "      <td>NaN</td>\n",
       "      <td>NaN</td>\n",
       "      <td>NaN</td>\n",
       "      <td>NaN</td>\n",
       "      <td>NaN</td>\n",
       "      <td>NaN</td>\n",
       "      <td>NaN</td>\n",
       "      <td>NaN</td>\n",
       "      <td>...</td>\n",
       "      <td>NaN</td>\n",
       "      <td>NaN</td>\n",
       "      <td>NaN</td>\n",
       "      <td>NaN</td>\n",
       "      <td>NaN</td>\n",
       "      <td>NaN</td>\n",
       "      <td>NaN</td>\n",
       "      <td>NaN</td>\n",
       "      <td>NaN</td>\n",
       "      <td>NaN</td>\n",
       "    </tr>\n",
       "    <tr>\n",
       "      <th>123charlie</th>\n",
       "      <td>NaN</td>\n",
       "      <td>NaN</td>\n",
       "      <td>NaN</td>\n",
       "      <td>NaN</td>\n",
       "      <td>NaN</td>\n",
       "      <td>NaN</td>\n",
       "      <td>NaN</td>\n",
       "      <td>NaN</td>\n",
       "      <td>NaN</td>\n",
       "      <td>NaN</td>\n",
       "      <td>...</td>\n",
       "      <td>NaN</td>\n",
       "      <td>NaN</td>\n",
       "      <td>NaN</td>\n",
       "      <td>NaN</td>\n",
       "      <td>NaN</td>\n",
       "      <td>NaN</td>\n",
       "      <td>NaN</td>\n",
       "      <td>NaN</td>\n",
       "      <td>NaN</td>\n",
       "      <td>NaN</td>\n",
       "    </tr>\n",
       "    <tr>\n",
       "      <th>37f5p</th>\n",
       "      <td>NaN</td>\n",
       "      <td>5.0</td>\n",
       "      <td>NaN</td>\n",
       "      <td>NaN</td>\n",
       "      <td>NaN</td>\n",
       "      <td>NaN</td>\n",
       "      <td>NaN</td>\n",
       "      <td>NaN</td>\n",
       "      <td>NaN</td>\n",
       "      <td>NaN</td>\n",
       "      <td>...</td>\n",
       "      <td>NaN</td>\n",
       "      <td>NaN</td>\n",
       "      <td>NaN</td>\n",
       "      <td>NaN</td>\n",
       "      <td>NaN</td>\n",
       "      <td>NaN</td>\n",
       "      <td>NaN</td>\n",
       "      <td>NaN</td>\n",
       "      <td>NaN</td>\n",
       "      <td>NaN</td>\n",
       "    </tr>\n",
       "    <tr>\n",
       "      <th>7.87E+11</th>\n",
       "      <td>NaN</td>\n",
       "      <td>NaN</td>\n",
       "      <td>NaN</td>\n",
       "      <td>NaN</td>\n",
       "      <td>NaN</td>\n",
       "      <td>NaN</td>\n",
       "      <td>NaN</td>\n",
       "      <td>NaN</td>\n",
       "      <td>NaN</td>\n",
       "      <td>NaN</td>\n",
       "      <td>...</td>\n",
       "      <td>NaN</td>\n",
       "      <td>NaN</td>\n",
       "      <td>NaN</td>\n",
       "      <td>NaN</td>\n",
       "      <td>NaN</td>\n",
       "      <td>NaN</td>\n",
       "      <td>NaN</td>\n",
       "      <td>NaN</td>\n",
       "      <td>NaN</td>\n",
       "      <td>NaN</td>\n",
       "    </tr>\n",
       "    <tr>\n",
       "      <th>aaron</th>\n",
       "      <td>NaN</td>\n",
       "      <td>NaN</td>\n",
       "      <td>NaN</td>\n",
       "      <td>NaN</td>\n",
       "      <td>NaN</td>\n",
       "      <td>NaN</td>\n",
       "      <td>NaN</td>\n",
       "      <td>NaN</td>\n",
       "      <td>NaN</td>\n",
       "      <td>NaN</td>\n",
       "      <td>...</td>\n",
       "      <td>NaN</td>\n",
       "      <td>NaN</td>\n",
       "      <td>NaN</td>\n",
       "      <td>NaN</td>\n",
       "      <td>NaN</td>\n",
       "      <td>NaN</td>\n",
       "      <td>NaN</td>\n",
       "      <td>NaN</td>\n",
       "      <td>NaN</td>\n",
       "      <td>NaN</td>\n",
       "    </tr>\n",
       "  </tbody>\n",
       "</table>\n",
       "<p>5 rows × 120 columns</p>\n",
       "</div>"
      ],
      "text/plain": [
       "name              0.6 Cu. Ft. Letter A4 Size Waterproof 30 Min. Fire File Chest  \\\n",
       "reviews_username                                                                  \n",
       "1234                                                            NaN               \n",
       "123charlie                                                      NaN               \n",
       "37f5p                                                           NaN               \n",
       "7.87E+11                                                        NaN               \n",
       "aaron                                                           NaN               \n",
       "\n",
       "name              100:Complete First Season (blu-Ray)  \\\n",
       "reviews_username                                        \n",
       "1234                                              NaN   \n",
       "123charlie                                        NaN   \n",
       "37f5p                                             5.0   \n",
       "7.87E+11                                          NaN   \n",
       "aaron                                             NaN   \n",
       "\n",
       "name              Africa's Best No-Lye Dual Conditioning Relaxer System Super  \\\n",
       "reviews_username                                                                \n",
       "1234                                                            NaN             \n",
       "123charlie                                                      NaN             \n",
       "37f5p                                                           NaN             \n",
       "7.87E+11                                                        NaN             \n",
       "aaron                                                           NaN             \n",
       "\n",
       "name              Alex Cross (dvdvideo)  \\\n",
       "reviews_username                          \n",
       "1234                                NaN   \n",
       "123charlie                          NaN   \n",
       "37f5p                               NaN   \n",
       "7.87E+11                            NaN   \n",
       "aaron                               NaN   \n",
       "\n",
       "name              All,bran Complete Wheat Flakes, 18 Oz.  \\\n",
       "reviews_username                                           \n",
       "1234                                                 NaN   \n",
       "123charlie                                           NaN   \n",
       "37f5p                                                NaN   \n",
       "7.87E+11                                             NaN   \n",
       "aaron                                                NaN   \n",
       "\n",
       "name              Arrid Extra Dry Anti-Perspirant Deodorant Spray Regular  \\\n",
       "reviews_username                                                            \n",
       "1234                                                            NaN         \n",
       "123charlie                                                      NaN         \n",
       "37f5p                                                           NaN         \n",
       "7.87E+11                                                        NaN         \n",
       "aaron                                                           NaN         \n",
       "\n",
       "name              Aussie Aussome Volume Shampoo, 13.5 Oz  \\\n",
       "reviews_username                                           \n",
       "1234                                                 NaN   \n",
       "123charlie                                           NaN   \n",
       "37f5p                                                NaN   \n",
       "7.87E+11                                             NaN   \n",
       "aaron                                                NaN   \n",
       "\n",
       "name              Australian Gold Exotic Blend Lotion, SPF 4  \\\n",
       "reviews_username                                               \n",
       "1234                                                     NaN   \n",
       "123charlie                                               NaN   \n",
       "37f5p                                                    NaN   \n",
       "7.87E+11                                                 NaN   \n",
       "aaron                                                    NaN   \n",
       "\n",
       "name              Aveeno Baby Continuous Protection Lotion Sunscreen with Broad Spectrum SPF 55, 4oz  \\\n",
       "reviews_username                                                                                       \n",
       "1234                                                            NaN                                    \n",
       "123charlie                                                      NaN                                    \n",
       "37f5p                                                           NaN                                    \n",
       "7.87E+11                                                        NaN                                    \n",
       "aaron                                                           NaN                                    \n",
       "\n",
       "name              Avery174 Ready Index Contemporary Table Of Contents Divider, 1-8, Multi, Letter  \\\n",
       "reviews_username                                                                                    \n",
       "1234                                                            NaN                                 \n",
       "123charlie                                                      NaN                                 \n",
       "37f5p                                                           NaN                                 \n",
       "7.87E+11                                                        NaN                                 \n",
       "aaron                                                           NaN                                 \n",
       "\n",
       "name              ...  Various Artists - Choo Choo Soul (cd)  \\\n",
       "reviews_username  ...                                          \n",
       "1234              ...                                    NaN   \n",
       "123charlie        ...                                    NaN   \n",
       "37f5p             ...                                    NaN   \n",
       "7.87E+11          ...                                    NaN   \n",
       "aaron             ...                                    NaN   \n",
       "\n",
       "name              Vaseline Intensive Care Healthy Hands Stronger Nails  \\\n",
       "reviews_username                                                         \n",
       "1234                                                            NaN      \n",
       "123charlie                                                      NaN      \n",
       "37f5p                                                           NaN      \n",
       "7.87E+11                                                        NaN      \n",
       "aaron                                                           NaN      \n",
       "\n",
       "name              Vaseline Intensive Care Lip Therapy Cocoa Butter  \\\n",
       "reviews_username                                                     \n",
       "1234                                                           NaN   \n",
       "123charlie                                                     NaN   \n",
       "37f5p                                                          NaN   \n",
       "7.87E+11                                                       NaN   \n",
       "aaron                                                          NaN   \n",
       "\n",
       "name              Vicks Vaporub, Regular, 3.53oz  \\\n",
       "reviews_username                                   \n",
       "1234                                         NaN   \n",
       "123charlie                                   NaN   \n",
       "37f5p                                        NaN   \n",
       "7.87E+11                                     NaN   \n",
       "aaron                                        NaN   \n",
       "\n",
       "name              Voortman Sugar Free Fudge Chocolate Chip Cookies  \\\n",
       "reviews_username                                                     \n",
       "1234                                                           NaN   \n",
       "123charlie                                                     NaN   \n",
       "37f5p                                                          NaN   \n",
       "7.87E+11                                                       NaN   \n",
       "aaron                                                          NaN   \n",
       "\n",
       "name              Wagan Smartac 80watt Inverter With Usb  \\\n",
       "reviews_username                                           \n",
       "1234                                                 NaN   \n",
       "123charlie                                           NaN   \n",
       "37f5p                                                NaN   \n",
       "7.87E+11                                             NaN   \n",
       "aaron                                                NaN   \n",
       "\n",
       "name              Way Basics 3-Shelf Eco Narrow Bookcase Storage Shelf, Espresso - Formaldehyde Free - Lifetime Guarantee  \\\n",
       "reviews_username                                                                                                            \n",
       "1234                                                            NaN                                                         \n",
       "123charlie                                                      NaN                                                         \n",
       "37f5p                                                           NaN                                                         \n",
       "7.87E+11                                                        NaN                                                         \n",
       "aaron                                                           NaN                                                         \n",
       "\n",
       "name              Windex Original Glass Cleaner Refill 67.6oz (2 Liter)  \\\n",
       "reviews_username                                                          \n",
       "1234                                                            NaN       \n",
       "123charlie                                                      NaN       \n",
       "37f5p                                                           NaN       \n",
       "7.87E+11                                                        NaN       \n",
       "aaron                                                           NaN       \n",
       "\n",
       "name              Yes To Carrots Nourishing Body Wash  \\\n",
       "reviews_username                                        \n",
       "1234                                              NaN   \n",
       "123charlie                                        NaN   \n",
       "37f5p                                             NaN   \n",
       "7.87E+11                                          NaN   \n",
       "aaron                                             NaN   \n",
       "\n",
       "name              Yes To Grapefruit Rejuvenating Body Wash  \n",
       "reviews_username                                            \n",
       "1234                                                   NaN  \n",
       "123charlie                                             NaN  \n",
       "37f5p                                                  NaN  \n",
       "7.87E+11                                               NaN  \n",
       "aaron                                                  NaN  \n",
       "\n",
       "[5 rows x 120 columns]"
      ]
     },
     "execution_count": 43,
     "metadata": {},
     "output_type": "execute_result"
    }
   ],
   "source": [
    "common_user_based_matrix.head()"
   ]
  },
  {
   "cell_type": "code",
   "execution_count": 44,
   "id": "13bb4423",
   "metadata": {},
   "outputs": [
    {
     "data": {
      "text/plain": [
       "(907, 120)"
      ]
     },
     "execution_count": 44,
     "metadata": {},
     "output_type": "execute_result"
    }
   ],
   "source": [
    "common_user_based_matrix.shape"
   ]
  },
  {
   "cell_type": "code",
   "execution_count": 45,
   "id": "bb65845c",
   "metadata": {
    "executionInfo": {
     "elapsed": 556,
     "status": "ok",
     "timestamp": 1647756568145,
     "user": {
      "displayName": "Harish Kumar",
      "photoUrl": "https://lh3.googleusercontent.com/a/default-user=s64",
      "userId": "06640646465396470949"
     },
     "user_tz": -330
    },
    "id": "SH7i0WFfoflW"
   },
   "outputs": [],
   "source": [
    "# Convert the user_correlation matrix into dataframe.\n",
    "user_correlation_df = pd.DataFrame(user_correlation)"
   ]
  },
  {
   "cell_type": "code",
   "execution_count": 46,
   "id": "b05bba71",
   "metadata": {
    "colab": {
     "base_uri": "https://localhost:8080/",
     "height": 299
    },
    "executionInfo": {
     "elapsed": 699,
     "status": "ok",
     "timestamp": 1647756571564,
     "user": {
      "displayName": "Harish Kumar",
      "photoUrl": "https://lh3.googleusercontent.com/a/default-user=s64",
      "userId": "06640646465396470949"
     },
     "user_tz": -330
    },
    "id": "oN1QnRjKSjSU",
    "outputId": "aaeeb495-f8a8-4b2f-ab5d-7bbdaaddef9c"
   },
   "outputs": [
    {
     "data": {
      "text/html": [
       "<div>\n",
       "<style scoped>\n",
       "    .dataframe tbody tr th:only-of-type {\n",
       "        vertical-align: middle;\n",
       "    }\n",
       "\n",
       "    .dataframe tbody tr th {\n",
       "        vertical-align: top;\n",
       "    }\n",
       "\n",
       "    .dataframe thead th {\n",
       "        text-align: right;\n",
       "    }\n",
       "</style>\n",
       "<table border=\"1\" class=\"dataframe\">\n",
       "  <thead>\n",
       "    <tr style=\"text-align: right;\">\n",
       "      <th></th>\n",
       "      <th>0</th>\n",
       "      <th>1</th>\n",
       "      <th>2</th>\n",
       "      <th>3</th>\n",
       "      <th>4</th>\n",
       "      <th>5</th>\n",
       "      <th>6</th>\n",
       "      <th>7</th>\n",
       "      <th>8</th>\n",
       "      <th>9</th>\n",
       "      <th>...</th>\n",
       "      <th>17839</th>\n",
       "      <th>17840</th>\n",
       "      <th>17841</th>\n",
       "      <th>17842</th>\n",
       "      <th>17843</th>\n",
       "      <th>17844</th>\n",
       "      <th>17845</th>\n",
       "      <th>17846</th>\n",
       "      <th>17847</th>\n",
       "      <th>17848</th>\n",
       "    </tr>\n",
       "  </thead>\n",
       "  <tbody>\n",
       "    <tr>\n",
       "      <th>0</th>\n",
       "      <td>1.0</td>\n",
       "      <td>0.0</td>\n",
       "      <td>0.0</td>\n",
       "      <td>0.0</td>\n",
       "      <td>0.0</td>\n",
       "      <td>0.0</td>\n",
       "      <td>0.0</td>\n",
       "      <td>0.0</td>\n",
       "      <td>0.000000</td>\n",
       "      <td>0.0</td>\n",
       "      <td>...</td>\n",
       "      <td>0.0</td>\n",
       "      <td>0.0</td>\n",
       "      <td>0.0</td>\n",
       "      <td>0.0</td>\n",
       "      <td>0.0</td>\n",
       "      <td>0.0</td>\n",
       "      <td>0.0</td>\n",
       "      <td>0.0</td>\n",
       "      <td>0.000000</td>\n",
       "      <td>0.0</td>\n",
       "    </tr>\n",
       "    <tr>\n",
       "      <th>1</th>\n",
       "      <td>0.0</td>\n",
       "      <td>1.0</td>\n",
       "      <td>0.0</td>\n",
       "      <td>0.0</td>\n",
       "      <td>0.0</td>\n",
       "      <td>0.0</td>\n",
       "      <td>0.0</td>\n",
       "      <td>0.0</td>\n",
       "      <td>0.948683</td>\n",
       "      <td>0.0</td>\n",
       "      <td>...</td>\n",
       "      <td>0.0</td>\n",
       "      <td>0.0</td>\n",
       "      <td>0.0</td>\n",
       "      <td>0.0</td>\n",
       "      <td>0.0</td>\n",
       "      <td>0.0</td>\n",
       "      <td>0.0</td>\n",
       "      <td>0.0</td>\n",
       "      <td>0.948683</td>\n",
       "      <td>0.0</td>\n",
       "    </tr>\n",
       "    <tr>\n",
       "      <th>2</th>\n",
       "      <td>0.0</td>\n",
       "      <td>0.0</td>\n",
       "      <td>1.0</td>\n",
       "      <td>1.0</td>\n",
       "      <td>1.0</td>\n",
       "      <td>0.0</td>\n",
       "      <td>0.0</td>\n",
       "      <td>0.0</td>\n",
       "      <td>0.000000</td>\n",
       "      <td>0.0</td>\n",
       "      <td>...</td>\n",
       "      <td>0.0</td>\n",
       "      <td>0.0</td>\n",
       "      <td>0.0</td>\n",
       "      <td>0.0</td>\n",
       "      <td>0.0</td>\n",
       "      <td>0.0</td>\n",
       "      <td>0.0</td>\n",
       "      <td>0.0</td>\n",
       "      <td>0.000000</td>\n",
       "      <td>0.0</td>\n",
       "    </tr>\n",
       "  </tbody>\n",
       "</table>\n",
       "<p>3 rows × 17849 columns</p>\n",
       "</div>"
      ],
      "text/plain": [
       "   0      1      2      3      4      5      6      7         8      9      \\\n",
       "0    1.0    0.0    0.0    0.0    0.0    0.0    0.0    0.0  0.000000    0.0   \n",
       "1    0.0    1.0    0.0    0.0    0.0    0.0    0.0    0.0  0.948683    0.0   \n",
       "2    0.0    0.0    1.0    1.0    1.0    0.0    0.0    0.0  0.000000    0.0   \n",
       "\n",
       "   ...  17839  17840  17841  17842  17843  17844  17845  17846     17847  \\\n",
       "0  ...    0.0    0.0    0.0    0.0    0.0    0.0    0.0    0.0  0.000000   \n",
       "1  ...    0.0    0.0    0.0    0.0    0.0    0.0    0.0    0.0  0.948683   \n",
       "2  ...    0.0    0.0    0.0    0.0    0.0    0.0    0.0    0.0  0.000000   \n",
       "\n",
       "   17848  \n",
       "0    0.0  \n",
       "1    0.0  \n",
       "2    0.0  \n",
       "\n",
       "[3 rows x 17849 columns]"
      ]
     },
     "execution_count": 46,
     "metadata": {},
     "output_type": "execute_result"
    }
   ],
   "source": [
    "user_correlation_df.head(3)"
   ]
  },
  {
   "cell_type": "code",
   "execution_count": 47,
   "id": "659b9a9d",
   "metadata": {},
   "outputs": [
    {
     "data": {
      "text/plain": [
       "(17849, 17849)"
      ]
     },
     "execution_count": 47,
     "metadata": {},
     "output_type": "execute_result"
    }
   ],
   "source": [
    "user_correlation_df.shape"
   ]
  },
  {
   "cell_type": "code",
   "execution_count": 48,
   "id": "a3c0cd9f",
   "metadata": {},
   "outputs": [
    {
     "data": {
      "text/plain": [
       "(17849, 253)"
      ]
     },
     "execution_count": 48,
     "metadata": {},
     "output_type": "execute_result"
    }
   ],
   "source": [
    "df_pivot.shape"
   ]
  },
  {
   "cell_type": "code",
   "execution_count": 49,
   "id": "707d1f82",
   "metadata": {},
   "outputs": [
    {
     "data": {
      "text/html": [
       "<div>\n",
       "<style scoped>\n",
       "    .dataframe tbody tr th:only-of-type {\n",
       "        vertical-align: middle;\n",
       "    }\n",
       "\n",
       "    .dataframe tbody tr th {\n",
       "        vertical-align: top;\n",
       "    }\n",
       "\n",
       "    .dataframe thead th {\n",
       "        text-align: right;\n",
       "    }\n",
       "</style>\n",
       "<table border=\"1\" class=\"dataframe\">\n",
       "  <thead>\n",
       "    <tr style=\"text-align: right;\">\n",
       "      <th></th>\n",
       "      <th>0</th>\n",
       "      <th>1</th>\n",
       "      <th>2</th>\n",
       "      <th>3</th>\n",
       "      <th>4</th>\n",
       "      <th>5</th>\n",
       "      <th>6</th>\n",
       "      <th>7</th>\n",
       "      <th>8</th>\n",
       "      <th>9</th>\n",
       "      <th>...</th>\n",
       "      <th>17839</th>\n",
       "      <th>17840</th>\n",
       "      <th>17841</th>\n",
       "      <th>17842</th>\n",
       "      <th>17843</th>\n",
       "      <th>17844</th>\n",
       "      <th>17845</th>\n",
       "      <th>17846</th>\n",
       "      <th>17847</th>\n",
       "      <th>17848</th>\n",
       "    </tr>\n",
       "    <tr>\n",
       "      <th>reviews_username</th>\n",
       "      <th></th>\n",
       "      <th></th>\n",
       "      <th></th>\n",
       "      <th></th>\n",
       "      <th></th>\n",
       "      <th></th>\n",
       "      <th></th>\n",
       "      <th></th>\n",
       "      <th></th>\n",
       "      <th></th>\n",
       "      <th></th>\n",
       "      <th></th>\n",
       "      <th></th>\n",
       "      <th></th>\n",
       "      <th></th>\n",
       "      <th></th>\n",
       "      <th></th>\n",
       "      <th></th>\n",
       "      <th></th>\n",
       "      <th></th>\n",
       "      <th></th>\n",
       "    </tr>\n",
       "  </thead>\n",
       "  <tbody>\n",
       "    <tr>\n",
       "      <th>00dog3</th>\n",
       "      <td>1.0</td>\n",
       "      <td>0.0</td>\n",
       "      <td>0.0</td>\n",
       "      <td>0.0</td>\n",
       "      <td>0.0</td>\n",
       "      <td>0.0</td>\n",
       "      <td>0.0</td>\n",
       "      <td>0.0</td>\n",
       "      <td>0.000000</td>\n",
       "      <td>0.0</td>\n",
       "      <td>...</td>\n",
       "      <td>0.0</td>\n",
       "      <td>0.0</td>\n",
       "      <td>0.0</td>\n",
       "      <td>0.0</td>\n",
       "      <td>0.0</td>\n",
       "      <td>0.0</td>\n",
       "      <td>0.0</td>\n",
       "      <td>0.0</td>\n",
       "      <td>0.000000</td>\n",
       "      <td>0.0</td>\n",
       "    </tr>\n",
       "    <tr>\n",
       "      <th>00sab00</th>\n",
       "      <td>0.0</td>\n",
       "      <td>1.0</td>\n",
       "      <td>0.0</td>\n",
       "      <td>0.0</td>\n",
       "      <td>0.0</td>\n",
       "      <td>0.0</td>\n",
       "      <td>0.0</td>\n",
       "      <td>0.0</td>\n",
       "      <td>0.948683</td>\n",
       "      <td>0.0</td>\n",
       "      <td>...</td>\n",
       "      <td>0.0</td>\n",
       "      <td>0.0</td>\n",
       "      <td>0.0</td>\n",
       "      <td>0.0</td>\n",
       "      <td>0.0</td>\n",
       "      <td>0.0</td>\n",
       "      <td>0.0</td>\n",
       "      <td>0.0</td>\n",
       "      <td>0.948683</td>\n",
       "      <td>0.0</td>\n",
       "    </tr>\n",
       "    <tr>\n",
       "      <th>01impala</th>\n",
       "      <td>0.0</td>\n",
       "      <td>0.0</td>\n",
       "      <td>1.0</td>\n",
       "      <td>1.0</td>\n",
       "      <td>1.0</td>\n",
       "      <td>0.0</td>\n",
       "      <td>0.0</td>\n",
       "      <td>0.0</td>\n",
       "      <td>0.000000</td>\n",
       "      <td>0.0</td>\n",
       "      <td>...</td>\n",
       "      <td>0.0</td>\n",
       "      <td>0.0</td>\n",
       "      <td>0.0</td>\n",
       "      <td>0.0</td>\n",
       "      <td>0.0</td>\n",
       "      <td>0.0</td>\n",
       "      <td>0.0</td>\n",
       "      <td>0.0</td>\n",
       "      <td>0.000000</td>\n",
       "      <td>0.0</td>\n",
       "    </tr>\n",
       "    <tr>\n",
       "      <th>02dakota</th>\n",
       "      <td>0.0</td>\n",
       "      <td>0.0</td>\n",
       "      <td>1.0</td>\n",
       "      <td>1.0</td>\n",
       "      <td>1.0</td>\n",
       "      <td>0.0</td>\n",
       "      <td>0.0</td>\n",
       "      <td>0.0</td>\n",
       "      <td>0.000000</td>\n",
       "      <td>0.0</td>\n",
       "      <td>...</td>\n",
       "      <td>0.0</td>\n",
       "      <td>0.0</td>\n",
       "      <td>0.0</td>\n",
       "      <td>0.0</td>\n",
       "      <td>0.0</td>\n",
       "      <td>0.0</td>\n",
       "      <td>0.0</td>\n",
       "      <td>0.0</td>\n",
       "      <td>0.000000</td>\n",
       "      <td>0.0</td>\n",
       "    </tr>\n",
       "    <tr>\n",
       "      <th>02deuce</th>\n",
       "      <td>0.0</td>\n",
       "      <td>0.0</td>\n",
       "      <td>1.0</td>\n",
       "      <td>1.0</td>\n",
       "      <td>1.0</td>\n",
       "      <td>0.0</td>\n",
       "      <td>0.0</td>\n",
       "      <td>0.0</td>\n",
       "      <td>0.000000</td>\n",
       "      <td>0.0</td>\n",
       "      <td>...</td>\n",
       "      <td>0.0</td>\n",
       "      <td>0.0</td>\n",
       "      <td>0.0</td>\n",
       "      <td>0.0</td>\n",
       "      <td>0.0</td>\n",
       "      <td>0.0</td>\n",
       "      <td>0.0</td>\n",
       "      <td>0.0</td>\n",
       "      <td>0.000000</td>\n",
       "      <td>0.0</td>\n",
       "    </tr>\n",
       "  </tbody>\n",
       "</table>\n",
       "<p>5 rows × 17849 columns</p>\n",
       "</div>"
      ],
      "text/plain": [
       "                  0      1      2      3      4      5      6      7      \\\n",
       "reviews_username                                                           \n",
       "00dog3              1.0    0.0    0.0    0.0    0.0    0.0    0.0    0.0   \n",
       "00sab00             0.0    1.0    0.0    0.0    0.0    0.0    0.0    0.0   \n",
       "01impala            0.0    0.0    1.0    1.0    1.0    0.0    0.0    0.0   \n",
       "02dakota            0.0    0.0    1.0    1.0    1.0    0.0    0.0    0.0   \n",
       "02deuce             0.0    0.0    1.0    1.0    1.0    0.0    0.0    0.0   \n",
       "\n",
       "                     8      9      ...  17839  17840  17841  17842  17843  \\\n",
       "reviews_username                   ...                                      \n",
       "00dog3            0.000000    0.0  ...    0.0    0.0    0.0    0.0    0.0   \n",
       "00sab00           0.948683    0.0  ...    0.0    0.0    0.0    0.0    0.0   \n",
       "01impala          0.000000    0.0  ...    0.0    0.0    0.0    0.0    0.0   \n",
       "02dakota          0.000000    0.0  ...    0.0    0.0    0.0    0.0    0.0   \n",
       "02deuce           0.000000    0.0  ...    0.0    0.0    0.0    0.0    0.0   \n",
       "\n",
       "                  17844  17845  17846     17847  17848  \n",
       "reviews_username                                        \n",
       "00dog3              0.0    0.0    0.0  0.000000    0.0  \n",
       "00sab00             0.0    0.0    0.0  0.948683    0.0  \n",
       "01impala            0.0    0.0    0.0  0.000000    0.0  \n",
       "02dakota            0.0    0.0    0.0  0.000000    0.0  \n",
       "02deuce             0.0    0.0    0.0  0.000000    0.0  \n",
       "\n",
       "[5 rows x 17849 columns]"
      ]
     },
     "execution_count": 49,
     "metadata": {},
     "output_type": "execute_result"
    }
   ],
   "source": [
    "# Set index of user_correlation df as index of df_pivot\n",
    "user_correlation_df['reviews_username'] = df_pivot.index\n",
    "user_correlation_df.set_index('reviews_username',inplace=True)\n",
    "user_correlation_df.head()"
   ]
  },
  {
   "cell_type": "code",
   "execution_count": 50,
   "id": "7fe31b27",
   "metadata": {},
   "outputs": [
    {
     "data": {
      "text/plain": [
       "(17849, 17849)"
      ]
     },
     "execution_count": 50,
     "metadata": {},
     "output_type": "execute_result"
    }
   ],
   "source": [
    "user_correlation_df.shape"
   ]
  },
  {
   "cell_type": "markdown",
   "id": "3ef10f69",
   "metadata": {},
   "source": [
    "Filter out correlations of those users that are common in both train and test datasets :"
   ]
  },
  {
   "cell_type": "code",
   "execution_count": 51,
   "id": "aac85e32",
   "metadata": {},
   "outputs": [],
   "source": [
    "list_name = common.reviews_username.tolist()\n",
    "user_correlation_df.columns = df_pivot.index.tolist()\n",
    "\n",
    "user_correlation_df_1 =  user_correlation_df[user_correlation_df.index.isin(list_name)]\n",
    "user_correlation_df_2 = user_correlation_df_1.T[user_correlation_df_1.T.index.isin(list_name)]\n",
    "user_correlation_df_3 = user_correlation_df_2.T"
   ]
  },
  {
   "cell_type": "markdown",
   "id": "1bb0a044",
   "metadata": {},
   "source": [
    "'user_correlation_df_3' is a correlation matrix of only those users that are common in both test and train datasets."
   ]
  },
  {
   "cell_type": "code",
   "execution_count": 52,
   "id": "10590454",
   "metadata": {},
   "outputs": [
    {
     "data": {
      "text/html": [
       "<div>\n",
       "<style scoped>\n",
       "    .dataframe tbody tr th:only-of-type {\n",
       "        vertical-align: middle;\n",
       "    }\n",
       "\n",
       "    .dataframe tbody tr th {\n",
       "        vertical-align: top;\n",
       "    }\n",
       "\n",
       "    .dataframe thead th {\n",
       "        text-align: right;\n",
       "    }\n",
       "</style>\n",
       "<table border=\"1\" class=\"dataframe\">\n",
       "  <thead>\n",
       "    <tr style=\"text-align: right;\">\n",
       "      <th></th>\n",
       "      <th>1234</th>\n",
       "      <th>123charlie</th>\n",
       "      <th>37f5p</th>\n",
       "      <th>7.87E+11</th>\n",
       "      <th>aaron</th>\n",
       "      <th>acg1</th>\n",
       "      <th>adam</th>\n",
       "      <th>adelynsmom</th>\n",
       "      <th>adrienne</th>\n",
       "      <th>aep1010</th>\n",
       "      <th>...</th>\n",
       "      <th>woottos</th>\n",
       "      <th>wvshopaholic</th>\n",
       "      <th>xavier</th>\n",
       "      <th>xmom</th>\n",
       "      <th>yohnie1</th>\n",
       "      <th>yummy</th>\n",
       "      <th>zach</th>\n",
       "      <th>zipper</th>\n",
       "      <th>zippy</th>\n",
       "      <th>zitro</th>\n",
       "    </tr>\n",
       "    <tr>\n",
       "      <th>reviews_username</th>\n",
       "      <th></th>\n",
       "      <th></th>\n",
       "      <th></th>\n",
       "      <th></th>\n",
       "      <th></th>\n",
       "      <th></th>\n",
       "      <th></th>\n",
       "      <th></th>\n",
       "      <th></th>\n",
       "      <th></th>\n",
       "      <th></th>\n",
       "      <th></th>\n",
       "      <th></th>\n",
       "      <th></th>\n",
       "      <th></th>\n",
       "      <th></th>\n",
       "      <th></th>\n",
       "      <th></th>\n",
       "      <th></th>\n",
       "      <th></th>\n",
       "      <th></th>\n",
       "    </tr>\n",
       "  </thead>\n",
       "  <tbody>\n",
       "    <tr>\n",
       "      <th>1234</th>\n",
       "      <td>1.000000</td>\n",
       "      <td>0.780869</td>\n",
       "      <td>0.0</td>\n",
       "      <td>0.0</td>\n",
       "      <td>0.0</td>\n",
       "      <td>0.0</td>\n",
       "      <td>0.0</td>\n",
       "      <td>0.624695</td>\n",
       "      <td>0.0</td>\n",
       "      <td>0.624695</td>\n",
       "      <td>...</td>\n",
       "      <td>0.0</td>\n",
       "      <td>0.0</td>\n",
       "      <td>0.0</td>\n",
       "      <td>0.0</td>\n",
       "      <td>0.624695</td>\n",
       "      <td>0.0</td>\n",
       "      <td>0.0</td>\n",
       "      <td>0.0</td>\n",
       "      <td>0.0</td>\n",
       "      <td>0.0</td>\n",
       "    </tr>\n",
       "    <tr>\n",
       "      <th>123charlie</th>\n",
       "      <td>0.780869</td>\n",
       "      <td>1.000000</td>\n",
       "      <td>0.0</td>\n",
       "      <td>0.0</td>\n",
       "      <td>0.0</td>\n",
       "      <td>0.0</td>\n",
       "      <td>0.0</td>\n",
       "      <td>0.000000</td>\n",
       "      <td>0.0</td>\n",
       "      <td>0.000000</td>\n",
       "      <td>...</td>\n",
       "      <td>0.0</td>\n",
       "      <td>0.0</td>\n",
       "      <td>0.0</td>\n",
       "      <td>0.0</td>\n",
       "      <td>0.000000</td>\n",
       "      <td>0.0</td>\n",
       "      <td>0.0</td>\n",
       "      <td>0.0</td>\n",
       "      <td>0.0</td>\n",
       "      <td>0.0</td>\n",
       "    </tr>\n",
       "    <tr>\n",
       "      <th>37f5p</th>\n",
       "      <td>0.000000</td>\n",
       "      <td>0.000000</td>\n",
       "      <td>1.0</td>\n",
       "      <td>1.0</td>\n",
       "      <td>0.0</td>\n",
       "      <td>0.0</td>\n",
       "      <td>0.0</td>\n",
       "      <td>0.000000</td>\n",
       "      <td>0.0</td>\n",
       "      <td>0.000000</td>\n",
       "      <td>...</td>\n",
       "      <td>0.0</td>\n",
       "      <td>0.0</td>\n",
       "      <td>0.0</td>\n",
       "      <td>0.0</td>\n",
       "      <td>0.000000</td>\n",
       "      <td>0.0</td>\n",
       "      <td>1.0</td>\n",
       "      <td>0.0</td>\n",
       "      <td>0.0</td>\n",
       "      <td>0.0</td>\n",
       "    </tr>\n",
       "  </tbody>\n",
       "</table>\n",
       "<p>3 rows × 907 columns</p>\n",
       "</div>"
      ],
      "text/plain": [
       "                      1234  123charlie  37f5p  7.87E+11  aaron  acg1  adam  \\\n",
       "reviews_username                                                             \n",
       "1234              1.000000    0.780869    0.0       0.0    0.0   0.0   0.0   \n",
       "123charlie        0.780869    1.000000    0.0       0.0    0.0   0.0   0.0   \n",
       "37f5p             0.000000    0.000000    1.0       1.0    0.0   0.0   0.0   \n",
       "\n",
       "                  adelynsmom  adrienne   aep1010  ...  woottos  wvshopaholic  \\\n",
       "reviews_username                                  ...                          \n",
       "1234                0.624695       0.0  0.624695  ...      0.0           0.0   \n",
       "123charlie          0.000000       0.0  0.000000  ...      0.0           0.0   \n",
       "37f5p               0.000000       0.0  0.000000  ...      0.0           0.0   \n",
       "\n",
       "                  xavier  xmom   yohnie1  yummy  zach  zipper  zippy  zitro  \n",
       "reviews_username                                                             \n",
       "1234                 0.0   0.0  0.624695    0.0   0.0     0.0    0.0    0.0  \n",
       "123charlie           0.0   0.0  0.000000    0.0   0.0     0.0    0.0    0.0  \n",
       "37f5p                0.0   0.0  0.000000    0.0   1.0     0.0    0.0    0.0  \n",
       "\n",
       "[3 rows x 907 columns]"
      ]
     },
     "execution_count": 52,
     "metadata": {},
     "output_type": "execute_result"
    }
   ],
   "source": [
    "user_correlation_df_3.head(3)"
   ]
  },
  {
   "cell_type": "code",
   "execution_count": 53,
   "id": "d1011b6b",
   "metadata": {},
   "outputs": [
    {
     "data": {
      "text/plain": [
       "(907, 907)"
      ]
     },
     "execution_count": 53,
     "metadata": {},
     "output_type": "execute_result"
    }
   ],
   "source": [
    "user_correlation_df_3.shape"
   ]
  },
  {
   "cell_type": "markdown",
   "id": "67392ff4",
   "metadata": {},
   "source": [
    "let’s now find out the predicted ratings of the test dataset using the ‘user_correlation_df_3’ and ‘common_user_based_matrix’ matrices. This operation is exactly the same as the one we performed for the train dataset to predict the ratings.Then, we need to perform a dot product between the ‘user_correlation_df_3’ and ‘common_user_based_matrix’ matrices."
   ]
  },
  {
   "cell_type": "code",
   "execution_count": 54,
   "id": "df227266",
   "metadata": {},
   "outputs": [
    {
     "data": {
      "text/plain": [
       "array([[ 0.        ,  1.80333927,  0.        , ...,  7.80662951,\n",
       "         0.        ,  0.        ],\n",
       "       [ 0.        ,  0.        ,  0.        , ...,  3.53553391,\n",
       "         0.        ,  0.        ],\n",
       "       [ 2.5       , 10.        ,  0.        , ...,  0.        ,\n",
       "         0.        ,  0.        ],\n",
       "       ...,\n",
       "       [ 0.        ,  5.27420375,  0.        , ...,  8.53553391,\n",
       "         0.        ,  0.        ],\n",
       "       [ 0.        ,  5.38338879,  0.        , ...,  2.90848228,\n",
       "         1.49926811,  2.4       ],\n",
       "       [ 0.        ,  0.        ,  0.        , ...,  5.        ,\n",
       "         3.12347524,  0.        ]])"
      ]
     },
     "execution_count": 54,
     "metadata": {},
     "output_type": "execute_result"
    }
   ],
   "source": [
    "# change negative values of the correlation matrix to 0:\n",
    "user_correlation_df_3[user_correlation_df_3<0]=0\n",
    "\n",
    "# a dot product between the ‘user_correlation_df_3’ and ‘common_user_based_matrix’ matrices:\n",
    "common_user_predicted_ratings = np.dot(user_correlation_df_3, common_user_based_matrix.fillna(0))\n",
    "common_user_predicted_ratings"
   ]
  },
  {
   "cell_type": "markdown",
   "id": "5e052571",
   "metadata": {},
   "source": [
    "To get the predicted ratings of those users who have already rated the products, we will copy a common dataframe and give the rating value 1 to those who rated the product and 0 to those who did not. Then, we will multiply dummy_test with the common_user_predicted_ratings matrix to get the common_user_predicted_ratings dataframe"
   ]
  },
  {
   "cell_type": "code",
   "execution_count": 55,
   "id": "03c69322",
   "metadata": {},
   "outputs": [],
   "source": [
    "dummy_test = common.copy()\n",
    "\n",
    "dummy_test['reviews_rating'] = dummy_test['reviews_rating'].apply(lambda x: 1 if x>=1 else 0)\n",
    "\n",
    "dummy_test = dummy_test.pivot_table(\n",
    "    index='reviews_username', \n",
    "    columns='name', \n",
    "    values='reviews_rating',\n",
    "    aggfunc = 'mean').fillna(0)"
   ]
  },
  {
   "cell_type": "code",
   "execution_count": 56,
   "id": "4b69f356",
   "metadata": {},
   "outputs": [],
   "source": [
    "common_user_predicted_ratings = np.multiply(common_user_predicted_ratings,dummy_test)"
   ]
  },
  {
   "cell_type": "code",
   "execution_count": 57,
   "id": "25a95e5a",
   "metadata": {},
   "outputs": [
    {
     "data": {
      "text/html": [
       "<div>\n",
       "<style scoped>\n",
       "    .dataframe tbody tr th:only-of-type {\n",
       "        vertical-align: middle;\n",
       "    }\n",
       "\n",
       "    .dataframe tbody tr th {\n",
       "        vertical-align: top;\n",
       "    }\n",
       "\n",
       "    .dataframe thead th {\n",
       "        text-align: right;\n",
       "    }\n",
       "</style>\n",
       "<table border=\"1\" class=\"dataframe\">\n",
       "  <thead>\n",
       "    <tr style=\"text-align: right;\">\n",
       "      <th>name</th>\n",
       "      <th>0.6 Cu. Ft. Letter A4 Size Waterproof 30 Min. Fire File Chest</th>\n",
       "      <th>100:Complete First Season (blu-Ray)</th>\n",
       "      <th>Africa's Best No-Lye Dual Conditioning Relaxer System Super</th>\n",
       "      <th>Alex Cross (dvdvideo)</th>\n",
       "      <th>All,bran Complete Wheat Flakes, 18 Oz.</th>\n",
       "      <th>Arrid Extra Dry Anti-Perspirant Deodorant Spray Regular</th>\n",
       "      <th>Aussie Aussome Volume Shampoo, 13.5 Oz</th>\n",
       "      <th>Australian Gold Exotic Blend Lotion, SPF 4</th>\n",
       "      <th>Aveeno Baby Continuous Protection Lotion Sunscreen with Broad Spectrum SPF 55, 4oz</th>\n",
       "      <th>Avery174 Ready Index Contemporary Table Of Contents Divider, 1-8, Multi, Letter</th>\n",
       "      <th>...</th>\n",
       "      <th>Various Artists - Choo Choo Soul (cd)</th>\n",
       "      <th>Vaseline Intensive Care Healthy Hands Stronger Nails</th>\n",
       "      <th>Vaseline Intensive Care Lip Therapy Cocoa Butter</th>\n",
       "      <th>Vicks Vaporub, Regular, 3.53oz</th>\n",
       "      <th>Voortman Sugar Free Fudge Chocolate Chip Cookies</th>\n",
       "      <th>Wagan Smartac 80watt Inverter With Usb</th>\n",
       "      <th>Way Basics 3-Shelf Eco Narrow Bookcase Storage Shelf, Espresso - Formaldehyde Free - Lifetime Guarantee</th>\n",
       "      <th>Windex Original Glass Cleaner Refill 67.6oz (2 Liter)</th>\n",
       "      <th>Yes To Carrots Nourishing Body Wash</th>\n",
       "      <th>Yes To Grapefruit Rejuvenating Body Wash</th>\n",
       "    </tr>\n",
       "    <tr>\n",
       "      <th>reviews_username</th>\n",
       "      <th></th>\n",
       "      <th></th>\n",
       "      <th></th>\n",
       "      <th></th>\n",
       "      <th></th>\n",
       "      <th></th>\n",
       "      <th></th>\n",
       "      <th></th>\n",
       "      <th></th>\n",
       "      <th></th>\n",
       "      <th></th>\n",
       "      <th></th>\n",
       "      <th></th>\n",
       "      <th></th>\n",
       "      <th></th>\n",
       "      <th></th>\n",
       "      <th></th>\n",
       "      <th></th>\n",
       "      <th></th>\n",
       "      <th></th>\n",
       "      <th></th>\n",
       "    </tr>\n",
       "  </thead>\n",
       "  <tbody>\n",
       "    <tr>\n",
       "      <th>1234</th>\n",
       "      <td>0.0</td>\n",
       "      <td>0.0</td>\n",
       "      <td>0.0</td>\n",
       "      <td>0.0</td>\n",
       "      <td>0.0</td>\n",
       "      <td>0.0</td>\n",
       "      <td>0.0</td>\n",
       "      <td>0.0</td>\n",
       "      <td>0.0</td>\n",
       "      <td>0.0</td>\n",
       "      <td>...</td>\n",
       "      <td>0.0</td>\n",
       "      <td>0.0</td>\n",
       "      <td>0.0</td>\n",
       "      <td>0.0</td>\n",
       "      <td>0.0</td>\n",
       "      <td>0.0</td>\n",
       "      <td>0.0</td>\n",
       "      <td>0.0</td>\n",
       "      <td>0.0</td>\n",
       "      <td>0.0</td>\n",
       "    </tr>\n",
       "    <tr>\n",
       "      <th>123charlie</th>\n",
       "      <td>0.0</td>\n",
       "      <td>0.0</td>\n",
       "      <td>0.0</td>\n",
       "      <td>0.0</td>\n",
       "      <td>0.0</td>\n",
       "      <td>0.0</td>\n",
       "      <td>0.0</td>\n",
       "      <td>0.0</td>\n",
       "      <td>0.0</td>\n",
       "      <td>0.0</td>\n",
       "      <td>...</td>\n",
       "      <td>0.0</td>\n",
       "      <td>0.0</td>\n",
       "      <td>0.0</td>\n",
       "      <td>0.0</td>\n",
       "      <td>0.0</td>\n",
       "      <td>0.0</td>\n",
       "      <td>0.0</td>\n",
       "      <td>0.0</td>\n",
       "      <td>0.0</td>\n",
       "      <td>0.0</td>\n",
       "    </tr>\n",
       "  </tbody>\n",
       "</table>\n",
       "<p>2 rows × 120 columns</p>\n",
       "</div>"
      ],
      "text/plain": [
       "name              0.6 Cu. Ft. Letter A4 Size Waterproof 30 Min. Fire File Chest  \\\n",
       "reviews_username                                                                  \n",
       "1234                                                            0.0               \n",
       "123charlie                                                      0.0               \n",
       "\n",
       "name              100:Complete First Season (blu-Ray)  \\\n",
       "reviews_username                                        \n",
       "1234                                              0.0   \n",
       "123charlie                                        0.0   \n",
       "\n",
       "name              Africa's Best No-Lye Dual Conditioning Relaxer System Super  \\\n",
       "reviews_username                                                                \n",
       "1234                                                            0.0             \n",
       "123charlie                                                      0.0             \n",
       "\n",
       "name              Alex Cross (dvdvideo)  \\\n",
       "reviews_username                          \n",
       "1234                                0.0   \n",
       "123charlie                          0.0   \n",
       "\n",
       "name              All,bran Complete Wheat Flakes, 18 Oz.  \\\n",
       "reviews_username                                           \n",
       "1234                                                 0.0   \n",
       "123charlie                                           0.0   \n",
       "\n",
       "name              Arrid Extra Dry Anti-Perspirant Deodorant Spray Regular  \\\n",
       "reviews_username                                                            \n",
       "1234                                                            0.0         \n",
       "123charlie                                                      0.0         \n",
       "\n",
       "name              Aussie Aussome Volume Shampoo, 13.5 Oz  \\\n",
       "reviews_username                                           \n",
       "1234                                                 0.0   \n",
       "123charlie                                           0.0   \n",
       "\n",
       "name              Australian Gold Exotic Blend Lotion, SPF 4  \\\n",
       "reviews_username                                               \n",
       "1234                                                     0.0   \n",
       "123charlie                                               0.0   \n",
       "\n",
       "name              Aveeno Baby Continuous Protection Lotion Sunscreen with Broad Spectrum SPF 55, 4oz  \\\n",
       "reviews_username                                                                                       \n",
       "1234                                                            0.0                                    \n",
       "123charlie                                                      0.0                                    \n",
       "\n",
       "name              Avery174 Ready Index Contemporary Table Of Contents Divider, 1-8, Multi, Letter  \\\n",
       "reviews_username                                                                                    \n",
       "1234                                                            0.0                                 \n",
       "123charlie                                                      0.0                                 \n",
       "\n",
       "name              ...  Various Artists - Choo Choo Soul (cd)  \\\n",
       "reviews_username  ...                                          \n",
       "1234              ...                                    0.0   \n",
       "123charlie        ...                                    0.0   \n",
       "\n",
       "name              Vaseline Intensive Care Healthy Hands Stronger Nails  \\\n",
       "reviews_username                                                         \n",
       "1234                                                            0.0      \n",
       "123charlie                                                      0.0      \n",
       "\n",
       "name              Vaseline Intensive Care Lip Therapy Cocoa Butter  \\\n",
       "reviews_username                                                     \n",
       "1234                                                           0.0   \n",
       "123charlie                                                     0.0   \n",
       "\n",
       "name              Vicks Vaporub, Regular, 3.53oz  \\\n",
       "reviews_username                                   \n",
       "1234                                         0.0   \n",
       "123charlie                                   0.0   \n",
       "\n",
       "name              Voortman Sugar Free Fudge Chocolate Chip Cookies  \\\n",
       "reviews_username                                                     \n",
       "1234                                                           0.0   \n",
       "123charlie                                                     0.0   \n",
       "\n",
       "name              Wagan Smartac 80watt Inverter With Usb  \\\n",
       "reviews_username                                           \n",
       "1234                                                 0.0   \n",
       "123charlie                                           0.0   \n",
       "\n",
       "name              Way Basics 3-Shelf Eco Narrow Bookcase Storage Shelf, Espresso - Formaldehyde Free - Lifetime Guarantee  \\\n",
       "reviews_username                                                                                                            \n",
       "1234                                                            0.0                                                         \n",
       "123charlie                                                      0.0                                                         \n",
       "\n",
       "name              Windex Original Glass Cleaner Refill 67.6oz (2 Liter)  \\\n",
       "reviews_username                                                          \n",
       "1234                                                            0.0       \n",
       "123charlie                                                      0.0       \n",
       "\n",
       "name              Yes To Carrots Nourishing Body Wash  \\\n",
       "reviews_username                                        \n",
       "1234                                              0.0   \n",
       "123charlie                                        0.0   \n",
       "\n",
       "name              Yes To Grapefruit Rejuvenating Body Wash  \n",
       "reviews_username                                            \n",
       "1234                                                   0.0  \n",
       "123charlie                                             0.0  \n",
       "\n",
       "[2 rows x 120 columns]"
      ]
     },
     "execution_count": 57,
     "metadata": {},
     "output_type": "execute_result"
    }
   ],
   "source": [
    "common_user_predicted_ratings.head(2)"
   ]
  },
  {
   "cell_type": "markdown",
   "id": "6737304a",
   "metadata": {
    "id": "emGudTfJoflZ"
   },
   "source": [
    "Calculating the RMSE for only the products rated by user. \n",
    "To calculate RMSE, we need to normalise the rating such that its range is between 1 and 5."
   ]
  },
  {
   "cell_type": "code",
   "execution_count": 58,
   "id": "7011215e",
   "metadata": {},
   "outputs": [
    {
     "name": "stdout",
     "output_type": "stream",
     "text": [
      "MinMaxScaler(feature_range=(1, 5))\n",
      "[[nan nan nan ... nan nan nan]\n",
      " [nan nan nan ... nan nan nan]\n",
      " [nan  5. nan ... nan nan nan]\n",
      " ...\n",
      " [nan nan nan ... nan nan nan]\n",
      " [nan nan nan ... nan nan nan]\n",
      " [nan nan nan ... nan nan nan]]\n"
     ]
    }
   ],
   "source": [
    "from numpy import *\n",
    "\n",
    "X  = common_user_predicted_ratings.copy() \n",
    "X = X[X>0]\n",
    "\n",
    "scaler = MinMaxScaler(feature_range=(1, 5))\n",
    "print(scaler.fit(X))\n",
    "y = (scaler.transform(X))\n",
    "\n",
    "print(y)"
   ]
  },
  {
   "cell_type": "code",
   "execution_count": 59,
   "id": "64ec618b",
   "metadata": {},
   "outputs": [],
   "source": [
    "common_ = common.pivot_table(\n",
    "    index='reviews_username', \n",
    "    columns='name', \n",
    "    values='reviews_rating')"
   ]
  },
  {
   "cell_type": "code",
   "execution_count": 60,
   "id": "1543821d",
   "metadata": {},
   "outputs": [],
   "source": [
    "# Finding total non-NaN value\n",
    "total_non_nan = np.count_nonzero(~np.isnan(y))"
   ]
  },
  {
   "cell_type": "code",
   "execution_count": 61,
   "id": "7e8efda8",
   "metadata": {},
   "outputs": [
    {
     "name": "stdout",
     "output_type": "stream",
     "text": [
      "2.160174168304947\n"
     ]
    }
   ],
   "source": [
    "UBCF_rmse = (sum(sum((common_ - y )**2))/total_non_nan)**0.5\n",
    "print(UBCF_rmse)"
   ]
  },
  {
   "cell_type": "code",
   "execution_count": 62,
   "id": "b2223274",
   "metadata": {},
   "outputs": [
    {
     "data": {
      "text/html": [
       "<div>\n",
       "<style scoped>\n",
       "    .dataframe tbody tr th:only-of-type {\n",
       "        vertical-align: middle;\n",
       "    }\n",
       "\n",
       "    .dataframe tbody tr th {\n",
       "        vertical-align: top;\n",
       "    }\n",
       "\n",
       "    .dataframe thead th {\n",
       "        text-align: right;\n",
       "    }\n",
       "</style>\n",
       "<table border=\"1\" class=\"dataframe\">\n",
       "  <thead>\n",
       "    <tr style=\"text-align: right;\">\n",
       "      <th></th>\n",
       "      <th>type</th>\n",
       "      <th>rmse</th>\n",
       "    </tr>\n",
       "  </thead>\n",
       "  <tbody>\n",
       "    <tr>\n",
       "      <th>0</th>\n",
       "      <td>UBCF</td>\n",
       "      <td>2.16</td>\n",
       "    </tr>\n",
       "  </tbody>\n",
       "</table>\n",
       "</div>"
      ],
      "text/plain": [
       "   type  rmse\n",
       "0  UBCF  2.16"
      ]
     },
     "execution_count": 62,
     "metadata": {},
     "output_type": "execute_result"
    }
   ],
   "source": [
    "rmse_df = pd.DataFrame({'type':['UBCF'],'rmse':[round(UBCF_rmse,2)]})\n",
    "rmse_df"
   ]
  },
  {
   "cell_type": "code",
   "execution_count": null,
   "id": "b292fafe",
   "metadata": {},
   "outputs": [],
   "source": []
  },
  {
   "cell_type": "markdown",
   "id": "5c6de34b",
   "metadata": {
    "id": "0SLeLKr5ofla"
   },
   "source": [
    "### 1.2 Item-based recommendation system:"
   ]
  },
  {
   "cell_type": "markdown",
   "id": "9980defd",
   "metadata": {},
   "source": [
    "To get a `product vs user matrix` instead of a user vs product matrix,we take the transpose of the rating matrix."
   ]
  },
  {
   "cell_type": "code",
   "execution_count": 63,
   "id": "44f303c2",
   "metadata": {
    "id": "PuZ_rfmWExdK"
   },
   "outputs": [
    {
     "data": {
      "text/html": [
       "<div>\n",
       "<style scoped>\n",
       "    .dataframe tbody tr th:only-of-type {\n",
       "        vertical-align: middle;\n",
       "    }\n",
       "\n",
       "    .dataframe tbody tr th {\n",
       "        vertical-align: top;\n",
       "    }\n",
       "\n",
       "    .dataframe thead th {\n",
       "        text-align: right;\n",
       "    }\n",
       "</style>\n",
       "<table border=\"1\" class=\"dataframe\">\n",
       "  <thead>\n",
       "    <tr style=\"text-align: right;\">\n",
       "      <th>reviews_username</th>\n",
       "      <th>00dog3</th>\n",
       "      <th>00sab00</th>\n",
       "      <th>01impala</th>\n",
       "      <th>02dakota</th>\n",
       "      <th>02deuce</th>\n",
       "      <th>06stidriver</th>\n",
       "      <th>08dallas</th>\n",
       "      <th>09mommy11</th>\n",
       "      <th>1085</th>\n",
       "      <th>10ten</th>\n",
       "      <th>...</th>\n",
       "      <th>zsarah</th>\n",
       "      <th>zsazsa</th>\n",
       "      <th>zubb</th>\n",
       "      <th>zuttle</th>\n",
       "      <th>zwithanx</th>\n",
       "      <th>zxcsdfd</th>\n",
       "      <th>zxjki</th>\n",
       "      <th>zyiah4</th>\n",
       "      <th>zzdiane</th>\n",
       "      <th>zzz1127</th>\n",
       "    </tr>\n",
       "    <tr>\n",
       "      <th>name</th>\n",
       "      <th></th>\n",
       "      <th></th>\n",
       "      <th></th>\n",
       "      <th></th>\n",
       "      <th></th>\n",
       "      <th></th>\n",
       "      <th></th>\n",
       "      <th></th>\n",
       "      <th></th>\n",
       "      <th></th>\n",
       "      <th></th>\n",
       "      <th></th>\n",
       "      <th></th>\n",
       "      <th></th>\n",
       "      <th></th>\n",
       "      <th></th>\n",
       "      <th></th>\n",
       "      <th></th>\n",
       "      <th></th>\n",
       "      <th></th>\n",
       "      <th></th>\n",
       "    </tr>\n",
       "  </thead>\n",
       "  <tbody>\n",
       "    <tr>\n",
       "      <th>0.6 Cu. Ft. Letter A4 Size Waterproof 30 Min. Fire File Chest</th>\n",
       "      <td>NaN</td>\n",
       "      <td>NaN</td>\n",
       "      <td>NaN</td>\n",
       "      <td>NaN</td>\n",
       "      <td>NaN</td>\n",
       "      <td>NaN</td>\n",
       "      <td>NaN</td>\n",
       "      <td>NaN</td>\n",
       "      <td>NaN</td>\n",
       "      <td>NaN</td>\n",
       "      <td>...</td>\n",
       "      <td>NaN</td>\n",
       "      <td>NaN</td>\n",
       "      <td>NaN</td>\n",
       "      <td>NaN</td>\n",
       "      <td>NaN</td>\n",
       "      <td>NaN</td>\n",
       "      <td>NaN</td>\n",
       "      <td>NaN</td>\n",
       "      <td>NaN</td>\n",
       "      <td>NaN</td>\n",
       "    </tr>\n",
       "    <tr>\n",
       "      <th>100:Complete First Season (blu-Ray)</th>\n",
       "      <td>NaN</td>\n",
       "      <td>NaN</td>\n",
       "      <td>NaN</td>\n",
       "      <td>NaN</td>\n",
       "      <td>NaN</td>\n",
       "      <td>NaN</td>\n",
       "      <td>5.0</td>\n",
       "      <td>NaN</td>\n",
       "      <td>NaN</td>\n",
       "      <td>NaN</td>\n",
       "      <td>...</td>\n",
       "      <td>NaN</td>\n",
       "      <td>NaN</td>\n",
       "      <td>NaN</td>\n",
       "      <td>NaN</td>\n",
       "      <td>NaN</td>\n",
       "      <td>NaN</td>\n",
       "      <td>NaN</td>\n",
       "      <td>NaN</td>\n",
       "      <td>NaN</td>\n",
       "      <td>NaN</td>\n",
       "    </tr>\n",
       "    <tr>\n",
       "      <th>2017-2018 Brownline174 Duraflex 14-Month Planner 8 1/2 X 11 Black</th>\n",
       "      <td>NaN</td>\n",
       "      <td>NaN</td>\n",
       "      <td>NaN</td>\n",
       "      <td>NaN</td>\n",
       "      <td>NaN</td>\n",
       "      <td>NaN</td>\n",
       "      <td>NaN</td>\n",
       "      <td>NaN</td>\n",
       "      <td>NaN</td>\n",
       "      <td>NaN</td>\n",
       "      <td>...</td>\n",
       "      <td>NaN</td>\n",
       "      <td>NaN</td>\n",
       "      <td>NaN</td>\n",
       "      <td>NaN</td>\n",
       "      <td>NaN</td>\n",
       "      <td>NaN</td>\n",
       "      <td>NaN</td>\n",
       "      <td>NaN</td>\n",
       "      <td>NaN</td>\n",
       "      <td>NaN</td>\n",
       "    </tr>\n",
       "    <tr>\n",
       "      <th>2x Ultra Era with Oxi Booster, 50fl oz</th>\n",
       "      <td>NaN</td>\n",
       "      <td>NaN</td>\n",
       "      <td>NaN</td>\n",
       "      <td>NaN</td>\n",
       "      <td>NaN</td>\n",
       "      <td>NaN</td>\n",
       "      <td>NaN</td>\n",
       "      <td>NaN</td>\n",
       "      <td>NaN</td>\n",
       "      <td>NaN</td>\n",
       "      <td>...</td>\n",
       "      <td>NaN</td>\n",
       "      <td>NaN</td>\n",
       "      <td>NaN</td>\n",
       "      <td>NaN</td>\n",
       "      <td>NaN</td>\n",
       "      <td>NaN</td>\n",
       "      <td>NaN</td>\n",
       "      <td>NaN</td>\n",
       "      <td>NaN</td>\n",
       "      <td>NaN</td>\n",
       "    </tr>\n",
       "    <tr>\n",
       "      <th>42 Dual Drop Leaf Table with 2 Madrid Chairs\"</th>\n",
       "      <td>NaN</td>\n",
       "      <td>NaN</td>\n",
       "      <td>NaN</td>\n",
       "      <td>NaN</td>\n",
       "      <td>NaN</td>\n",
       "      <td>NaN</td>\n",
       "      <td>NaN</td>\n",
       "      <td>NaN</td>\n",
       "      <td>NaN</td>\n",
       "      <td>NaN</td>\n",
       "      <td>...</td>\n",
       "      <td>NaN</td>\n",
       "      <td>NaN</td>\n",
       "      <td>NaN</td>\n",
       "      <td>NaN</td>\n",
       "      <td>NaN</td>\n",
       "      <td>NaN</td>\n",
       "      <td>NaN</td>\n",
       "      <td>NaN</td>\n",
       "      <td>NaN</td>\n",
       "      <td>NaN</td>\n",
       "    </tr>\n",
       "  </tbody>\n",
       "</table>\n",
       "<p>5 rows × 17849 columns</p>\n",
       "</div>"
      ],
      "text/plain": [
       "reviews_username                                    00dog3  00sab00  01impala  \\\n",
       "name                                                                            \n",
       "0.6 Cu. Ft. Letter A4 Size Waterproof 30 Min. F...     NaN      NaN       NaN   \n",
       "100:Complete First Season (blu-Ray)                    NaN      NaN       NaN   \n",
       "2017-2018 Brownline174 Duraflex 14-Month Planne...     NaN      NaN       NaN   \n",
       "2x Ultra Era with Oxi Booster, 50fl oz                 NaN      NaN       NaN   \n",
       "42 Dual Drop Leaf Table with 2 Madrid Chairs\"          NaN      NaN       NaN   \n",
       "\n",
       "reviews_username                                    02dakota  02deuce  \\\n",
       "name                                                                    \n",
       "0.6 Cu. Ft. Letter A4 Size Waterproof 30 Min. F...       NaN      NaN   \n",
       "100:Complete First Season (blu-Ray)                      NaN      NaN   \n",
       "2017-2018 Brownline174 Duraflex 14-Month Planne...       NaN      NaN   \n",
       "2x Ultra Era with Oxi Booster, 50fl oz                   NaN      NaN   \n",
       "42 Dual Drop Leaf Table with 2 Madrid Chairs\"            NaN      NaN   \n",
       "\n",
       "reviews_username                                    06stidriver  08dallas  \\\n",
       "name                                                                        \n",
       "0.6 Cu. Ft. Letter A4 Size Waterproof 30 Min. F...          NaN       NaN   \n",
       "100:Complete First Season (blu-Ray)                         NaN       5.0   \n",
       "2017-2018 Brownline174 Duraflex 14-Month Planne...          NaN       NaN   \n",
       "2x Ultra Era with Oxi Booster, 50fl oz                      NaN       NaN   \n",
       "42 Dual Drop Leaf Table with 2 Madrid Chairs\"               NaN       NaN   \n",
       "\n",
       "reviews_username                                    09mommy11  1085  10ten  \\\n",
       "name                                                                         \n",
       "0.6 Cu. Ft. Letter A4 Size Waterproof 30 Min. F...        NaN   NaN    NaN   \n",
       "100:Complete First Season (blu-Ray)                       NaN   NaN    NaN   \n",
       "2017-2018 Brownline174 Duraflex 14-Month Planne...        NaN   NaN    NaN   \n",
       "2x Ultra Era with Oxi Booster, 50fl oz                    NaN   NaN    NaN   \n",
       "42 Dual Drop Leaf Table with 2 Madrid Chairs\"             NaN   NaN    NaN   \n",
       "\n",
       "reviews_username                                    ...  zsarah  zsazsa  zubb  \\\n",
       "name                                                ...                         \n",
       "0.6 Cu. Ft. Letter A4 Size Waterproof 30 Min. F...  ...     NaN     NaN   NaN   \n",
       "100:Complete First Season (blu-Ray)                 ...     NaN     NaN   NaN   \n",
       "2017-2018 Brownline174 Duraflex 14-Month Planne...  ...     NaN     NaN   NaN   \n",
       "2x Ultra Era with Oxi Booster, 50fl oz              ...     NaN     NaN   NaN   \n",
       "42 Dual Drop Leaf Table with 2 Madrid Chairs\"       ...     NaN     NaN   NaN   \n",
       "\n",
       "reviews_username                                    zuttle  zwithanx  zxcsdfd  \\\n",
       "name                                                                            \n",
       "0.6 Cu. Ft. Letter A4 Size Waterproof 30 Min. F...     NaN       NaN      NaN   \n",
       "100:Complete First Season (blu-Ray)                    NaN       NaN      NaN   \n",
       "2017-2018 Brownline174 Duraflex 14-Month Planne...     NaN       NaN      NaN   \n",
       "2x Ultra Era with Oxi Booster, 50fl oz                 NaN       NaN      NaN   \n",
       "42 Dual Drop Leaf Table with 2 Madrid Chairs\"          NaN       NaN      NaN   \n",
       "\n",
       "reviews_username                                    zxjki  zyiah4  zzdiane  \\\n",
       "name                                                                         \n",
       "0.6 Cu. Ft. Letter A4 Size Waterproof 30 Min. F...    NaN     NaN      NaN   \n",
       "100:Complete First Season (blu-Ray)                   NaN     NaN      NaN   \n",
       "2017-2018 Brownline174 Duraflex 14-Month Planne...    NaN     NaN      NaN   \n",
       "2x Ultra Era with Oxi Booster, 50fl oz                NaN     NaN      NaN   \n",
       "42 Dual Drop Leaf Table with 2 Madrid Chairs\"         NaN     NaN      NaN   \n",
       "\n",
       "reviews_username                                    zzz1127  \n",
       "name                                                         \n",
       "0.6 Cu. Ft. Letter A4 Size Waterproof 30 Min. F...      NaN  \n",
       "100:Complete First Season (blu-Ray)                     NaN  \n",
       "2017-2018 Brownline174 Duraflex 14-Month Planne...      NaN  \n",
       "2x Ultra Era with Oxi Booster, 50fl oz                  NaN  \n",
       "42 Dual Drop Leaf Table with 2 Madrid Chairs\"           NaN  \n",
       "\n",
       "[5 rows x 17849 columns]"
      ]
     },
     "execution_count": 63,
     "metadata": {},
     "output_type": "execute_result"
    }
   ],
   "source": [
    "df_pivot = train.pivot_table(\n",
    "    index='reviews_username',\n",
    "    columns='name',\n",
    "    values='reviews_rating'\n",
    ").T\n",
    "\n",
    "df_pivot.head()"
   ]
  },
  {
   "cell_type": "markdown",
   "id": "7cd0979b",
   "metadata": {
    "id": "_ddgngXvExdK"
   },
   "source": [
    "`We will use the cosine similarity to get the similarity between the items.`"
   ]
  },
  {
   "cell_type": "code",
   "execution_count": 64,
   "id": "611c6e7e",
   "metadata": {
    "id": "wvM0YMzqTD6Z"
   },
   "outputs": [
    {
     "name": "stdout",
     "output_type": "stream",
     "text": [
      "[[1. 0. 0. ... 0. 0. 0.]\n",
      " [0. 1. 0. ... 0. 0. 0.]\n",
      " [0. 0. 1. ... 0. 0. 0.]\n",
      " ...\n",
      " [0. 0. 0. ... 1. 0. 0.]\n",
      " [0. 0. 0. ... 0. 1. 0.]\n",
      " [0. 0. 0. ... 0. 0. 1.]]\n"
     ]
    }
   ],
   "source": [
    "# Item Similarity Matrix\n",
    "item_correlation = 1 - pairwise_distances(df_pivot.fillna(0), metric='cosine')\n",
    "item_correlation[np.isnan(item_correlation)] = 0\n",
    "print(item_correlation)"
   ]
  },
  {
   "cell_type": "markdown",
   "id": "6e0ae119",
   "metadata": {
    "id": "MGf62jf-ExdL"
   },
   "source": [
    "Filtering the correlation only for which the value is greater than 0. (Positively correlated)"
   ]
  },
  {
   "cell_type": "code",
   "execution_count": 65,
   "id": "0246a23a",
   "metadata": {},
   "outputs": [
    {
     "data": {
      "text/plain": [
       "array([[1., 0., 0., ..., 0., 0., 0.],\n",
       "       [0., 1., 0., ..., 0., 0., 0.],\n",
       "       [0., 0., 1., ..., 0., 0., 0.],\n",
       "       ...,\n",
       "       [0., 0., 0., ..., 1., 0., 0.],\n",
       "       [0., 0., 0., ..., 0., 1., 0.],\n",
       "       [0., 0., 0., ..., 0., 0., 1.]])"
      ]
     },
     "execution_count": 65,
     "metadata": {},
     "output_type": "execute_result"
    }
   ],
   "source": [
    "item_correlation[item_correlation<0]=0\n",
    "item_correlation"
   ]
  },
  {
   "cell_type": "code",
   "execution_count": 66,
   "id": "0fc2d891",
   "metadata": {},
   "outputs": [
    {
     "data": {
      "text/plain": [
       "(253, 253)"
      ]
     },
     "execution_count": 66,
     "metadata": {},
     "output_type": "execute_result"
    }
   ],
   "source": [
    "item_correlation.shape"
   ]
  },
  {
   "cell_type": "markdown",
   "id": "a97d13b0",
   "metadata": {},
   "source": [
    "To predict products for a particular user, we need to get the predicted rating matrix. The predicted rating for the users (for rated as well as non-rated products) is the weighted sum of correlation with the product rating. Hence, we need to perform matrix multiplication for the two matrices: ‘df_pivot’ and ‘item_correlation’."
   ]
  },
  {
   "cell_type": "code",
   "execution_count": 67,
   "id": "50169799",
   "metadata": {},
   "outputs": [
    {
     "data": {
      "text/plain": [
       "array([[0.        , 0.        , 0.        , ..., 0.07085904, 0.        ,\n",
       "        0.        ],\n",
       "       [0.        , 0.01784224, 0.        , ..., 0.05496796, 0.02495488,\n",
       "        0.02222441],\n",
       "       [0.        , 0.07065269, 0.        , ..., 0.04528661, 0.        ,\n",
       "        0.00246631],\n",
       "       ...,\n",
       "       [0.        , 0.02554392, 0.        , ..., 0.01106976, 0.01109656,\n",
       "        0.        ],\n",
       "       [0.        , 0.01351655, 0.        , ..., 0.06638567, 0.04159146,\n",
       "        0.03347037],\n",
       "       [0.        , 0.02043513, 0.        , ..., 0.00885581, 0.00887725,\n",
       "        0.        ]])"
      ]
     },
     "execution_count": 67,
     "metadata": {},
     "output_type": "execute_result"
    }
   ],
   "source": [
    "item_predicted_ratings = np.dot((df_pivot.fillna(0).T),item_correlation)\n",
    "item_predicted_ratings"
   ]
  },
  {
   "cell_type": "code",
   "execution_count": 68,
   "id": "b176126d",
   "metadata": {},
   "outputs": [
    {
     "data": {
      "text/plain": [
       "(17849, 253)"
      ]
     },
     "execution_count": 68,
     "metadata": {},
     "output_type": "execute_result"
    }
   ],
   "source": [
    "item_predicted_ratings.shape"
   ]
  },
  {
   "cell_type": "code",
   "execution_count": 69,
   "id": "91adf0e8",
   "metadata": {},
   "outputs": [
    {
     "data": {
      "text/plain": [
       "(17849, 253)"
      ]
     },
     "execution_count": 69,
     "metadata": {},
     "output_type": "execute_result"
    }
   ],
   "source": [
    "dummy_train.shape"
   ]
  },
  {
   "cell_type": "markdown",
   "id": "06c9bf23",
   "metadata": {},
   "source": [
    "### Filtering the rating only for the products not rated by the user for recommendation:\n",
    "Since we are interested only in the products that are not rated by the user, we will ignore the products rated by the user by changing the ratings to zero. This operation can be performed using the ‘dummy_train’ dataset that we created earlier. We need to multiply each element of the ‘dummy_train’ dataset with the ‘item_predicted_ratings’ matrix, and then, we get the ‘item_final_rating’ matrix."
   ]
  },
  {
   "cell_type": "code",
   "execution_count": 70,
   "id": "ae3c026e",
   "metadata": {
    "id": "_AfkZebKExdM"
   },
   "outputs": [
    {
     "data": {
      "text/html": [
       "<div>\n",
       "<style scoped>\n",
       "    .dataframe tbody tr th:only-of-type {\n",
       "        vertical-align: middle;\n",
       "    }\n",
       "\n",
       "    .dataframe tbody tr th {\n",
       "        vertical-align: top;\n",
       "    }\n",
       "\n",
       "    .dataframe thead th {\n",
       "        text-align: right;\n",
       "    }\n",
       "</style>\n",
       "<table border=\"1\" class=\"dataframe\">\n",
       "  <thead>\n",
       "    <tr style=\"text-align: right;\">\n",
       "      <th>name</th>\n",
       "      <th>0.6 Cu. Ft. Letter A4 Size Waterproof 30 Min. Fire File Chest</th>\n",
       "      <th>100:Complete First Season (blu-Ray)</th>\n",
       "      <th>2017-2018 Brownline174 Duraflex 14-Month Planner 8 1/2 X 11 Black</th>\n",
       "      <th>2x Ultra Era with Oxi Booster, 50fl oz</th>\n",
       "      <th>42 Dual Drop Leaf Table with 2 Madrid Chairs\"</th>\n",
       "      <th>4C Grated Parmesan Cheese 100% Natural 8oz Shaker</th>\n",
       "      <th>5302050 15/16 FCT/HOSE ADAPTOR</th>\n",
       "      <th>Africa's Best No-Lye Dual Conditioning Relaxer System Super</th>\n",
       "      <th>Alberto VO5 Salon Series Smooth Plus Sleek Shampoo</th>\n",
       "      <th>Alex Cross (dvdvideo)</th>\n",
       "      <th>...</th>\n",
       "      <th>Voortman Sugar Free Fudge Chocolate Chip Cookies</th>\n",
       "      <th>Wagan Smartac 80watt Inverter With Usb</th>\n",
       "      <th>Walkers Stem Ginger Shortbread</th>\n",
       "      <th>Way Basics 3-Shelf Eco Narrow Bookcase Storage Shelf, Espresso - Formaldehyde Free - Lifetime Guarantee</th>\n",
       "      <th>WeatherTech 40647 14-15 Outlander Cargo Liners Behind 2nd Row, Black</th>\n",
       "      <th>Weleda Everon Lip Balm</th>\n",
       "      <th>Wilton Black Dots Standard Baking Cups</th>\n",
       "      <th>Windex Original Glass Cleaner Refill 67.6oz (2 Liter)</th>\n",
       "      <th>Yes To Carrots Nourishing Body Wash</th>\n",
       "      <th>Yes To Grapefruit Rejuvenating Body Wash</th>\n",
       "    </tr>\n",
       "    <tr>\n",
       "      <th>reviews_username</th>\n",
       "      <th></th>\n",
       "      <th></th>\n",
       "      <th></th>\n",
       "      <th></th>\n",
       "      <th></th>\n",
       "      <th></th>\n",
       "      <th></th>\n",
       "      <th></th>\n",
       "      <th></th>\n",
       "      <th></th>\n",
       "      <th></th>\n",
       "      <th></th>\n",
       "      <th></th>\n",
       "      <th></th>\n",
       "      <th></th>\n",
       "      <th></th>\n",
       "      <th></th>\n",
       "      <th></th>\n",
       "      <th></th>\n",
       "      <th></th>\n",
       "      <th></th>\n",
       "    </tr>\n",
       "  </thead>\n",
       "  <tbody>\n",
       "    <tr>\n",
       "      <th>00dog3</th>\n",
       "      <td>0.0</td>\n",
       "      <td>0.000000</td>\n",
       "      <td>0.0</td>\n",
       "      <td>0.0</td>\n",
       "      <td>0.000000</td>\n",
       "      <td>0.0</td>\n",
       "      <td>0.0</td>\n",
       "      <td>0.0</td>\n",
       "      <td>0.0</td>\n",
       "      <td>0.081790</td>\n",
       "      <td>...</td>\n",
       "      <td>0.0</td>\n",
       "      <td>0.000000</td>\n",
       "      <td>0.0</td>\n",
       "      <td>0.000000</td>\n",
       "      <td>0.000000</td>\n",
       "      <td>0.0</td>\n",
       "      <td>0.0</td>\n",
       "      <td>0.070859</td>\n",
       "      <td>0.000000</td>\n",
       "      <td>0.000000</td>\n",
       "    </tr>\n",
       "    <tr>\n",
       "      <th>00sab00</th>\n",
       "      <td>0.0</td>\n",
       "      <td>0.017842</td>\n",
       "      <td>0.0</td>\n",
       "      <td>0.0</td>\n",
       "      <td>0.157275</td>\n",
       "      <td>0.0</td>\n",
       "      <td>0.0</td>\n",
       "      <td>0.0</td>\n",
       "      <td>0.0</td>\n",
       "      <td>0.010345</td>\n",
       "      <td>...</td>\n",
       "      <td>0.0</td>\n",
       "      <td>0.000000</td>\n",
       "      <td>0.0</td>\n",
       "      <td>0.054780</td>\n",
       "      <td>0.013993</td>\n",
       "      <td>0.0</td>\n",
       "      <td>0.0</td>\n",
       "      <td>0.054968</td>\n",
       "      <td>0.024955</td>\n",
       "      <td>0.022224</td>\n",
       "    </tr>\n",
       "    <tr>\n",
       "      <th>01impala</th>\n",
       "      <td>0.0</td>\n",
       "      <td>0.070653</td>\n",
       "      <td>0.0</td>\n",
       "      <td>0.0</td>\n",
       "      <td>0.000000</td>\n",
       "      <td>0.0</td>\n",
       "      <td>0.0</td>\n",
       "      <td>0.0</td>\n",
       "      <td>0.0</td>\n",
       "      <td>0.016542</td>\n",
       "      <td>...</td>\n",
       "      <td>0.0</td>\n",
       "      <td>0.044706</td>\n",
       "      <td>0.0</td>\n",
       "      <td>0.026525</td>\n",
       "      <td>0.022655</td>\n",
       "      <td>0.0</td>\n",
       "      <td>0.0</td>\n",
       "      <td>0.045287</td>\n",
       "      <td>0.000000</td>\n",
       "      <td>0.002466</td>\n",
       "    </tr>\n",
       "    <tr>\n",
       "      <th>02dakota</th>\n",
       "      <td>0.0</td>\n",
       "      <td>0.117754</td>\n",
       "      <td>0.0</td>\n",
       "      <td>0.0</td>\n",
       "      <td>0.000000</td>\n",
       "      <td>0.0</td>\n",
       "      <td>0.0</td>\n",
       "      <td>0.0</td>\n",
       "      <td>0.0</td>\n",
       "      <td>0.027570</td>\n",
       "      <td>...</td>\n",
       "      <td>0.0</td>\n",
       "      <td>0.074509</td>\n",
       "      <td>0.0</td>\n",
       "      <td>0.044208</td>\n",
       "      <td>0.037758</td>\n",
       "      <td>0.0</td>\n",
       "      <td>0.0</td>\n",
       "      <td>0.075478</td>\n",
       "      <td>0.000000</td>\n",
       "      <td>0.004111</td>\n",
       "    </tr>\n",
       "    <tr>\n",
       "      <th>02deuce</th>\n",
       "      <td>0.0</td>\n",
       "      <td>0.094204</td>\n",
       "      <td>0.0</td>\n",
       "      <td>0.0</td>\n",
       "      <td>0.000000</td>\n",
       "      <td>0.0</td>\n",
       "      <td>0.0</td>\n",
       "      <td>0.0</td>\n",
       "      <td>0.0</td>\n",
       "      <td>0.022056</td>\n",
       "      <td>...</td>\n",
       "      <td>0.0</td>\n",
       "      <td>0.059608</td>\n",
       "      <td>0.0</td>\n",
       "      <td>0.035366</td>\n",
       "      <td>0.030206</td>\n",
       "      <td>0.0</td>\n",
       "      <td>0.0</td>\n",
       "      <td>0.060382</td>\n",
       "      <td>0.000000</td>\n",
       "      <td>0.003288</td>\n",
       "    </tr>\n",
       "  </tbody>\n",
       "</table>\n",
       "<p>5 rows × 253 columns</p>\n",
       "</div>"
      ],
      "text/plain": [
       "name              0.6 Cu. Ft. Letter A4 Size Waterproof 30 Min. Fire File Chest  \\\n",
       "reviews_username                                                                  \n",
       "00dog3                                                          0.0               \n",
       "00sab00                                                         0.0               \n",
       "01impala                                                        0.0               \n",
       "02dakota                                                        0.0               \n",
       "02deuce                                                         0.0               \n",
       "\n",
       "name              100:Complete First Season (blu-Ray)  \\\n",
       "reviews_username                                        \n",
       "00dog3                                       0.000000   \n",
       "00sab00                                      0.017842   \n",
       "01impala                                     0.070653   \n",
       "02dakota                                     0.117754   \n",
       "02deuce                                      0.094204   \n",
       "\n",
       "name              2017-2018 Brownline174 Duraflex 14-Month Planner 8 1/2 X 11 Black  \\\n",
       "reviews_username                                                                      \n",
       "00dog3                                                          0.0                   \n",
       "00sab00                                                         0.0                   \n",
       "01impala                                                        0.0                   \n",
       "02dakota                                                        0.0                   \n",
       "02deuce                                                         0.0                   \n",
       "\n",
       "name              2x Ultra Era with Oxi Booster, 50fl oz  \\\n",
       "reviews_username                                           \n",
       "00dog3                                               0.0   \n",
       "00sab00                                              0.0   \n",
       "01impala                                             0.0   \n",
       "02dakota                                             0.0   \n",
       "02deuce                                              0.0   \n",
       "\n",
       "name              42 Dual Drop Leaf Table with 2 Madrid Chairs\"  \\\n",
       "reviews_username                                                  \n",
       "00dog3                                                 0.000000   \n",
       "00sab00                                                0.157275   \n",
       "01impala                                               0.000000   \n",
       "02dakota                                               0.000000   \n",
       "02deuce                                                0.000000   \n",
       "\n",
       "name              4C Grated Parmesan Cheese 100% Natural 8oz Shaker  \\\n",
       "reviews_username                                                      \n",
       "00dog3                                                          0.0   \n",
       "00sab00                                                         0.0   \n",
       "01impala                                                        0.0   \n",
       "02dakota                                                        0.0   \n",
       "02deuce                                                         0.0   \n",
       "\n",
       "name              5302050 15/16 FCT/HOSE ADAPTOR  \\\n",
       "reviews_username                                   \n",
       "00dog3                                       0.0   \n",
       "00sab00                                      0.0   \n",
       "01impala                                     0.0   \n",
       "02dakota                                     0.0   \n",
       "02deuce                                      0.0   \n",
       "\n",
       "name              Africa's Best No-Lye Dual Conditioning Relaxer System Super  \\\n",
       "reviews_username                                                                \n",
       "00dog3                                                          0.0             \n",
       "00sab00                                                         0.0             \n",
       "01impala                                                        0.0             \n",
       "02dakota                                                        0.0             \n",
       "02deuce                                                         0.0             \n",
       "\n",
       "name              Alberto VO5 Salon Series Smooth Plus Sleek Shampoo  \\\n",
       "reviews_username                                                       \n",
       "00dog3                                                          0.0    \n",
       "00sab00                                                         0.0    \n",
       "01impala                                                        0.0    \n",
       "02dakota                                                        0.0    \n",
       "02deuce                                                         0.0    \n",
       "\n",
       "name              Alex Cross (dvdvideo)  ...  \\\n",
       "reviews_username                         ...   \n",
       "00dog3                         0.081790  ...   \n",
       "00sab00                        0.010345  ...   \n",
       "01impala                       0.016542  ...   \n",
       "02dakota                       0.027570  ...   \n",
       "02deuce                        0.022056  ...   \n",
       "\n",
       "name              Voortman Sugar Free Fudge Chocolate Chip Cookies  \\\n",
       "reviews_username                                                     \n",
       "00dog3                                                         0.0   \n",
       "00sab00                                                        0.0   \n",
       "01impala                                                       0.0   \n",
       "02dakota                                                       0.0   \n",
       "02deuce                                                        0.0   \n",
       "\n",
       "name              Wagan Smartac 80watt Inverter With Usb  \\\n",
       "reviews_username                                           \n",
       "00dog3                                          0.000000   \n",
       "00sab00                                         0.000000   \n",
       "01impala                                        0.044706   \n",
       "02dakota                                        0.074509   \n",
       "02deuce                                         0.059608   \n",
       "\n",
       "name              Walkers Stem Ginger Shortbread  \\\n",
       "reviews_username                                   \n",
       "00dog3                                       0.0   \n",
       "00sab00                                      0.0   \n",
       "01impala                                     0.0   \n",
       "02dakota                                     0.0   \n",
       "02deuce                                      0.0   \n",
       "\n",
       "name              Way Basics 3-Shelf Eco Narrow Bookcase Storage Shelf, Espresso - Formaldehyde Free - Lifetime Guarantee  \\\n",
       "reviews_username                                                                                                            \n",
       "00dog3                                                     0.000000                                                         \n",
       "00sab00                                                    0.054780                                                         \n",
       "01impala                                                   0.026525                                                         \n",
       "02dakota                                                   0.044208                                                         \n",
       "02deuce                                                    0.035366                                                         \n",
       "\n",
       "name              WeatherTech 40647 14-15 Outlander Cargo Liners Behind 2nd Row, Black  \\\n",
       "reviews_username                                                                         \n",
       "00dog3                                                     0.000000                      \n",
       "00sab00                                                    0.013993                      \n",
       "01impala                                                   0.022655                      \n",
       "02dakota                                                   0.037758                      \n",
       "02deuce                                                    0.030206                      \n",
       "\n",
       "name              Weleda Everon Lip Balm  \\\n",
       "reviews_username                           \n",
       "00dog3                               0.0   \n",
       "00sab00                              0.0   \n",
       "01impala                             0.0   \n",
       "02dakota                             0.0   \n",
       "02deuce                              0.0   \n",
       "\n",
       "name              Wilton Black Dots Standard Baking Cups  \\\n",
       "reviews_username                                           \n",
       "00dog3                                               0.0   \n",
       "00sab00                                              0.0   \n",
       "01impala                                             0.0   \n",
       "02dakota                                             0.0   \n",
       "02deuce                                              0.0   \n",
       "\n",
       "name              Windex Original Glass Cleaner Refill 67.6oz (2 Liter)  \\\n",
       "reviews_username                                                          \n",
       "00dog3                                                     0.070859       \n",
       "00sab00                                                    0.054968       \n",
       "01impala                                                   0.045287       \n",
       "02dakota                                                   0.075478       \n",
       "02deuce                                                    0.060382       \n",
       "\n",
       "name              Yes To Carrots Nourishing Body Wash  \\\n",
       "reviews_username                                        \n",
       "00dog3                                       0.000000   \n",
       "00sab00                                      0.024955   \n",
       "01impala                                     0.000000   \n",
       "02dakota                                     0.000000   \n",
       "02deuce                                      0.000000   \n",
       "\n",
       "name              Yes To Grapefruit Rejuvenating Body Wash  \n",
       "reviews_username                                            \n",
       "00dog3                                            0.000000  \n",
       "00sab00                                           0.022224  \n",
       "01impala                                          0.002466  \n",
       "02dakota                                          0.004111  \n",
       "02deuce                                           0.003288  \n",
       "\n",
       "[5 rows x 253 columns]"
      ]
     },
     "execution_count": 70,
     "metadata": {},
     "output_type": "execute_result"
    }
   ],
   "source": [
    "item_final_rating = np.multiply(item_predicted_ratings,dummy_train)\n",
    "item_final_rating.head()"
   ]
  },
  {
   "cell_type": "markdown",
   "id": "3510bb20",
   "metadata": {
    "id": "WPn1Dz8LExdM"
   },
   "source": [
    "### Finding the top 20 recommendation for the *user*\n",
    "\n"
   ]
  },
  {
   "cell_type": "code",
   "execution_count": 71,
   "id": "333d5eff",
   "metadata": {
    "id": "tQZl7CAgUiSH"
   },
   "outputs": [
    {
     "name": "stdout",
     "output_type": "stream",
     "text": [
      "01impala\n"
     ]
    }
   ],
   "source": [
    "# Take the user name as input\n",
    "user_input = input(\"Enter your user name\")\n",
    "print(user_input)"
   ]
  },
  {
   "cell_type": "markdown",
   "id": "ec8e6816",
   "metadata": {},
   "source": [
    "To find the top 20 products for a particular user, we have to filter out the highest rating from 'item_final_rating' for a particular user."
   ]
  },
  {
   "cell_type": "code",
   "execution_count": 72,
   "id": "73f1eb0b",
   "metadata": {
    "id": "-4T_IOaXUjXK"
   },
   "outputs": [
    {
     "data": {
      "text/plain": [
       "name\n",
       "Mike Dave Need Wedding Dates (dvd + Digital)                                      0.101818\n",
       "Planes: Fire Rescue (2 Discs) (includes Digital Copy) (blu-Ray/dvd)               0.094013\n",
       "The Resident Evil Collection 5 Discs (blu-Ray)                                    0.083409\n",
       "100:Complete First Season (blu-Ray)                                               0.070653\n",
       "Red (special Edition) (dvdvideo)                                                  0.070225\n",
       "My Big Fat Greek Wedding 2 (blu-Ray + Dvd + Digital)                              0.066451\n",
       "Cetaphil Gentle Skin Cleanser, 2oz                                                0.059519\n",
       "Chester's Cheese Flavored Puffcorn Snacks                                         0.058770\n",
       "Various - Country's Greatest Gospel:Gold Ed (cd)                                  0.057945\n",
       "Batherapy Natural Mineral Bath Sport Liquid, 16 oz                                0.051217\n",
       "Lynk Professional174 Pull Out Cutting Board Bakeware Sliding Cabinet Organizer    0.051217\n",
       "D-Con Mice Bait Station - 3ct                                                     0.049746\n",
       "Caress Moisturizing Body Bar Natural Silk, 4.75oz                                 0.048593\n",
       "Coty Airspun Face Powder, Translucent Extra Coverage                              0.046189\n",
       "Ceiling Fan With Light White 14.2 X 29.9 X 9.2 - Hunter Fan                       0.046095\n",
       "Windex Original Glass Cleaner Refill 67.6oz (2 Liter)                             0.045287\n",
       "Cococare 100% Natural Castor Oil                                                  0.045248\n",
       "Wagan Smartac 80watt Inverter With Usb                                            0.044706\n",
       "Kind Nut Delight Bar                                                              0.041818\n",
       "The Seaweed Bath Co. Argan Conditioner, Smoothing Citrus                          0.038441\n",
       "Name: 01impala, dtype: float64"
      ]
     },
     "execution_count": 72,
     "metadata": {},
     "output_type": "execute_result"
    }
   ],
   "source": [
    "# Recommending the Top 20 products to the user.\n",
    "IBCF_top20 = item_final_rating.loc[user_input].sort_values(ascending=False)[0:20]\n",
    "IBCF_top20"
   ]
  },
  {
   "cell_type": "markdown",
   "id": "3b902d63",
   "metadata": {
    "id": "jjg4AQbcExdN"
   },
   "source": [
    "# Evaluation - Item based Collaborative Filtering\n",
    "To evaluate the item-based recommendation system, we need to extract those products from the ‘test’ and ‘dummy_test’ datasets that are present in the train dataset because we can find the predicted ratings only for those products. And, only then, we can find the error between the predicted and the actual ratings."
   ]
  },
  {
   "cell_type": "markdown",
   "id": "bafc7bc0",
   "metadata": {
    "id": "qtw9ebU1ExdN"
   },
   "source": [
    "Evaluation will be same as we have seen above for the prediction. The only difference being, we will evaluate for the products already rated by the user instead of predicting it for the products not rated by the user. "
   ]
  },
  {
   "cell_type": "code",
   "execution_count": 73,
   "id": "e47dd700",
   "metadata": {
    "colab": {
     "base_uri": "https://localhost:8080/"
    },
    "id": "C-EiZ7gNAUQS",
    "outputId": "41dd5ab1-d790-4620-b61b-77ec12cb73fe"
   },
   "outputs": [
    {
     "data": {
      "text/plain": [
       "Index(['reviews_username', 'name', 'reviews_rating'], dtype='object')"
      ]
     },
     "execution_count": 73,
     "metadata": {},
     "output_type": "execute_result"
    }
   ],
   "source": [
    "test.columns"
   ]
  },
  {
   "cell_type": "code",
   "execution_count": 74,
   "id": "1bb98a71",
   "metadata": {
    "colab": {
     "base_uri": "https://localhost:8080/"
    },
    "id": "d_ExtVCaWiEq",
    "outputId": "5e986076-94d9-4ed4-aa78-26b2b99eec6d"
   },
   "outputs": [
    {
     "data": {
      "text/plain": [
       "(8301, 3)"
      ]
     },
     "execution_count": 74,
     "metadata": {},
     "output_type": "execute_result"
    }
   ],
   "source": [
    "# Find out the common users of test and train dataset.\n",
    "common =  test[test.name.isin(train.name)]\n",
    "common.shape"
   ]
  },
  {
   "cell_type": "code",
   "execution_count": 75,
   "id": "647c7733",
   "metadata": {},
   "outputs": [
    {
     "data": {
      "text/html": [
       "<div>\n",
       "<style scoped>\n",
       "    .dataframe tbody tr th:only-of-type {\n",
       "        vertical-align: middle;\n",
       "    }\n",
       "\n",
       "    .dataframe tbody tr th {\n",
       "        vertical-align: top;\n",
       "    }\n",
       "\n",
       "    .dataframe thead th {\n",
       "        text-align: right;\n",
       "    }\n",
       "</style>\n",
       "<table border=\"1\" class=\"dataframe\">\n",
       "  <thead>\n",
       "    <tr style=\"text-align: right;\">\n",
       "      <th></th>\n",
       "      <th>reviews_username</th>\n",
       "      <th>name</th>\n",
       "      <th>reviews_rating</th>\n",
       "    </tr>\n",
       "  </thead>\n",
       "  <tbody>\n",
       "    <tr>\n",
       "      <th>27303</th>\n",
       "      <td>jakepogo1</td>\n",
       "      <td>Planes: Fire Rescue (2 Discs) (includes Digita...</td>\n",
       "      <td>4</td>\n",
       "    </tr>\n",
       "    <tr>\n",
       "      <th>7266</th>\n",
       "      <td>ayterrazas</td>\n",
       "      <td>Clorox Disinfecting Wipes Value Pack Scented 1...</td>\n",
       "      <td>4</td>\n",
       "    </tr>\n",
       "    <tr>\n",
       "      <th>12658</th>\n",
       "      <td>itbklc</td>\n",
       "      <td>Clorox Disinfecting Wipes Value Pack Scented 1...</td>\n",
       "      <td>5</td>\n",
       "    </tr>\n",
       "    <tr>\n",
       "      <th>4066</th>\n",
       "      <td>student on the way to organization</td>\n",
       "      <td>Pendaflex174 Divide It Up File Folder, Multi S...</td>\n",
       "      <td>5</td>\n",
       "    </tr>\n",
       "  </tbody>\n",
       "</table>\n",
       "</div>"
      ],
      "text/plain": [
       "                         reviews_username  \\\n",
       "27303                           jakepogo1   \n",
       "7266                           ayterrazas   \n",
       "12658                              itbklc   \n",
       "4066   student on the way to organization   \n",
       "\n",
       "                                                    name  reviews_rating  \n",
       "27303  Planes: Fire Rescue (2 Discs) (includes Digita...               4  \n",
       "7266   Clorox Disinfecting Wipes Value Pack Scented 1...               4  \n",
       "12658  Clorox Disinfecting Wipes Value Pack Scented 1...               5  \n",
       "4066   Pendaflex174 Divide It Up File Folder, Multi S...               5  "
      ]
     },
     "execution_count": 75,
     "metadata": {},
     "output_type": "execute_result"
    }
   ],
   "source": [
    "common.head(4)"
   ]
  },
  {
   "cell_type": "code",
   "execution_count": 76,
   "id": "57949bdb",
   "metadata": {
    "id": "3xinGmbxHdsL"
   },
   "outputs": [],
   "source": [
    "# convert into the product-user rating matrix.\n",
    "common_item_based_matrix = common.pivot_table(\n",
    "    index='reviews_username', \n",
    "    columns='name', \n",
    "    values='reviews_rating').T"
   ]
  },
  {
   "cell_type": "code",
   "execution_count": 77,
   "id": "5904615c",
   "metadata": {
    "colab": {
     "base_uri": "https://localhost:8080/"
    },
    "id": "bj7SQa36H2tC",
    "outputId": "c9ecdd10-359a-4915-9372-c1c4bb6a8f31"
   },
   "outputs": [
    {
     "data": {
      "text/plain": [
       "(197, 7953)"
      ]
     },
     "execution_count": 77,
     "metadata": {},
     "output_type": "execute_result"
    }
   ],
   "source": [
    "common_item_based_matrix.shape"
   ]
  },
  {
   "cell_type": "code",
   "execution_count": 78,
   "id": "5b93bed6",
   "metadata": {
    "id": "n80CcpaX1UQ8"
   },
   "outputs": [],
   "source": [
    "# Convert the item_correlation matrix into dataframe.\n",
    "item_correlation_df = pd.DataFrame(item_correlation)"
   ]
  },
  {
   "cell_type": "code",
   "execution_count": 79,
   "id": "57aa7101",
   "metadata": {
    "colab": {
     "base_uri": "https://localhost:8080/",
     "height": 129
    },
    "id": "OTOgMuup1g_G",
    "outputId": "fcd743eb-d825-4432-da42-94720a7d99cf"
   },
   "outputs": [
    {
     "data": {
      "text/html": [
       "<div>\n",
       "<style scoped>\n",
       "    .dataframe tbody tr th:only-of-type {\n",
       "        vertical-align: middle;\n",
       "    }\n",
       "\n",
       "    .dataframe tbody tr th {\n",
       "        vertical-align: top;\n",
       "    }\n",
       "\n",
       "    .dataframe thead th {\n",
       "        text-align: right;\n",
       "    }\n",
       "</style>\n",
       "<table border=\"1\" class=\"dataframe\">\n",
       "  <thead>\n",
       "    <tr style=\"text-align: right;\">\n",
       "      <th></th>\n",
       "      <th>0</th>\n",
       "      <th>1</th>\n",
       "      <th>2</th>\n",
       "      <th>3</th>\n",
       "      <th>4</th>\n",
       "      <th>5</th>\n",
       "      <th>6</th>\n",
       "      <th>7</th>\n",
       "      <th>8</th>\n",
       "      <th>9</th>\n",
       "      <th>...</th>\n",
       "      <th>243</th>\n",
       "      <th>244</th>\n",
       "      <th>245</th>\n",
       "      <th>246</th>\n",
       "      <th>247</th>\n",
       "      <th>248</th>\n",
       "      <th>249</th>\n",
       "      <th>250</th>\n",
       "      <th>251</th>\n",
       "      <th>252</th>\n",
       "    </tr>\n",
       "  </thead>\n",
       "  <tbody>\n",
       "    <tr>\n",
       "      <th>0</th>\n",
       "      <td>1.0</td>\n",
       "      <td>0.0</td>\n",
       "      <td>0.0</td>\n",
       "      <td>0.0</td>\n",
       "      <td>0.0</td>\n",
       "      <td>0.0</td>\n",
       "      <td>0.0</td>\n",
       "      <td>0.0</td>\n",
       "      <td>0.0</td>\n",
       "      <td>0.0</td>\n",
       "      <td>...</td>\n",
       "      <td>0.0</td>\n",
       "      <td>0.0</td>\n",
       "      <td>0.0</td>\n",
       "      <td>0.0</td>\n",
       "      <td>0.0</td>\n",
       "      <td>0.0</td>\n",
       "      <td>0.0</td>\n",
       "      <td>0.0</td>\n",
       "      <td>0.0</td>\n",
       "      <td>0.0</td>\n",
       "    </tr>\n",
       "    <tr>\n",
       "      <th>1</th>\n",
       "      <td>0.0</td>\n",
       "      <td>1.0</td>\n",
       "      <td>0.0</td>\n",
       "      <td>0.0</td>\n",
       "      <td>0.0</td>\n",
       "      <td>0.0</td>\n",
       "      <td>0.0</td>\n",
       "      <td>0.0</td>\n",
       "      <td>0.0</td>\n",
       "      <td>0.0</td>\n",
       "      <td>...</td>\n",
       "      <td>0.0</td>\n",
       "      <td>0.0</td>\n",
       "      <td>0.0</td>\n",
       "      <td>0.0</td>\n",
       "      <td>0.0</td>\n",
       "      <td>0.0</td>\n",
       "      <td>0.0</td>\n",
       "      <td>0.0</td>\n",
       "      <td>0.0</td>\n",
       "      <td>0.0</td>\n",
       "    </tr>\n",
       "    <tr>\n",
       "      <th>2</th>\n",
       "      <td>0.0</td>\n",
       "      <td>0.0</td>\n",
       "      <td>1.0</td>\n",
       "      <td>0.0</td>\n",
       "      <td>0.0</td>\n",
       "      <td>0.0</td>\n",
       "      <td>0.0</td>\n",
       "      <td>0.0</td>\n",
       "      <td>0.0</td>\n",
       "      <td>0.0</td>\n",
       "      <td>...</td>\n",
       "      <td>0.0</td>\n",
       "      <td>0.0</td>\n",
       "      <td>0.0</td>\n",
       "      <td>0.0</td>\n",
       "      <td>0.0</td>\n",
       "      <td>0.0</td>\n",
       "      <td>0.0</td>\n",
       "      <td>0.0</td>\n",
       "      <td>0.0</td>\n",
       "      <td>0.0</td>\n",
       "    </tr>\n",
       "  </tbody>\n",
       "</table>\n",
       "<p>3 rows × 253 columns</p>\n",
       "</div>"
      ],
      "text/plain": [
       "   0    1    2    3    4    5    6    7    8    9    ...  243  244  245  246  \\\n",
       "0  1.0  0.0  0.0  0.0  0.0  0.0  0.0  0.0  0.0  0.0  ...  0.0  0.0  0.0  0.0   \n",
       "1  0.0  1.0  0.0  0.0  0.0  0.0  0.0  0.0  0.0  0.0  ...  0.0  0.0  0.0  0.0   \n",
       "2  0.0  0.0  1.0  0.0  0.0  0.0  0.0  0.0  0.0  0.0  ...  0.0  0.0  0.0  0.0   \n",
       "\n",
       "   247  248  249  250  251  252  \n",
       "0  0.0  0.0  0.0  0.0  0.0  0.0  \n",
       "1  0.0  0.0  0.0  0.0  0.0  0.0  \n",
       "2  0.0  0.0  0.0  0.0  0.0  0.0  \n",
       "\n",
       "[3 rows x 253 columns]"
      ]
     },
     "execution_count": 79,
     "metadata": {},
     "output_type": "execute_result"
    }
   ],
   "source": [
    "item_correlation_df.head(3)"
   ]
  },
  {
   "cell_type": "code",
   "execution_count": 80,
   "id": "2d05afed",
   "metadata": {},
   "outputs": [
    {
     "data": {
      "text/html": [
       "<div>\n",
       "<style scoped>\n",
       "    .dataframe tbody tr th:only-of-type {\n",
       "        vertical-align: middle;\n",
       "    }\n",
       "\n",
       "    .dataframe tbody tr th {\n",
       "        vertical-align: top;\n",
       "    }\n",
       "\n",
       "    .dataframe thead th {\n",
       "        text-align: right;\n",
       "    }\n",
       "</style>\n",
       "<table border=\"1\" class=\"dataframe\">\n",
       "  <thead>\n",
       "    <tr style=\"text-align: right;\">\n",
       "      <th></th>\n",
       "      <th>0</th>\n",
       "      <th>1</th>\n",
       "      <th>2</th>\n",
       "      <th>3</th>\n",
       "      <th>4</th>\n",
       "      <th>5</th>\n",
       "      <th>6</th>\n",
       "      <th>7</th>\n",
       "      <th>8</th>\n",
       "      <th>9</th>\n",
       "      <th>...</th>\n",
       "      <th>243</th>\n",
       "      <th>244</th>\n",
       "      <th>245</th>\n",
       "      <th>246</th>\n",
       "      <th>247</th>\n",
       "      <th>248</th>\n",
       "      <th>249</th>\n",
       "      <th>250</th>\n",
       "      <th>251</th>\n",
       "      <th>252</th>\n",
       "    </tr>\n",
       "    <tr>\n",
       "      <th>name</th>\n",
       "      <th></th>\n",
       "      <th></th>\n",
       "      <th></th>\n",
       "      <th></th>\n",
       "      <th></th>\n",
       "      <th></th>\n",
       "      <th></th>\n",
       "      <th></th>\n",
       "      <th></th>\n",
       "      <th></th>\n",
       "      <th></th>\n",
       "      <th></th>\n",
       "      <th></th>\n",
       "      <th></th>\n",
       "      <th></th>\n",
       "      <th></th>\n",
       "      <th></th>\n",
       "      <th></th>\n",
       "      <th></th>\n",
       "      <th></th>\n",
       "      <th></th>\n",
       "    </tr>\n",
       "  </thead>\n",
       "  <tbody>\n",
       "    <tr>\n",
       "      <th>0.6 Cu. Ft. Letter A4 Size Waterproof 30 Min. Fire File Chest</th>\n",
       "      <td>1.0</td>\n",
       "      <td>0.0</td>\n",
       "      <td>0.0</td>\n",
       "      <td>0.0</td>\n",
       "      <td>0.0</td>\n",
       "      <td>0.0</td>\n",
       "      <td>0.0</td>\n",
       "      <td>0.0</td>\n",
       "      <td>0.0</td>\n",
       "      <td>0.0</td>\n",
       "      <td>...</td>\n",
       "      <td>0.0</td>\n",
       "      <td>0.0</td>\n",
       "      <td>0.0</td>\n",
       "      <td>0.0</td>\n",
       "      <td>0.0</td>\n",
       "      <td>0.0</td>\n",
       "      <td>0.0</td>\n",
       "      <td>0.0</td>\n",
       "      <td>0.00000</td>\n",
       "      <td>0.0</td>\n",
       "    </tr>\n",
       "    <tr>\n",
       "      <th>100:Complete First Season (blu-Ray)</th>\n",
       "      <td>0.0</td>\n",
       "      <td>1.0</td>\n",
       "      <td>0.0</td>\n",
       "      <td>0.0</td>\n",
       "      <td>0.0</td>\n",
       "      <td>0.0</td>\n",
       "      <td>0.0</td>\n",
       "      <td>0.0</td>\n",
       "      <td>0.0</td>\n",
       "      <td>0.0</td>\n",
       "      <td>...</td>\n",
       "      <td>0.0</td>\n",
       "      <td>0.0</td>\n",
       "      <td>0.0</td>\n",
       "      <td>0.0</td>\n",
       "      <td>0.0</td>\n",
       "      <td>0.0</td>\n",
       "      <td>0.0</td>\n",
       "      <td>0.0</td>\n",
       "      <td>0.00000</td>\n",
       "      <td>0.0</td>\n",
       "    </tr>\n",
       "    <tr>\n",
       "      <th>2017-2018 Brownline174 Duraflex 14-Month Planner 8 1/2 X 11 Black</th>\n",
       "      <td>0.0</td>\n",
       "      <td>0.0</td>\n",
       "      <td>1.0</td>\n",
       "      <td>0.0</td>\n",
       "      <td>0.0</td>\n",
       "      <td>0.0</td>\n",
       "      <td>0.0</td>\n",
       "      <td>0.0</td>\n",
       "      <td>0.0</td>\n",
       "      <td>0.0</td>\n",
       "      <td>...</td>\n",
       "      <td>0.0</td>\n",
       "      <td>0.0</td>\n",
       "      <td>0.0</td>\n",
       "      <td>0.0</td>\n",
       "      <td>0.0</td>\n",
       "      <td>0.0</td>\n",
       "      <td>0.0</td>\n",
       "      <td>0.0</td>\n",
       "      <td>0.00000</td>\n",
       "      <td>0.0</td>\n",
       "    </tr>\n",
       "    <tr>\n",
       "      <th>2x Ultra Era with Oxi Booster, 50fl oz</th>\n",
       "      <td>0.0</td>\n",
       "      <td>0.0</td>\n",
       "      <td>0.0</td>\n",
       "      <td>1.0</td>\n",
       "      <td>0.0</td>\n",
       "      <td>0.0</td>\n",
       "      <td>0.0</td>\n",
       "      <td>0.0</td>\n",
       "      <td>0.0</td>\n",
       "      <td>0.0</td>\n",
       "      <td>...</td>\n",
       "      <td>0.0</td>\n",
       "      <td>0.0</td>\n",
       "      <td>0.0</td>\n",
       "      <td>0.0</td>\n",
       "      <td>0.0</td>\n",
       "      <td>0.0</td>\n",
       "      <td>0.0</td>\n",
       "      <td>0.0</td>\n",
       "      <td>0.00000</td>\n",
       "      <td>0.0</td>\n",
       "    </tr>\n",
       "    <tr>\n",
       "      <th>42 Dual Drop Leaf Table with 2 Madrid Chairs\"</th>\n",
       "      <td>0.0</td>\n",
       "      <td>0.0</td>\n",
       "      <td>0.0</td>\n",
       "      <td>0.0</td>\n",
       "      <td>1.0</td>\n",
       "      <td>0.0</td>\n",
       "      <td>0.0</td>\n",
       "      <td>0.0</td>\n",
       "      <td>0.0</td>\n",
       "      <td>0.0</td>\n",
       "      <td>...</td>\n",
       "      <td>0.0</td>\n",
       "      <td>0.0</td>\n",
       "      <td>0.0</td>\n",
       "      <td>0.0</td>\n",
       "      <td>0.0</td>\n",
       "      <td>0.0</td>\n",
       "      <td>0.0</td>\n",
       "      <td>0.0</td>\n",
       "      <td>0.15867</td>\n",
       "      <td>0.0</td>\n",
       "    </tr>\n",
       "  </tbody>\n",
       "</table>\n",
       "<p>5 rows × 253 columns</p>\n",
       "</div>"
      ],
      "text/plain": [
       "                                                    0    1    2    3    4    \\\n",
       "name                                                                          \n",
       "0.6 Cu. Ft. Letter A4 Size Waterproof 30 Min. F...  1.0  0.0  0.0  0.0  0.0   \n",
       "100:Complete First Season (blu-Ray)                 0.0  1.0  0.0  0.0  0.0   \n",
       "2017-2018 Brownline174 Duraflex 14-Month Planne...  0.0  0.0  1.0  0.0  0.0   \n",
       "2x Ultra Era with Oxi Booster, 50fl oz              0.0  0.0  0.0  1.0  0.0   \n",
       "42 Dual Drop Leaf Table with 2 Madrid Chairs\"       0.0  0.0  0.0  0.0  1.0   \n",
       "\n",
       "                                                    5    6    7    8    9    \\\n",
       "name                                                                          \n",
       "0.6 Cu. Ft. Letter A4 Size Waterproof 30 Min. F...  0.0  0.0  0.0  0.0  0.0   \n",
       "100:Complete First Season (blu-Ray)                 0.0  0.0  0.0  0.0  0.0   \n",
       "2017-2018 Brownline174 Duraflex 14-Month Planne...  0.0  0.0  0.0  0.0  0.0   \n",
       "2x Ultra Era with Oxi Booster, 50fl oz              0.0  0.0  0.0  0.0  0.0   \n",
       "42 Dual Drop Leaf Table with 2 Madrid Chairs\"       0.0  0.0  0.0  0.0  0.0   \n",
       "\n",
       "                                                    ...  243  244  245  246  \\\n",
       "name                                                ...                       \n",
       "0.6 Cu. Ft. Letter A4 Size Waterproof 30 Min. F...  ...  0.0  0.0  0.0  0.0   \n",
       "100:Complete First Season (blu-Ray)                 ...  0.0  0.0  0.0  0.0   \n",
       "2017-2018 Brownline174 Duraflex 14-Month Planne...  ...  0.0  0.0  0.0  0.0   \n",
       "2x Ultra Era with Oxi Booster, 50fl oz              ...  0.0  0.0  0.0  0.0   \n",
       "42 Dual Drop Leaf Table with 2 Madrid Chairs\"       ...  0.0  0.0  0.0  0.0   \n",
       "\n",
       "                                                    247  248  249  250  \\\n",
       "name                                                                     \n",
       "0.6 Cu. Ft. Letter A4 Size Waterproof 30 Min. F...  0.0  0.0  0.0  0.0   \n",
       "100:Complete First Season (blu-Ray)                 0.0  0.0  0.0  0.0   \n",
       "2017-2018 Brownline174 Duraflex 14-Month Planne...  0.0  0.0  0.0  0.0   \n",
       "2x Ultra Era with Oxi Booster, 50fl oz              0.0  0.0  0.0  0.0   \n",
       "42 Dual Drop Leaf Table with 2 Madrid Chairs\"       0.0  0.0  0.0  0.0   \n",
       "\n",
       "                                                        251  252  \n",
       "name                                                              \n",
       "0.6 Cu. Ft. Letter A4 Size Waterproof 30 Min. F...  0.00000  0.0  \n",
       "100:Complete First Season (blu-Ray)                 0.00000  0.0  \n",
       "2017-2018 Brownline174 Duraflex 14-Month Planne...  0.00000  0.0  \n",
       "2x Ultra Era with Oxi Booster, 50fl oz              0.00000  0.0  \n",
       "42 Dual Drop Leaf Table with 2 Madrid Chairs\"       0.15867  0.0  \n",
       "\n",
       "[5 rows x 253 columns]"
      ]
     },
     "execution_count": 80,
     "metadata": {},
     "output_type": "execute_result"
    }
   ],
   "source": [
    "# Set index of item_correlation df as index of df_pivot\n",
    "item_correlation_df['name'] = df_pivot.index\n",
    "item_correlation_df.set_index('name',inplace=True)\n",
    "item_correlation_df.head()"
   ]
  },
  {
   "cell_type": "markdown",
   "id": "2d706f9d",
   "metadata": {},
   "source": [
    "We will now filter out the correlation of only those products that are common in both test and train datasets:"
   ]
  },
  {
   "cell_type": "code",
   "execution_count": 81,
   "id": "15036fa7",
   "metadata": {},
   "outputs": [],
   "source": [
    "list_name = common.name.tolist()\n",
    "item_correlation_df.columns = df_pivot.index.tolist()\n",
    "\n",
    "item_correlation_df_1 =  item_correlation_df[item_correlation_df.index.isin(list_name)]\n",
    "item_correlation_df_2 = item_correlation_df_1.T[item_correlation_df_1.T.index.isin(list_name)]\n",
    "\n",
    "item_correlation_df_3 = item_correlation_df_2.T"
   ]
  },
  {
   "cell_type": "markdown",
   "id": "d433a465",
   "metadata": {},
   "source": [
    "'item_correlation_df_3' is a correlation matrix of only those products that are common in both test and train datasets."
   ]
  },
  {
   "cell_type": "code",
   "execution_count": 82,
   "id": "fa71a92a",
   "metadata": {},
   "outputs": [
    {
     "data": {
      "text/html": [
       "<div>\n",
       "<style scoped>\n",
       "    .dataframe tbody tr th:only-of-type {\n",
       "        vertical-align: middle;\n",
       "    }\n",
       "\n",
       "    .dataframe tbody tr th {\n",
       "        vertical-align: top;\n",
       "    }\n",
       "\n",
       "    .dataframe thead th {\n",
       "        text-align: right;\n",
       "    }\n",
       "</style>\n",
       "<table border=\"1\" class=\"dataframe\">\n",
       "  <thead>\n",
       "    <tr style=\"text-align: right;\">\n",
       "      <th></th>\n",
       "      <th>0.6 Cu. Ft. Letter A4 Size Waterproof 30 Min. Fire File Chest</th>\n",
       "      <th>100:Complete First Season (blu-Ray)</th>\n",
       "      <th>2017-2018 Brownline174 Duraflex 14-Month Planner 8 1/2 X 11 Black</th>\n",
       "      <th>2x Ultra Era with Oxi Booster, 50fl oz</th>\n",
       "      <th>4C Grated Parmesan Cheese 100% Natural 8oz Shaker</th>\n",
       "      <th>Africa's Best No-Lye Dual Conditioning Relaxer System Super</th>\n",
       "      <th>Alex Cross (dvdvideo)</th>\n",
       "      <th>All,bran Complete Wheat Flakes, 18 Oz.</th>\n",
       "      <th>Annie's Homegrown Gluten Free Double Chocolate Chip Granola Bars</th>\n",
       "      <th>Arrid Extra Dry Anti-Perspirant Deodorant Spray Regular</th>\n",
       "      <th>...</th>\n",
       "      <th>Vaseline Intensive Care Lip Therapy Cocoa Butter</th>\n",
       "      <th>Vicks Vaporub, Regular, 3.53oz</th>\n",
       "      <th>Voortman Sugar Free Fudge Chocolate Chip Cookies</th>\n",
       "      <th>Wagan Smartac 80watt Inverter With Usb</th>\n",
       "      <th>Way Basics 3-Shelf Eco Narrow Bookcase Storage Shelf, Espresso - Formaldehyde Free - Lifetime Guarantee</th>\n",
       "      <th>WeatherTech 40647 14-15 Outlander Cargo Liners Behind 2nd Row, Black</th>\n",
       "      <th>Weleda Everon Lip Balm</th>\n",
       "      <th>Windex Original Glass Cleaner Refill 67.6oz (2 Liter)</th>\n",
       "      <th>Yes To Carrots Nourishing Body Wash</th>\n",
       "      <th>Yes To Grapefruit Rejuvenating Body Wash</th>\n",
       "    </tr>\n",
       "    <tr>\n",
       "      <th>name</th>\n",
       "      <th></th>\n",
       "      <th></th>\n",
       "      <th></th>\n",
       "      <th></th>\n",
       "      <th></th>\n",
       "      <th></th>\n",
       "      <th></th>\n",
       "      <th></th>\n",
       "      <th></th>\n",
       "      <th></th>\n",
       "      <th></th>\n",
       "      <th></th>\n",
       "      <th></th>\n",
       "      <th></th>\n",
       "      <th></th>\n",
       "      <th></th>\n",
       "      <th></th>\n",
       "      <th></th>\n",
       "      <th></th>\n",
       "      <th></th>\n",
       "      <th></th>\n",
       "    </tr>\n",
       "  </thead>\n",
       "  <tbody>\n",
       "    <tr>\n",
       "      <th>0.6 Cu. Ft. Letter A4 Size Waterproof 30 Min. Fire File Chest</th>\n",
       "      <td>1.0</td>\n",
       "      <td>0.0</td>\n",
       "      <td>0.0</td>\n",
       "      <td>0.0</td>\n",
       "      <td>0.0</td>\n",
       "      <td>0.0</td>\n",
       "      <td>0.0</td>\n",
       "      <td>0.0</td>\n",
       "      <td>0.0</td>\n",
       "      <td>0.0</td>\n",
       "      <td>...</td>\n",
       "      <td>0.0</td>\n",
       "      <td>0.0</td>\n",
       "      <td>0.0</td>\n",
       "      <td>0.0</td>\n",
       "      <td>0.0</td>\n",
       "      <td>0.0</td>\n",
       "      <td>0.0</td>\n",
       "      <td>0.0</td>\n",
       "      <td>0.0</td>\n",
       "      <td>0.0</td>\n",
       "    </tr>\n",
       "    <tr>\n",
       "      <th>100:Complete First Season (blu-Ray)</th>\n",
       "      <td>0.0</td>\n",
       "      <td>1.0</td>\n",
       "      <td>0.0</td>\n",
       "      <td>0.0</td>\n",
       "      <td>0.0</td>\n",
       "      <td>0.0</td>\n",
       "      <td>0.0</td>\n",
       "      <td>0.0</td>\n",
       "      <td>0.0</td>\n",
       "      <td>0.0</td>\n",
       "      <td>...</td>\n",
       "      <td>0.0</td>\n",
       "      <td>0.0</td>\n",
       "      <td>0.0</td>\n",
       "      <td>0.0</td>\n",
       "      <td>0.0</td>\n",
       "      <td>0.0</td>\n",
       "      <td>0.0</td>\n",
       "      <td>0.0</td>\n",
       "      <td>0.0</td>\n",
       "      <td>0.0</td>\n",
       "    </tr>\n",
       "    <tr>\n",
       "      <th>2017-2018 Brownline174 Duraflex 14-Month Planner 8 1/2 X 11 Black</th>\n",
       "      <td>0.0</td>\n",
       "      <td>0.0</td>\n",
       "      <td>1.0</td>\n",
       "      <td>0.0</td>\n",
       "      <td>0.0</td>\n",
       "      <td>0.0</td>\n",
       "      <td>0.0</td>\n",
       "      <td>0.0</td>\n",
       "      <td>0.0</td>\n",
       "      <td>0.0</td>\n",
       "      <td>...</td>\n",
       "      <td>0.0</td>\n",
       "      <td>0.0</td>\n",
       "      <td>0.0</td>\n",
       "      <td>0.0</td>\n",
       "      <td>0.0</td>\n",
       "      <td>0.0</td>\n",
       "      <td>0.0</td>\n",
       "      <td>0.0</td>\n",
       "      <td>0.0</td>\n",
       "      <td>0.0</td>\n",
       "    </tr>\n",
       "    <tr>\n",
       "      <th>2x Ultra Era with Oxi Booster, 50fl oz</th>\n",
       "      <td>0.0</td>\n",
       "      <td>0.0</td>\n",
       "      <td>0.0</td>\n",
       "      <td>1.0</td>\n",
       "      <td>0.0</td>\n",
       "      <td>0.0</td>\n",
       "      <td>0.0</td>\n",
       "      <td>0.0</td>\n",
       "      <td>0.0</td>\n",
       "      <td>0.0</td>\n",
       "      <td>...</td>\n",
       "      <td>0.0</td>\n",
       "      <td>0.0</td>\n",
       "      <td>0.0</td>\n",
       "      <td>0.0</td>\n",
       "      <td>0.0</td>\n",
       "      <td>0.0</td>\n",
       "      <td>0.0</td>\n",
       "      <td>0.0</td>\n",
       "      <td>0.0</td>\n",
       "      <td>0.0</td>\n",
       "    </tr>\n",
       "    <tr>\n",
       "      <th>4C Grated Parmesan Cheese 100% Natural 8oz Shaker</th>\n",
       "      <td>0.0</td>\n",
       "      <td>0.0</td>\n",
       "      <td>0.0</td>\n",
       "      <td>0.0</td>\n",
       "      <td>1.0</td>\n",
       "      <td>0.0</td>\n",
       "      <td>0.0</td>\n",
       "      <td>0.0</td>\n",
       "      <td>0.0</td>\n",
       "      <td>0.0</td>\n",
       "      <td>...</td>\n",
       "      <td>0.0</td>\n",
       "      <td>0.0</td>\n",
       "      <td>0.0</td>\n",
       "      <td>0.0</td>\n",
       "      <td>0.0</td>\n",
       "      <td>0.0</td>\n",
       "      <td>0.0</td>\n",
       "      <td>0.0</td>\n",
       "      <td>0.0</td>\n",
       "      <td>0.0</td>\n",
       "    </tr>\n",
       "  </tbody>\n",
       "</table>\n",
       "<p>5 rows × 197 columns</p>\n",
       "</div>"
      ],
      "text/plain": [
       "                                                    0.6 Cu. Ft. Letter A4 Size Waterproof 30 Min. Fire File Chest  \\\n",
       "name                                                                                                                \n",
       "0.6 Cu. Ft. Letter A4 Size Waterproof 30 Min. F...                                                1.0               \n",
       "100:Complete First Season (blu-Ray)                                                               0.0               \n",
       "2017-2018 Brownline174 Duraflex 14-Month Planne...                                                0.0               \n",
       "2x Ultra Era with Oxi Booster, 50fl oz                                                            0.0               \n",
       "4C Grated Parmesan Cheese 100% Natural 8oz Shaker                                                 0.0               \n",
       "\n",
       "                                                    100:Complete First Season (blu-Ray)  \\\n",
       "name                                                                                      \n",
       "0.6 Cu. Ft. Letter A4 Size Waterproof 30 Min. F...                                  0.0   \n",
       "100:Complete First Season (blu-Ray)                                                 1.0   \n",
       "2017-2018 Brownline174 Duraflex 14-Month Planne...                                  0.0   \n",
       "2x Ultra Era with Oxi Booster, 50fl oz                                              0.0   \n",
       "4C Grated Parmesan Cheese 100% Natural 8oz Shaker                                   0.0   \n",
       "\n",
       "                                                    2017-2018 Brownline174 Duraflex 14-Month Planner 8 1/2 X 11 Black  \\\n",
       "name                                                                                                                    \n",
       "0.6 Cu. Ft. Letter A4 Size Waterproof 30 Min. F...                                                0.0                   \n",
       "100:Complete First Season (blu-Ray)                                                               0.0                   \n",
       "2017-2018 Brownline174 Duraflex 14-Month Planne...                                                1.0                   \n",
       "2x Ultra Era with Oxi Booster, 50fl oz                                                            0.0                   \n",
       "4C Grated Parmesan Cheese 100% Natural 8oz Shaker                                                 0.0                   \n",
       "\n",
       "                                                    2x Ultra Era with Oxi Booster, 50fl oz  \\\n",
       "name                                                                                         \n",
       "0.6 Cu. Ft. Letter A4 Size Waterproof 30 Min. F...                                     0.0   \n",
       "100:Complete First Season (blu-Ray)                                                    0.0   \n",
       "2017-2018 Brownline174 Duraflex 14-Month Planne...                                     0.0   \n",
       "2x Ultra Era with Oxi Booster, 50fl oz                                                 1.0   \n",
       "4C Grated Parmesan Cheese 100% Natural 8oz Shaker                                      0.0   \n",
       "\n",
       "                                                    4C Grated Parmesan Cheese 100% Natural 8oz Shaker  \\\n",
       "name                                                                                                    \n",
       "0.6 Cu. Ft. Letter A4 Size Waterproof 30 Min. F...                                                0.0   \n",
       "100:Complete First Season (blu-Ray)                                                               0.0   \n",
       "2017-2018 Brownline174 Duraflex 14-Month Planne...                                                0.0   \n",
       "2x Ultra Era with Oxi Booster, 50fl oz                                                            0.0   \n",
       "4C Grated Parmesan Cheese 100% Natural 8oz Shaker                                                 1.0   \n",
       "\n",
       "                                                    Africa's Best No-Lye Dual Conditioning Relaxer System Super  \\\n",
       "name                                                                                                              \n",
       "0.6 Cu. Ft. Letter A4 Size Waterproof 30 Min. F...                                                0.0             \n",
       "100:Complete First Season (blu-Ray)                                                               0.0             \n",
       "2017-2018 Brownline174 Duraflex 14-Month Planne...                                                0.0             \n",
       "2x Ultra Era with Oxi Booster, 50fl oz                                                            0.0             \n",
       "4C Grated Parmesan Cheese 100% Natural 8oz Shaker                                                 0.0             \n",
       "\n",
       "                                                    Alex Cross (dvdvideo)  \\\n",
       "name                                                                        \n",
       "0.6 Cu. Ft. Letter A4 Size Waterproof 30 Min. F...                    0.0   \n",
       "100:Complete First Season (blu-Ray)                                   0.0   \n",
       "2017-2018 Brownline174 Duraflex 14-Month Planne...                    0.0   \n",
       "2x Ultra Era with Oxi Booster, 50fl oz                                0.0   \n",
       "4C Grated Parmesan Cheese 100% Natural 8oz Shaker                     0.0   \n",
       "\n",
       "                                                    All,bran Complete Wheat Flakes, 18 Oz.  \\\n",
       "name                                                                                         \n",
       "0.6 Cu. Ft. Letter A4 Size Waterproof 30 Min. F...                                     0.0   \n",
       "100:Complete First Season (blu-Ray)                                                    0.0   \n",
       "2017-2018 Brownline174 Duraflex 14-Month Planne...                                     0.0   \n",
       "2x Ultra Era with Oxi Booster, 50fl oz                                                 0.0   \n",
       "4C Grated Parmesan Cheese 100% Natural 8oz Shaker                                      0.0   \n",
       "\n",
       "                                                    Annie's Homegrown Gluten Free Double Chocolate Chip Granola Bars  \\\n",
       "name                                                                                                                   \n",
       "0.6 Cu. Ft. Letter A4 Size Waterproof 30 Min. F...                                                0.0                  \n",
       "100:Complete First Season (blu-Ray)                                                               0.0                  \n",
       "2017-2018 Brownline174 Duraflex 14-Month Planne...                                                0.0                  \n",
       "2x Ultra Era with Oxi Booster, 50fl oz                                                            0.0                  \n",
       "4C Grated Parmesan Cheese 100% Natural 8oz Shaker                                                 0.0                  \n",
       "\n",
       "                                                    Arrid Extra Dry Anti-Perspirant Deodorant Spray Regular  \\\n",
       "name                                                                                                          \n",
       "0.6 Cu. Ft. Letter A4 Size Waterproof 30 Min. F...                                                0.0         \n",
       "100:Complete First Season (blu-Ray)                                                               0.0         \n",
       "2017-2018 Brownline174 Duraflex 14-Month Planne...                                                0.0         \n",
       "2x Ultra Era with Oxi Booster, 50fl oz                                                            0.0         \n",
       "4C Grated Parmesan Cheese 100% Natural 8oz Shaker                                                 0.0         \n",
       "\n",
       "                                                    ...  \\\n",
       "name                                                ...   \n",
       "0.6 Cu. Ft. Letter A4 Size Waterproof 30 Min. F...  ...   \n",
       "100:Complete First Season (blu-Ray)                 ...   \n",
       "2017-2018 Brownline174 Duraflex 14-Month Planne...  ...   \n",
       "2x Ultra Era with Oxi Booster, 50fl oz              ...   \n",
       "4C Grated Parmesan Cheese 100% Natural 8oz Shaker   ...   \n",
       "\n",
       "                                                    Vaseline Intensive Care Lip Therapy Cocoa Butter  \\\n",
       "name                                                                                                   \n",
       "0.6 Cu. Ft. Letter A4 Size Waterproof 30 Min. F...                                               0.0   \n",
       "100:Complete First Season (blu-Ray)                                                              0.0   \n",
       "2017-2018 Brownline174 Duraflex 14-Month Planne...                                               0.0   \n",
       "2x Ultra Era with Oxi Booster, 50fl oz                                                           0.0   \n",
       "4C Grated Parmesan Cheese 100% Natural 8oz Shaker                                                0.0   \n",
       "\n",
       "                                                    Vicks Vaporub, Regular, 3.53oz  \\\n",
       "name                                                                                 \n",
       "0.6 Cu. Ft. Letter A4 Size Waterproof 30 Min. F...                             0.0   \n",
       "100:Complete First Season (blu-Ray)                                            0.0   \n",
       "2017-2018 Brownline174 Duraflex 14-Month Planne...                             0.0   \n",
       "2x Ultra Era with Oxi Booster, 50fl oz                                         0.0   \n",
       "4C Grated Parmesan Cheese 100% Natural 8oz Shaker                              0.0   \n",
       "\n",
       "                                                    Voortman Sugar Free Fudge Chocolate Chip Cookies  \\\n",
       "name                                                                                                   \n",
       "0.6 Cu. Ft. Letter A4 Size Waterproof 30 Min. F...                                               0.0   \n",
       "100:Complete First Season (blu-Ray)                                                              0.0   \n",
       "2017-2018 Brownline174 Duraflex 14-Month Planne...                                               0.0   \n",
       "2x Ultra Era with Oxi Booster, 50fl oz                                                           0.0   \n",
       "4C Grated Parmesan Cheese 100% Natural 8oz Shaker                                                0.0   \n",
       "\n",
       "                                                    Wagan Smartac 80watt Inverter With Usb  \\\n",
       "name                                                                                         \n",
       "0.6 Cu. Ft. Letter A4 Size Waterproof 30 Min. F...                                     0.0   \n",
       "100:Complete First Season (blu-Ray)                                                    0.0   \n",
       "2017-2018 Brownline174 Duraflex 14-Month Planne...                                     0.0   \n",
       "2x Ultra Era with Oxi Booster, 50fl oz                                                 0.0   \n",
       "4C Grated Parmesan Cheese 100% Natural 8oz Shaker                                      0.0   \n",
       "\n",
       "                                                    Way Basics 3-Shelf Eco Narrow Bookcase Storage Shelf, Espresso - Formaldehyde Free - Lifetime Guarantee  \\\n",
       "name                                                                                                                                                          \n",
       "0.6 Cu. Ft. Letter A4 Size Waterproof 30 Min. F...                                                0.0                                                         \n",
       "100:Complete First Season (blu-Ray)                                                               0.0                                                         \n",
       "2017-2018 Brownline174 Duraflex 14-Month Planne...                                                0.0                                                         \n",
       "2x Ultra Era with Oxi Booster, 50fl oz                                                            0.0                                                         \n",
       "4C Grated Parmesan Cheese 100% Natural 8oz Shaker                                                 0.0                                                         \n",
       "\n",
       "                                                    WeatherTech 40647 14-15 Outlander Cargo Liners Behind 2nd Row, Black  \\\n",
       "name                                                                                                                       \n",
       "0.6 Cu. Ft. Letter A4 Size Waterproof 30 Min. F...                                                0.0                      \n",
       "100:Complete First Season (blu-Ray)                                                               0.0                      \n",
       "2017-2018 Brownline174 Duraflex 14-Month Planne...                                                0.0                      \n",
       "2x Ultra Era with Oxi Booster, 50fl oz                                                            0.0                      \n",
       "4C Grated Parmesan Cheese 100% Natural 8oz Shaker                                                 0.0                      \n",
       "\n",
       "                                                    Weleda Everon Lip Balm  \\\n",
       "name                                                                         \n",
       "0.6 Cu. Ft. Letter A4 Size Waterproof 30 Min. F...                     0.0   \n",
       "100:Complete First Season (blu-Ray)                                    0.0   \n",
       "2017-2018 Brownline174 Duraflex 14-Month Planne...                     0.0   \n",
       "2x Ultra Era with Oxi Booster, 50fl oz                                 0.0   \n",
       "4C Grated Parmesan Cheese 100% Natural 8oz Shaker                      0.0   \n",
       "\n",
       "                                                    Windex Original Glass Cleaner Refill 67.6oz (2 Liter)  \\\n",
       "name                                                                                                        \n",
       "0.6 Cu. Ft. Letter A4 Size Waterproof 30 Min. F...                                                0.0       \n",
       "100:Complete First Season (blu-Ray)                                                               0.0       \n",
       "2017-2018 Brownline174 Duraflex 14-Month Planne...                                                0.0       \n",
       "2x Ultra Era with Oxi Booster, 50fl oz                                                            0.0       \n",
       "4C Grated Parmesan Cheese 100% Natural 8oz Shaker                                                 0.0       \n",
       "\n",
       "                                                    Yes To Carrots Nourishing Body Wash  \\\n",
       "name                                                                                      \n",
       "0.6 Cu. Ft. Letter A4 Size Waterproof 30 Min. F...                                  0.0   \n",
       "100:Complete First Season (blu-Ray)                                                 0.0   \n",
       "2017-2018 Brownline174 Duraflex 14-Month Planne...                                  0.0   \n",
       "2x Ultra Era with Oxi Booster, 50fl oz                                              0.0   \n",
       "4C Grated Parmesan Cheese 100% Natural 8oz Shaker                                   0.0   \n",
       "\n",
       "                                                    Yes To Grapefruit Rejuvenating Body Wash  \n",
       "name                                                                                          \n",
       "0.6 Cu. Ft. Letter A4 Size Waterproof 30 Min. F...                                       0.0  \n",
       "100:Complete First Season (blu-Ray)                                                      0.0  \n",
       "2017-2018 Brownline174 Duraflex 14-Month Planne...                                       0.0  \n",
       "2x Ultra Era with Oxi Booster, 50fl oz                                                   0.0  \n",
       "4C Grated Parmesan Cheese 100% Natural 8oz Shaker                                        0.0  \n",
       "\n",
       "[5 rows x 197 columns]"
      ]
     },
     "execution_count": 82,
     "metadata": {},
     "output_type": "execute_result"
    }
   ],
   "source": [
    "item_correlation_df_3.head()"
   ]
  },
  {
   "cell_type": "markdown",
   "id": "a03337d7",
   "metadata": {},
   "source": [
    "let’s find out the predicted ratings of the test dataset using the ‘item_correlation_df_3’ and ‘common_item_based_matrix’ matrices. This operation is exactly the same as the one that we performed for the train dataset to predict the ratings. So, first, we need to change the negative values of the correlation matrix to 0. Then, we need to perform a dot product between the ‘item_correlation_df_3’ and ‘common_item_based_matrix’ matrices."
   ]
  },
  {
   "cell_type": "code",
   "execution_count": 83,
   "id": "b960cc06",
   "metadata": {},
   "outputs": [
    {
     "data": {
      "text/plain": [
       "array([[0.        , 0.        , 0.        , ..., 0.        , 0.        ,\n",
       "        0.        ],\n",
       "       [0.02554392, 0.02554392, 0.12552782, ..., 0.        , 0.11775449,\n",
       "        0.05346773],\n",
       "       [0.        , 0.        , 0.        , ..., 0.        , 0.        ,\n",
       "        0.        ],\n",
       "       ...,\n",
       "       [0.01106976, 0.01106976, 0.11230549, ..., 0.        , 0.07547768,\n",
       "        0.02954288],\n",
       "       [0.01109656, 0.01109656, 0.04626579, ..., 0.        , 0.        ,\n",
       "        0.        ],\n",
       "       [0.        , 0.        , 0.00328841, ..., 0.        , 0.00411052,\n",
       "        0.        ]])"
      ]
     },
     "execution_count": 83,
     "metadata": {},
     "output_type": "execute_result"
    }
   ],
   "source": [
    "# change negative values of the correlation matrix to 0:\n",
    "item_correlation_df_3[item_correlation_df_3<0]=0\n",
    "\n",
    "# a dot product between the ‘item_correlation_df_3’ and ‘common_item_based_matrix’ matrices:\n",
    "common_item_predicted_ratings = np.dot(item_correlation_df_3, common_item_based_matrix.fillna(0))\n",
    "common_item_predicted_ratings\n"
   ]
  },
  {
   "cell_type": "code",
   "execution_count": 84,
   "id": "2422172b",
   "metadata": {},
   "outputs": [
    {
     "data": {
      "text/plain": [
       "(197, 7953)"
      ]
     },
     "execution_count": 84,
     "metadata": {},
     "output_type": "execute_result"
    }
   ],
   "source": [
    "common_item_predicted_ratings.shape"
   ]
  },
  {
   "cell_type": "markdown",
   "id": "fc37c1e4",
   "metadata": {},
   "source": [
    "Dummy test will be used for evaluation. To evaluate, we will only make prediction on the products rated by the user. \n",
    "* To get the predicted ratings of those users who have already rated the products, we will copy a common dataframe and give the rating value 1 to those who rated the product and 0 to those who did not (This is just opposite of dummy_train). Then, we will multiply dummy_test with the common_user_predicted_ratings matrix to get the common_user_predicted_ratings dataframe"
   ]
  },
  {
   "cell_type": "code",
   "execution_count": 85,
   "id": "ae5dd00f",
   "metadata": {},
   "outputs": [],
   "source": [
    "dummy_test = common.copy()\n",
    "\n",
    "dummy_test['reviews_rating'] = dummy_test['reviews_rating'].apply(lambda x: 1 if x>=1 else 0)\n",
    "\n",
    "dummy_test = dummy_test.pivot_table(\n",
    "    index='reviews_username', \n",
    "    columns='name', \n",
    "    values='reviews_rating').T.fillna(0)\n",
    "\n",
    "common_item_predicted_ratings = np.multiply(common_item_predicted_ratings,dummy_test)"
   ]
  },
  {
   "cell_type": "markdown",
   "id": "2676c226",
   "metadata": {},
   "source": [
    "Calculating the RMSE for only the products rated by user. \n",
    "To calculate RMSE, we need to normalise the rating such that its range is between 1 and 5."
   ]
  },
  {
   "cell_type": "code",
   "execution_count": 86,
   "id": "8eb6b189",
   "metadata": {},
   "outputs": [
    {
     "name": "stdout",
     "output_type": "stream",
     "text": [
      "MinMaxScaler(feature_range=(1, 5))\n",
      "[[nan nan nan ... nan nan nan]\n",
      " [nan nan nan ... nan nan nan]\n",
      " [nan nan nan ... nan nan nan]\n",
      " ...\n",
      " [nan nan nan ... nan nan nan]\n",
      " [nan nan nan ... nan nan nan]\n",
      " [nan nan nan ... nan nan nan]]\n"
     ]
    }
   ],
   "source": [
    "from numpy import *\n",
    "\n",
    "X  = common_item_predicted_ratings.copy() \n",
    "X = X[X>0]\n",
    "\n",
    "scaler = MinMaxScaler(feature_range=(1, 5))\n",
    "print(scaler.fit(X))\n",
    "y = (scaler.transform(X))\n",
    "\n",
    "print(y)"
   ]
  },
  {
   "cell_type": "code",
   "execution_count": 87,
   "id": "c32c855a",
   "metadata": {
    "id": "Qd8zErT6H7PH"
   },
   "outputs": [],
   "source": [
    "common_ = common.pivot_table(\n",
    "    index='reviews_username', \n",
    "    columns='name', \n",
    "    values='reviews_rating').T"
   ]
  },
  {
   "cell_type": "code",
   "execution_count": 88,
   "id": "b713219f",
   "metadata": {},
   "outputs": [],
   "source": [
    "# Finding total non-NaN value\n",
    "total_non_nan = np.count_nonzero(~np.isnan(y))"
   ]
  },
  {
   "cell_type": "code",
   "execution_count": 89,
   "id": "b7bc498f",
   "metadata": {},
   "outputs": [
    {
     "name": "stdout",
     "output_type": "stream",
     "text": [
      "3.5885351853421494\n"
     ]
    }
   ],
   "source": [
    "IBCF_rmse = (sum(sum((common_ - y )**2))/total_non_nan)**0.5\n",
    "print(IBCF_rmse)"
   ]
  },
  {
   "cell_type": "code",
   "execution_count": 90,
   "id": "d22a84ad",
   "metadata": {},
   "outputs": [
    {
     "name": "stdout",
     "output_type": "stream",
     "text": [
      "   type  rmse\n",
      "0  UBCF  2.16\n",
      "1  IBCF  3.59\n"
     ]
    }
   ],
   "source": [
    "IBCF_info = {'type':'IBCF','rmse':round(IBCF_rmse,2)}\n",
    "rmse_df = rmse_df.append(IBCF_info,ignore_index=True)\n",
    "print(rmse_df)"
   ]
  },
  {
   "cell_type": "markdown",
   "id": "6a8736ef",
   "metadata": {},
   "source": [
    "#### Conclusion:\n",
    "We will finalize User-Based Collaborative Filtering method as it is giving better results i.e. lower rmse score."
   ]
  },
  {
   "cell_type": "code",
   "execution_count": 91,
   "id": "fd9b278e",
   "metadata": {},
   "outputs": [],
   "source": [
    "# Saving UBCF model ('user_final_rating' matrix) with the help of pickle.\n",
    "with open('./Model/recommendation_UBCF.pkl', 'wb') as file_1:\n",
    "    pickle.dump(user_final_rating, file_1)"
   ]
  },
  {
   "cell_type": "code",
   "execution_count": null,
   "id": "d55063b9",
   "metadata": {},
   "outputs": [],
   "source": []
  },
  {
   "cell_type": "markdown",
   "id": "03dac84f",
   "metadata": {},
   "source": [
    "## Task 2. Building Sentiment classification model:\n",
    "* For building classification model we will try following types of ML classification models and select the one which is giving better results: \n",
    "    1. Logistic regression\n",
    "    2. Random forest\n",
    "    3. Naive Bayes\n",
    "    4. XGBoost"
   ]
  },
  {
   "cell_type": "markdown",
   "id": "efc246fa",
   "metadata": {},
   "source": [
    "* we will consider following relevent columns for building a sentiment classification model:\n",
    "    * reviews_text : review given by the user to a particular product.\n",
    "    * reviews_title : The title of the review given by the user to a particular product.\n",
    "    * user_sentiment : The overall sentiment of the user for a particular product (Positive or Negative)\n",
    "\n",
    "Since these attributes are textual in nature, we will have to take the help of `natural language processing`. For this we will use `nltk module`. "
   ]
  },
  {
   "cell_type": "code",
   "execution_count": 92,
   "id": "b7e46404",
   "metadata": {},
   "outputs": [],
   "source": [
    "# Filtering out relevent columns only for classification:\n",
    "review_filtered = main_df[['name','reviews_text','reviews_title','user_sentiment']].copy(deep=True)"
   ]
  },
  {
   "cell_type": "code",
   "execution_count": 93,
   "id": "f24878b4",
   "metadata": {},
   "outputs": [
    {
     "data": {
      "text/html": [
       "<div>\n",
       "<style scoped>\n",
       "    .dataframe tbody tr th:only-of-type {\n",
       "        vertical-align: middle;\n",
       "    }\n",
       "\n",
       "    .dataframe tbody tr th {\n",
       "        vertical-align: top;\n",
       "    }\n",
       "\n",
       "    .dataframe thead th {\n",
       "        text-align: right;\n",
       "    }\n",
       "</style>\n",
       "<table border=\"1\" class=\"dataframe\">\n",
       "  <thead>\n",
       "    <tr style=\"text-align: right;\">\n",
       "      <th></th>\n",
       "      <th>name</th>\n",
       "      <th>reviews_text</th>\n",
       "      <th>reviews_title</th>\n",
       "      <th>user_sentiment</th>\n",
       "    </tr>\n",
       "  </thead>\n",
       "  <tbody>\n",
       "    <tr>\n",
       "      <th>0</th>\n",
       "      <td>Pink Friday: Roman Reloaded Re-Up (w/dvd)</td>\n",
       "      <td>i love this album. it's very good. more to the...</td>\n",
       "      <td>Just Awesome</td>\n",
       "      <td>Positive</td>\n",
       "    </tr>\n",
       "    <tr>\n",
       "      <th>1</th>\n",
       "      <td>Lundberg Organic Cinnamon Toast Rice Cakes</td>\n",
       "      <td>Good flavor. This review was collected as part...</td>\n",
       "      <td>Good</td>\n",
       "      <td>Positive</td>\n",
       "    </tr>\n",
       "  </tbody>\n",
       "</table>\n",
       "</div>"
      ],
      "text/plain": [
       "                                         name  \\\n",
       "0   Pink Friday: Roman Reloaded Re-Up (w/dvd)   \n",
       "1  Lundberg Organic Cinnamon Toast Rice Cakes   \n",
       "\n",
       "                                        reviews_text reviews_title  \\\n",
       "0  i love this album. it's very good. more to the...  Just Awesome   \n",
       "1  Good flavor. This review was collected as part...          Good   \n",
       "\n",
       "  user_sentiment  \n",
       "0       Positive  \n",
       "1       Positive  "
      ]
     },
     "execution_count": 93,
     "metadata": {},
     "output_type": "execute_result"
    }
   ],
   "source": [
    "review_filtered.head(2)"
   ]
  },
  {
   "cell_type": "code",
   "execution_count": 94,
   "id": "4766ee32",
   "metadata": {},
   "outputs": [
    {
     "name": "stdout",
     "output_type": "stream",
     "text": [
      "<class 'pandas.core.frame.DataFrame'>\n",
      "RangeIndex: 30000 entries, 0 to 29999\n",
      "Data columns (total 4 columns):\n",
      " #   Column          Non-Null Count  Dtype \n",
      "---  ------          --------------  ----- \n",
      " 0   name            30000 non-null  object\n",
      " 1   reviews_text    30000 non-null  object\n",
      " 2   reviews_title   29810 non-null  object\n",
      " 3   user_sentiment  29999 non-null  object\n",
      "dtypes: object(4)\n",
      "memory usage: 937.6+ KB\n"
     ]
    }
   ],
   "source": [
    "review_filtered.info()"
   ]
  },
  {
   "cell_type": "code",
   "execution_count": 95,
   "id": "a584225c",
   "metadata": {},
   "outputs": [
    {
     "data": {
      "text/plain": [
       "Positive    26632\n",
       "Negative     3367\n",
       "NaN             1\n",
       "Name: user_sentiment, dtype: int64"
      ]
     },
     "execution_count": 95,
     "metadata": {},
     "output_type": "execute_result"
    }
   ],
   "source": [
    "review_filtered.user_sentiment.value_counts(dropna=False)"
   ]
  },
  {
   "cell_type": "code",
   "execution_count": 96,
   "id": "50165e31",
   "metadata": {},
   "outputs": [
    {
     "data": {
      "text/html": [
       "<div>\n",
       "<style scoped>\n",
       "    .dataframe tbody tr th:only-of-type {\n",
       "        vertical-align: middle;\n",
       "    }\n",
       "\n",
       "    .dataframe tbody tr th {\n",
       "        vertical-align: top;\n",
       "    }\n",
       "\n",
       "    .dataframe thead th {\n",
       "        text-align: right;\n",
       "    }\n",
       "</style>\n",
       "<table border=\"1\" class=\"dataframe\">\n",
       "  <thead>\n",
       "    <tr style=\"text-align: right;\">\n",
       "      <th></th>\n",
       "      <th>name</th>\n",
       "      <th>reviews_text</th>\n",
       "      <th>reviews_title</th>\n",
       "      <th>user_sentiment</th>\n",
       "    </tr>\n",
       "  </thead>\n",
       "  <tbody>\n",
       "    <tr>\n",
       "      <th>28354</th>\n",
       "      <td>Planes: Fire Rescue (2 Discs) (includes Digital Copy) (blu-Ray/dvd)</td>\n",
       "      <td>my kids absolutely loved this film so much that we watched it twice. Having a digital copy means that every time we get in the car we get to watch it wherever we go. we even got to use our $5 reward coupon towards the purchase of this movie so we got an additional $5 off + we got to add the points towards our next rewards coupon we love the savings we get at Best Buy</td>\n",
       "      <td>a super hit with my children. they loved it!!??</td>\n",
       "      <td>NaN</td>\n",
       "    </tr>\n",
       "  </tbody>\n",
       "</table>\n",
       "</div>"
      ],
      "text/plain": [
       "                                                                      name  \\\n",
       "28354  Planes: Fire Rescue (2 Discs) (includes Digital Copy) (blu-Ray/dvd)   \n",
       "\n",
       "                                                                                                                                                                                                                                                                                                                                                                            reviews_text  \\\n",
       "28354  my kids absolutely loved this film so much that we watched it twice. Having a digital copy means that every time we get in the car we get to watch it wherever we go. we even got to use our $5 reward coupon towards the purchase of this movie so we got an additional $5 off + we got to add the points towards our next rewards coupon we love the savings we get at Best Buy   \n",
       "\n",
       "                                         reviews_title user_sentiment  \n",
       "28354  a super hit with my children. they loved it!!??            NaN  "
      ]
     },
     "metadata": {},
     "output_type": "display_data"
    }
   ],
   "source": [
    "# Inspecting the null value record\n",
    "with pd.option_context('display.max_colwidth', None):\n",
    "    display(review_filtered[pd.isnull(review_filtered.user_sentiment)])"
   ]
  },
  {
   "cell_type": "code",
   "execution_count": 97,
   "id": "2b092ee4",
   "metadata": {},
   "outputs": [
    {
     "data": {
      "text/plain": [
       "Positive    26633\n",
       "Negative     3367\n",
       "Name: user_sentiment, dtype: int64"
      ]
     },
     "execution_count": 97,
     "metadata": {},
     "output_type": "execute_result"
    }
   ],
   "source": [
    "# Imputing the null value:\n",
    "review_filtered.loc[28354,'user_sentiment'] = 'Positive'\n",
    "review_filtered.user_sentiment.value_counts(dropna=False)"
   ]
  },
  {
   "cell_type": "code",
   "execution_count": 98,
   "id": "52da4275",
   "metadata": {},
   "outputs": [
    {
     "data": {
      "image/png": "[encoded data removed]",
      "text/plain": [
       "<Figure size 432x288 with 1 Axes>"
      ]
     },
     "metadata": {
      "needs_background": "light"
     },
     "output_type": "display_data"
    }
   ],
   "source": [
    "sns.countplot(x = 'user_sentiment', data = review_filtered)\n",
    "plt.show()"
   ]
  },
  {
   "cell_type": "code",
   "execution_count": 99,
   "id": "74351f1c",
   "metadata": {},
   "outputs": [
    {
     "data": {
      "text/plain": [
       "name                0\n",
       "reviews_text        0\n",
       "reviews_title     190\n",
       "user_sentiment      0\n",
       "dtype: int64"
      ]
     },
     "execution_count": 99,
     "metadata": {},
     "output_type": "execute_result"
    }
   ],
   "source": [
    "review_filtered.isnull().sum()"
   ]
  },
  {
   "cell_type": "markdown",
   "id": "f7f57264",
   "metadata": {},
   "source": [
    "#### Text preprocessing\n",
    "\n",
    "Since our data is unstructred text, we need to perform certian Text preprocessing before feeding it to any model. Basically we try to reduce the noise in the data(e.g. removing punctuations) as well as standardize the format(e.g. making all words lower case).\n",
    "\n",
    "We will perform following preprocessing steps:\n",
    "* Remove any unwanted text (noise).\n",
    "* Make the text lowercase\n",
    "* Remove punctuation\n",
    "* Remove words containing non-ascii and digits\n",
    "* Lemmatize the texts\n",
    "* Use POS tags to get relevant words from the texts."
   ]
  },
  {
   "cell_type": "code",
   "execution_count": 100,
   "id": "e7a51cde",
   "metadata": {},
   "outputs": [],
   "source": [
    "\"\"\"Basic cleaning of texts.\"\"\"\n",
    "def scrub_words(text):\n",
    "    \n",
    "    #remove non-ascii and digits\n",
    "    text=re.sub(\"(\\\\W|\\\\d)\",\" \",text)\n",
    "    \n",
    "    #remove whitespace\n",
    "    text = text.strip()\n",
    "    text = re.sub(' +', ' ',text)\n",
    "    \n",
    "    return text"
   ]
  },
  {
   "cell_type": "code",
   "execution_count": 101,
   "id": "1b8d34ad",
   "metadata": {},
   "outputs": [],
   "source": [
    "\"\"\"POS tagging\"\"\"\n",
    "def nltk_tag_to_wordnet_tag(nltk_tag):\n",
    "    if nltk_tag.startswith('J'):\n",
    "        return wordnet.ADJ\n",
    "    elif nltk_tag.startswith('V'):\n",
    "        return wordnet.VERB\n",
    "    elif nltk_tag.startswith('N'):\n",
    "        return wordnet.NOUN\n",
    "    elif nltk_tag.startswith('R'):\n",
    "        return wordnet.ADV\n",
    "    else:\n",
    "        return None"
   ]
  },
  {
   "cell_type": "code",
   "execution_count": 102,
   "id": "3c1367f2",
   "metadata": {},
   "outputs": [],
   "source": [
    "\"\"\"Text lemmatizing\"\"\"\n",
    "def lemmatize_sentence(sentence):\n",
    "    #tokenize the sentence and find the POS tag for each token\n",
    "    nltk_tagged = nltk.pos_tag(nltk.word_tokenize(sentence))\n",
    "    #tuple of (token, wordnet_tag)\n",
    "    wordnet_tagged = map(lambda x: (x[0], nltk_tag_to_wordnet_tag(x[1])), nltk_tagged)\n",
    "    lemmatized_sentence = []\n",
    "    for word, tag in wordnet_tagged:\n",
    "        if tag is None:\n",
    "            #if there is no available tag, append the token as is\n",
    "            lemmatized_sentence.append(word)\n",
    "        else:\n",
    "            #else use the tag to lemmatize the token\n",
    "            lemmatized_sentence.append(lemmatizer.lemmatize(word, tag))\n",
    "    return \" \".join(lemmatized_sentence)"
   ]
  },
  {
   "cell_type": "code",
   "execution_count": 103,
   "id": "b911378a",
   "metadata": {},
   "outputs": [],
   "source": [
    "stop = stopwords.words('english')\n",
    "lemmatizer = nltk.stem.WordNetLemmatizer()"
   ]
  },
  {
   "cell_type": "code",
   "execution_count": 104,
   "id": "30640a1f",
   "metadata": {},
   "outputs": [],
   "source": [
    "negative_words = set([\"no\",\"nor\",\"not\"])\n",
    "stop = set([word for word in stop if word not in negative_words])"
   ]
  },
  {
   "cell_type": "code",
   "execution_count": 105,
   "id": "0264214a",
   "metadata": {},
   "outputs": [],
   "source": [
    "def preprocessing(x):\n",
    "    # Breaking negative words e.g. can't : can not\n",
    "    x['reviews_text'] = x['reviews_text'].replace(r\"\\'t\", \" not\", regex=True)\n",
    "    x['reviews_title'] = x['reviews_title'].replace(r\"\\'t\", \" not\", regex=True)\n",
    "    # Replace nan value with empty string:\n",
    "    x['reviews_title'] = x['reviews_title'].replace(np.nan, '', regex=True) \n",
    "    # Concate review text and review title columns:\n",
    "    x['combined_txt'] = x['reviews_text'] + ' ' + x['reviews_title']\n",
    "    # Remove unwanted text/noise:\n",
    "    x['combined_txt'] = x['combined_txt'].str.replace(r'This review was collected as part of a promotion.', '', regex=False,case=False)\n",
    "    # Replace punctuations with empty string:\n",
    "    x['combined_txt'] = x['combined_txt'].str.replace('[^\\w\\s]','',regex=True)\n",
    "    # Lowercase the text:\n",
    "    x['combined_txt'] = x['combined_txt'].str.lower()\n",
    "    # Remove stop words:\n",
    "    x['combined_txt'] = x['combined_txt'].apply(lambda x: ' '.join([word for word in x.split() if word not in (stop)]))\n",
    "    # Remove non-ascii words, digits and unnecessary white spaces:\n",
    "    x['combined_txt'] = x['combined_txt'].apply(scrub_words)\n",
    "    # Lemmatizing words:\n",
    "    x['combined_txt'] = x['combined_txt'].apply(lemmatize_sentence)"
   ]
  },
  {
   "cell_type": "code",
   "execution_count": 106,
   "id": "5ca78102",
   "metadata": {},
   "outputs": [],
   "source": [
    "# Preprocessing text:\n",
    "preprocessing(review_filtered)"
   ]
  },
  {
   "cell_type": "code",
   "execution_count": 107,
   "id": "c67405eb",
   "metadata": {},
   "outputs": [
    {
     "data": {
      "text/html": [
       "<div>\n",
       "<style scoped>\n",
       "    .dataframe tbody tr th:only-of-type {\n",
       "        vertical-align: middle;\n",
       "    }\n",
       "\n",
       "    .dataframe tbody tr th {\n",
       "        vertical-align: top;\n",
       "    }\n",
       "\n",
       "    .dataframe thead th {\n",
       "        text-align: right;\n",
       "    }\n",
       "</style>\n",
       "<table border=\"1\" class=\"dataframe\">\n",
       "  <thead>\n",
       "    <tr style=\"text-align: right;\">\n",
       "      <th></th>\n",
       "      <th>name</th>\n",
       "      <th>reviews_text</th>\n",
       "      <th>reviews_title</th>\n",
       "      <th>user_sentiment</th>\n",
       "      <th>combined_txt</th>\n",
       "    </tr>\n",
       "  </thead>\n",
       "  <tbody>\n",
       "    <tr>\n",
       "      <th>0</th>\n",
       "      <td>Pink Friday: Roman Reloaded Re-Up (w/dvd)</td>\n",
       "      <td>i love this album. it's very good. more to the...</td>\n",
       "      <td>Just Awesome</td>\n",
       "      <td>Positive</td>\n",
       "      <td>love album good hip hop side current pop sound...</td>\n",
       "    </tr>\n",
       "    <tr>\n",
       "      <th>1</th>\n",
       "      <td>Lundberg Organic Cinnamon Toast Rice Cakes</td>\n",
       "      <td>Good flavor. This review was collected as part...</td>\n",
       "      <td>Good</td>\n",
       "      <td>Positive</td>\n",
       "      <td>good flavor good</td>\n",
       "    </tr>\n",
       "    <tr>\n",
       "      <th>2</th>\n",
       "      <td>Lundberg Organic Cinnamon Toast Rice Cakes</td>\n",
       "      <td>Good flavor.</td>\n",
       "      <td>Good</td>\n",
       "      <td>Positive</td>\n",
       "      <td>good flavor good</td>\n",
       "    </tr>\n",
       "    <tr>\n",
       "      <th>3</th>\n",
       "      <td>K-Y Love Sensuality Pleasure Gel</td>\n",
       "      <td>I read through the reviews on here before look...</td>\n",
       "      <td>Disappointed</td>\n",
       "      <td>Negative</td>\n",
       "      <td>read review look buy one couple lubricant ulti...</td>\n",
       "    </tr>\n",
       "    <tr>\n",
       "      <th>4</th>\n",
       "      <td>K-Y Love Sensuality Pleasure Gel</td>\n",
       "      <td>My husband bought this gel for us. The gel cau...</td>\n",
       "      <td>Irritation</td>\n",
       "      <td>Negative</td>\n",
       "      <td>husband buy gel us gel caused irritation felt ...</td>\n",
       "    </tr>\n",
       "    <tr>\n",
       "      <th>5</th>\n",
       "      <td>K-Y Love Sensuality Pleasure Gel</td>\n",
       "      <td>My boyfriend and I bought this to spice things...</td>\n",
       "      <td>Not worth it</td>\n",
       "      <td>Negative</td>\n",
       "      <td>boyfriend buy spice thing bedroom highly disap...</td>\n",
       "    </tr>\n",
       "    <tr>\n",
       "      <th>6</th>\n",
       "      <td>K-Y Love Sensuality Pleasure Gel</td>\n",
       "      <td>Bought this earlier today and was excited to c...</td>\n",
       "      <td>Disappointing</td>\n",
       "      <td>Negative</td>\n",
       "      <td>buy earlier today excite check base product de...</td>\n",
       "    </tr>\n",
       "  </tbody>\n",
       "</table>\n",
       "</div>"
      ],
      "text/plain": [
       "                                         name  \\\n",
       "0   Pink Friday: Roman Reloaded Re-Up (w/dvd)   \n",
       "1  Lundberg Organic Cinnamon Toast Rice Cakes   \n",
       "2  Lundberg Organic Cinnamon Toast Rice Cakes   \n",
       "3            K-Y Love Sensuality Pleasure Gel   \n",
       "4            K-Y Love Sensuality Pleasure Gel   \n",
       "5            K-Y Love Sensuality Pleasure Gel   \n",
       "6            K-Y Love Sensuality Pleasure Gel   \n",
       "\n",
       "                                        reviews_text  reviews_title  \\\n",
       "0  i love this album. it's very good. more to the...   Just Awesome   \n",
       "1  Good flavor. This review was collected as part...           Good   \n",
       "2                                       Good flavor.           Good   \n",
       "3  I read through the reviews on here before look...   Disappointed   \n",
       "4  My husband bought this gel for us. The gel cau...     Irritation   \n",
       "5  My boyfriend and I bought this to spice things...   Not worth it   \n",
       "6  Bought this earlier today and was excited to c...  Disappointing   \n",
       "\n",
       "  user_sentiment                                       combined_txt  \n",
       "0       Positive  love album good hip hop side current pop sound...  \n",
       "1       Positive                                   good flavor good  \n",
       "2       Positive                                   good flavor good  \n",
       "3       Negative  read review look buy one couple lubricant ulti...  \n",
       "4       Negative  husband buy gel us gel caused irritation felt ...  \n",
       "5       Negative  boyfriend buy spice thing bedroom highly disap...  \n",
       "6       Negative  buy earlier today excite check base product de...  "
      ]
     },
     "execution_count": 107,
     "metadata": {},
     "output_type": "execute_result"
    }
   ],
   "source": [
    "review_filtered.head(7)"
   ]
  },
  {
   "cell_type": "code",
   "execution_count": 108,
   "id": "d5864127",
   "metadata": {},
   "outputs": [],
   "source": [
    "# Saving preprocessed dataframe with the help of pickle.\n",
    "with open('./Data/preprocessed_df.pkl', 'wb') as doc:\n",
    "    pickle.dump(review_filtered, doc)"
   ]
  },
  {
   "cell_type": "markdown",
   "id": "31ccf203",
   "metadata": {},
   "source": [
    "Wordcloud of top 40 words by their frequency:"
   ]
  },
  {
   "cell_type": "code",
   "execution_count": 109,
   "id": "71b95890",
   "metadata": {},
   "outputs": [],
   "source": [
    "# Function to find top 40 words by frequency among all the reviews\n",
    "def top_words(text,top_n=40):  \n",
    "    review_words = text.str.split().values.tolist()\n",
    "    all_words = [word for review in review_words for word in review]\n",
    "    top_words = nltk.FreqDist(all_words).most_common(top_n)\n",
    "    return top_words"
   ]
  },
  {
   "cell_type": "code",
   "execution_count": 110,
   "id": "19cfba2e",
   "metadata": {},
   "outputs": [
    {
     "data": {
      "image/png": "[encoded data removed]",
      "text/plain": [
       "<Figure size 720x360 with 1 Axes>"
      ]
     },
     "metadata": {
      "needs_background": "light"
     },
     "output_type": "display_data"
    }
   ],
   "source": [
    "# plotting a word cloud to display the top 40 words by their frequency :\n",
    "plt.figure(figsize=(10,5))\n",
    "wordcloud = WordCloud(background_color = 'black', width = 2000, height = 1000,\n",
    "                      colormap = 'viridis', max_words = 40, contour_width = 3,\n",
    "                      max_font_size = 150, contour_color = 'steelblue',\n",
    "                      random_state = 0,collocations=False)\n",
    "wordcloud.generate(' '.join([w for w,_ in top_words(review_filtered['combined_txt'])]))\n",
    "plt.axis('off')\n",
    "plt.imshow(wordcloud)\n",
    "plt.title('WORD-CLOUD')\n",
    "plt.show()"
   ]
  },
  {
   "cell_type": "code",
   "execution_count": 111,
   "id": "a985ed4f",
   "metadata": {},
   "outputs": [],
   "source": [
    "# mapping class to an integer value:\n",
    "review_filtered['sentiment_class']=review_filtered['user_sentiment'].map({'Negative':0,'Positive':1})"
   ]
  },
  {
   "cell_type": "code",
   "execution_count": 112,
   "id": "1c09b019",
   "metadata": {},
   "outputs": [],
   "source": [
    "# Getting predictor and target variables:\n",
    "x=review_filtered['combined_txt'] \n",
    "y=review_filtered['sentiment_class']"
   ]
  },
  {
   "cell_type": "code",
   "execution_count": 113,
   "id": "8dbd52bd",
   "metadata": {},
   "outputs": [
    {
     "name": "stdout",
     "output_type": "stream",
     "text": [
      "Percent of class 0:  11.22 %\n",
      "Percent of class 1:  88.78 %\n"
     ]
    }
   ],
   "source": [
    "# Getting percentage of class imbalance:\n",
    "\n",
    "no_of_classes= len(pd.Series(y).value_counts())\n",
    "\n",
    "#Distribution of the target variable data in terms of proportions.\n",
    "for i in range(0,no_of_classes):\n",
    "  print(\"Percent of class {0}: \".format(i), round(100*pd.Series(y).value_counts()[i]/pd.Series(y).value_counts().sum(),2), \"%\")"
   ]
  },
  {
   "cell_type": "markdown",
   "id": "3bce14d4",
   "metadata": {},
   "source": [
    "`We have highly imbalanced data.`"
   ]
  },
  {
   "cell_type": "code",
   "execution_count": 114,
   "id": "dd261fcc",
   "metadata": {},
   "outputs": [],
   "source": [
    "# Train-Test split:\n",
    "X_train, X_test, y_train, y_test = train_test_split(x, y, test_size=0.3, random_state=100)\n",
    "X_train_copy, X_test_copy, y_train_copy, y_test_copy = X_train.copy(deep=True), X_test.copy(deep=True), y_train.copy(deep=True), y_test.copy(deep=True)"
   ]
  },
  {
   "cell_type": "markdown",
   "id": "3afc16a5",
   "metadata": {},
   "source": [
    "#### Feature extraction\n",
    "\n",
    "Now we will Convert the raw texts to a matrix of TF-IDF features.For this we will use off the shelf TfidfVectorizer available in sklearn.feature_extraction.text module."
   ]
  },
  {
   "cell_type": "code",
   "execution_count": 115,
   "id": "811a63cf",
   "metadata": {},
   "outputs": [],
   "source": [
    "word_vectorizer = TfidfVectorizer(\n",
    "    strip_accents='unicode',    # Remove accents and perform other character normalization during the preprocessing step. \n",
    "    analyzer='word',            # Whether the feature should be made of word or character n-grams.\n",
    "    token_pattern=r'\\w{1,}',    # Regular expression denoting what constitutes a “token”, only used if analyzer == 'word'.\n",
    "    min_df=3,                   # Ignore terms that have a document frequency strictly lower than the given threshold.\n",
    "    max_df=0.95,                # Ignore terms that have a document frequency strictly higher than the given threshold .\n",
    "    ngram_range=(1, 3),         # The lower and upper boundary of the range of n-values for different n-grams to be extracted\n",
    "    # stop_words='english',       # 'english' means 'ignore all the stop words specific to english language'.`\n",
    "    sublinear_tf=True)           # Apply sublinear tf scaling\n",
    "\n",
    "word_vectorizer.fit(X_train)    # Fiting it on Train\n",
    "train_word_features = word_vectorizer.transform(X_train)  # Transform on Train"
   ]
  },
  {
   "cell_type": "markdown",
   "id": "3c69ee29",
   "metadata": {},
   "source": [
    "Saving word vectorizer model with the help of pickle:"
   ]
  },
  {
   "cell_type": "code",
   "execution_count": 116,
   "id": "0c4f9f7e",
   "metadata": {},
   "outputs": [],
   "source": [
    "with open('./Model/tfidf_vectorizer.pkl', 'wb') as file_2:\n",
    "    pickle.dump(word_vectorizer, file_2)"
   ]
  },
  {
   "cell_type": "code",
   "execution_count": 117,
   "id": "6613fabb",
   "metadata": {},
   "outputs": [
    {
     "name": "stdout",
     "output_type": "stream",
     "text": [
      "X_train_transformed (21000, 36202)\n",
      "y_train (21000,)\n",
      "X_test_transformed (9000, 36202)\n",
      "y_test (9000,)\n"
     ]
    }
   ],
   "source": [
    "## transforming the train and test datasets\n",
    "X_train_transformed = word_vectorizer.transform(X_train.tolist())\n",
    "X_test_transformed = word_vectorizer.transform(X_test.tolist())\n",
    "\n",
    "# # Print the shape of each dataset.\n",
    "print('X_train_transformed', X_train_transformed.shape)\n",
    "print('y_train', y_train.shape)\n",
    "print('X_test_transformed', X_test_transformed.shape)\n",
    "print('y_test', y_test.shape)"
   ]
  },
  {
   "cell_type": "markdown",
   "id": "4cb95125",
   "metadata": {},
   "source": [
    "###    2.1.1. Building the Logistic Regression model without hyperparameter tuning (without handling class imbalance):"
   ]
  },
  {
   "cell_type": "code",
   "execution_count": 118,
   "id": "448c12be",
   "metadata": {},
   "outputs": [
    {
     "name": "stdout",
     "output_type": "stream",
     "text": [
      "Time Taken: 0.40 seconds\n"
     ]
    }
   ],
   "source": [
    "# Build the Logistic Regression model.\n",
    "time1 = time.time()\n",
    "\n",
    "logit = LogisticRegression()\n",
    "logit.fit(X_train_transformed,y_train)\n",
    "\n",
    "time_taken = time.time() - time1\n",
    "print('Time Taken: {:.2f} seconds'.format(time_taken))"
   ]
  },
  {
   "cell_type": "code",
   "execution_count": 119,
   "id": "921b84c0",
   "metadata": {},
   "outputs": [
    {
     "name": "stdout",
     "output_type": "stream",
     "text": [
      "Logistic Regression accuracy 0.9134761904761904\n",
      "              precision    recall  f1-score   support\n",
      "\n",
      "           0       0.23      0.98      0.38       557\n",
      "           1       1.00      0.91      0.95     20443\n",
      "\n",
      "    accuracy                           0.91     21000\n",
      "   macro avg       0.62      0.95      0.66     21000\n",
      "weighted avg       0.98      0.91      0.94     21000\n",
      "\n"
     ]
    }
   ],
   "source": [
    "# Prediction Train Data\n",
    "y_pred_train= logit.predict(X_train_transformed)\n",
    "\n",
    "#Model Performance on Train Dataset\n",
    "print(\"Logistic Regression accuracy\", accuracy_score(y_pred_train, y_train))\n",
    "print(classification_report(y_pred_train, y_train))"
   ]
  },
  {
   "cell_type": "code",
   "execution_count": 120,
   "id": "0f9e9a3a",
   "metadata": {},
   "outputs": [
    {
     "name": "stdout",
     "output_type": "stream",
     "text": [
      "Logistic Regression accuracy 0.9015555555555556\n",
      "              precision    recall  f1-score   support\n",
      "\n",
      "           0       0.14      0.88      0.25       163\n",
      "           1       1.00      0.90      0.95      8837\n",
      "\n",
      "    accuracy                           0.90      9000\n",
      "   macro avg       0.57      0.89      0.60      9000\n",
      "weighted avg       0.98      0.90      0.93      9000\n",
      "\n",
      "[[ 144   19]\n",
      " [ 867 7970]]\n"
     ]
    }
   ],
   "source": [
    "# Prediction Test Data\n",
    "y_pred_test = logit.predict(X_test_transformed)\n",
    "\n",
    "#Model Performance on Test Dataset\n",
    "print(\"Logistic Regression accuracy\", accuracy_score(y_pred_test, y_test))\n",
    "print(classification_report(y_pred_test, y_test))\n",
    "print(confusion_matrix(y_pred_test, y_test))"
   ]
  },
  {
   "cell_type": "code",
   "execution_count": 121,
   "id": "54b978ba",
   "metadata": {},
   "outputs": [],
   "source": [
    "# Calculate F1 Score of tuned model using weighted average method\n",
    "f1_logit_untuned_train = f1_score(y_train, y_pred_train, average=\"weighted\")\n",
    "\n",
    "f1_logit_untuned_test = f1_score(y_test, y_pred_test, average=\"weighted\")"
   ]
  },
  {
   "cell_type": "code",
   "execution_count": 122,
   "id": "33168676",
   "metadata": {},
   "outputs": [],
   "source": [
    "classification_model_performance = pd.DataFrame(\n",
    "    {'Model':['logit_untuned'],\n",
    "    'f1_score_train':[round(f1_logit_untuned_train,2)],\n",
    "    'f1_score_test':[round(f1_logit_untuned_test,2)]})"
   ]
  },
  {
   "cell_type": "code",
   "execution_count": 123,
   "id": "aa30443c",
   "metadata": {},
   "outputs": [
    {
     "data": {
      "text/html": [
       "<div>\n",
       "<style scoped>\n",
       "    .dataframe tbody tr th:only-of-type {\n",
       "        vertical-align: middle;\n",
       "    }\n",
       "\n",
       "    .dataframe tbody tr th {\n",
       "        vertical-align: top;\n",
       "    }\n",
       "\n",
       "    .dataframe thead th {\n",
       "        text-align: right;\n",
       "    }\n",
       "</style>\n",
       "<table border=\"1\" class=\"dataframe\">\n",
       "  <thead>\n",
       "    <tr style=\"text-align: right;\">\n",
       "      <th></th>\n",
       "      <th>Model</th>\n",
       "      <th>f1_score_train</th>\n",
       "      <th>f1_score_test</th>\n",
       "    </tr>\n",
       "  </thead>\n",
       "  <tbody>\n",
       "    <tr>\n",
       "      <th>0</th>\n",
       "      <td>logit_untuned</td>\n",
       "      <td>0.89</td>\n",
       "      <td>0.87</td>\n",
       "    </tr>\n",
       "  </tbody>\n",
       "</table>\n",
       "</div>"
      ],
      "text/plain": [
       "           Model  f1_score_train  f1_score_test\n",
       "0  logit_untuned            0.89           0.87"
      ]
     },
     "execution_count": 123,
     "metadata": {},
     "output_type": "execute_result"
    }
   ],
   "source": [
    "classification_model_performance"
   ]
  },
  {
   "cell_type": "markdown",
   "id": "6205b07c",
   "metadata": {},
   "source": [
    "`Handling Class imbalance:`\n",
    "For handling class imbalance issue, we will take help of 'SMOTE`. Synthetic Minority Oversampling Technique, or SMOTE is a type of data augmentation for the minority class. It synthesizes new samples for the minority class by oversampling the minority class."
   ]
  },
  {
   "cell_type": "code",
   "execution_count": 124,
   "id": "fdc53fd1",
   "metadata": {},
   "outputs": [
    {
     "name": "stdout",
     "output_type": "stream",
     "text": [
      "Before Counter({1: 18644, 0: 2356})\n",
      "After Counter({1: 18644, 0: 18644})\n"
     ]
    }
   ],
   "source": [
    "counter = Counter(y_train)\n",
    "print('Before',counter)\n",
    "\n",
    "# creating instance of class smote of library imblearn:\n",
    "sm = SMOTE()\n",
    "\n",
    "# transform the dataset\n",
    "X_train_transformed_sm, y_train_sm = sm.fit_resample(X_train_transformed, y_train)\n",
    "\n",
    "counter = Counter(y_train_sm)\n",
    "print('After',counter)"
   ]
  },
  {
   "cell_type": "code",
   "execution_count": 125,
   "id": "89951530",
   "metadata": {},
   "outputs": [
    {
     "data": {
      "image/png": "[encoded data removed]",
      "text/plain": [
       "<Figure size 432x288 with 1 Axes>"
      ]
     },
     "metadata": {
      "needs_background": "light"
     },
     "output_type": "display_data"
    }
   ],
   "source": [
    "sns.countplot(x=y_train_sm)\n",
    "plt.show()"
   ]
  },
  {
   "cell_type": "markdown",
   "id": "78f1e8b0",
   "metadata": {},
   "source": [
    "We have handled the class imbalance."
   ]
  },
  {
   "cell_type": "markdown",
   "id": "d5054ce2",
   "metadata": {},
   "source": [
    "###    2.1.2. Building the Logistic Regression model without hyperparameter tuning after handling class imbalance:"
   ]
  },
  {
   "cell_type": "code",
   "execution_count": 126,
   "id": "d69b8d89",
   "metadata": {},
   "outputs": [
    {
     "name": "stdout",
     "output_type": "stream",
     "text": [
      "Time Taken in logestic regression with smote: 0.37 seconds\n"
     ]
    }
   ],
   "source": [
    "# Building the Logistic Regression model\n",
    "time2 = time.time()\n",
    "\n",
    "logit_sm = LogisticRegression()\n",
    "logit_sm.fit(X_train_transformed_sm,y_train_sm)\n",
    "\n",
    "time_taken = time.time() - time2\n",
    "print('Time Taken in logestic regression with smote: {:.2f} seconds'.format(time_taken))"
   ]
  },
  {
   "cell_type": "code",
   "execution_count": 127,
   "id": "889a0c39",
   "metadata": {},
   "outputs": [
    {
     "name": "stdout",
     "output_type": "stream",
     "text": [
      "Logistic Regression accuracy 0.9680057927483373\n",
      "              precision    recall  f1-score   support\n",
      "\n",
      "           0       0.99      0.95      0.97     19391\n",
      "           1       0.95      0.99      0.97     17897\n",
      "\n",
      "    accuracy                           0.97     37288\n",
      "   macro avg       0.97      0.97      0.97     37288\n",
      "weighted avg       0.97      0.97      0.97     37288\n",
      "\n"
     ]
    }
   ],
   "source": [
    "# Prediction Train Data\n",
    "y_pred_train= logit_sm.predict(X_train_transformed_sm)\n",
    "\n",
    "#Model Performance on Train Dataset\n",
    "print(\"Logistic Regression accuracy\", accuracy_score(y_pred_train, y_train_sm))\n",
    "print(classification_report(y_pred_train, y_train_sm))"
   ]
  },
  {
   "cell_type": "code",
   "execution_count": 128,
   "id": "87a1f7a8",
   "metadata": {},
   "outputs": [
    {
     "name": "stdout",
     "output_type": "stream",
     "text": [
      "Logistic Regression accuracy 0.8942222222222223\n",
      "              precision    recall  f1-score   support\n",
      "\n",
      "           0       0.68      0.52      0.59      1315\n",
      "           1       0.92      0.96      0.94      7685\n",
      "\n",
      "    accuracy                           0.89      9000\n",
      "   macro avg       0.80      0.74      0.76      9000\n",
      "weighted avg       0.89      0.89      0.89      9000\n",
      "\n",
      "[[ 687  628]\n",
      " [ 324 7361]]\n"
     ]
    }
   ],
   "source": [
    "# Prediction Test Data\n",
    "y_pred_test = logit_sm.predict(X_test_transformed)\n",
    "\n",
    "print(\"Logistic Regression accuracy\", accuracy_score(y_pred_test, y_test))\n",
    "print(classification_report(y_pred_test, y_test))\n",
    "print(confusion_matrix(y_pred_test, y_test))"
   ]
  },
  {
   "cell_type": "code",
   "execution_count": 129,
   "id": "3573b58f",
   "metadata": {},
   "outputs": [
    {
     "data": {
      "image/png": "[encoded data removed]",
      "text/plain": [
       "<Figure size 432x288 with 1 Axes>"
      ]
     },
     "metadata": {
      "needs_background": "light"
     },
     "output_type": "display_data"
    }
   ],
   "source": [
    "plot_roc_curve(logit_sm, X_test_transformed, y_test)\n",
    "plt.show()"
   ]
  },
  {
   "cell_type": "code",
   "execution_count": 130,
   "id": "3661a9f1",
   "metadata": {},
   "outputs": [],
   "source": [
    "# Calculate F1 Score of tuned model using weighted average method\n",
    "f1_logit_untuned_smote_train = f1_score(y_train_sm, y_pred_train, average=\"weighted\")\n",
    "\n",
    "f1_logit_untuned_smote_test = f1_score(y_test, y_pred_test, average=\"weighted\")"
   ]
  },
  {
   "cell_type": "code",
   "execution_count": 131,
   "id": "0936554c",
   "metadata": {},
   "outputs": [
    {
     "data": {
      "text/html": [
       "<div>\n",
       "<style scoped>\n",
       "    .dataframe tbody tr th:only-of-type {\n",
       "        vertical-align: middle;\n",
       "    }\n",
       "\n",
       "    .dataframe tbody tr th {\n",
       "        vertical-align: top;\n",
       "    }\n",
       "\n",
       "    .dataframe thead th {\n",
       "        text-align: right;\n",
       "    }\n",
       "</style>\n",
       "<table border=\"1\" class=\"dataframe\">\n",
       "  <thead>\n",
       "    <tr style=\"text-align: right;\">\n",
       "      <th></th>\n",
       "      <th>Model</th>\n",
       "      <th>f1_score_train</th>\n",
       "      <th>f1_score_test</th>\n",
       "    </tr>\n",
       "  </thead>\n",
       "  <tbody>\n",
       "    <tr>\n",
       "      <th>0</th>\n",
       "      <td>logit_untuned</td>\n",
       "      <td>0.89</td>\n",
       "      <td>0.87</td>\n",
       "    </tr>\n",
       "    <tr>\n",
       "      <th>1</th>\n",
       "      <td>logit_untuned_smote</td>\n",
       "      <td>0.97</td>\n",
       "      <td>0.90</td>\n",
       "    </tr>\n",
       "  </tbody>\n",
       "</table>\n",
       "</div>"
      ],
      "text/plain": [
       "                 Model  f1_score_train  f1_score_test\n",
       "0        logit_untuned            0.89           0.87\n",
       "1  logit_untuned_smote            0.97           0.90"
      ]
     },
     "execution_count": 131,
     "metadata": {},
     "output_type": "execute_result"
    }
   ],
   "source": [
    "logit_untuned_smote_dict = {'Model':'logit_untuned_smote',\n",
    "    'f1_score_train':round(f1_logit_untuned_smote_train,2),\n",
    "    'f1_score_test':round(f1_logit_untuned_smote_test,2)}\n",
    "    \n",
    "classification_model_performance = classification_model_performance.append(logit_untuned_smote_dict,ignore_index=True)\n",
    "classification_model_performance"
   ]
  },
  {
   "cell_type": "code",
   "execution_count": null,
   "id": "c053e06f",
   "metadata": {},
   "outputs": [],
   "source": []
  },
  {
   "cell_type": "markdown",
   "id": "72887ded",
   "metadata": {},
   "source": [
    "###    2.1.3. Building the Logistic Regression model with hyperparameter tuning after handling class imbalance:"
   ]
  },
  {
   "cell_type": "code",
   "execution_count": 132,
   "id": "7fc8e513",
   "metadata": {},
   "outputs": [],
   "source": [
    "logistic = LogisticRegression()"
   ]
  },
  {
   "cell_type": "code",
   "execution_count": 133,
   "id": "bf4c0a9b",
   "metadata": {},
   "outputs": [],
   "source": [
    "# hyperparameter values for tuning with GridSearch cross validation:\n",
    "params = [    \n",
    "    {'penalty' : ['l1', 'l2'],\n",
    "    'C' : [100, 10, 1.0, 0.1, 0.01],\n",
    "    'solver' : ['liblinear','lbfgs'],\n",
    "    'max_iter' : [100, 500, 1000]\n",
    "    }\n",
    "]"
   ]
  },
  {
   "cell_type": "code",
   "execution_count": 134,
   "id": "612923aa",
   "metadata": {},
   "outputs": [],
   "source": [
    "# GridSearch cross validation with 5 folds for Hyperparameter tuning:\n",
    "grid_search = GridSearchCV(estimator=logistic,\n",
    "                           param_grid=params,\n",
    "                           cv = 5,\n",
    "                           n_jobs=-1, verbose=1, scoring=\"f1_weighted\")"
   ]
  },
  {
   "cell_type": "code",
   "execution_count": 135,
   "id": "ba79592e",
   "metadata": {},
   "outputs": [
    {
     "name": "stdout",
     "output_type": "stream",
     "text": [
      "Fitting 5 folds for each of 60 candidates, totalling 300 fits\n",
      "Wall time: 38.3 s\n"
     ]
    },
    {
     "data": {
      "text/plain": [
       "GridSearchCV(cv=5, estimator=LogisticRegression(), n_jobs=-1,\n",
       "             param_grid=[{'C': [100, 10, 1.0, 0.1, 0.01],\n",
       "                          'max_iter': [100, 500, 1000], 'penalty': ['l1', 'l2'],\n",
       "                          'solver': ['liblinear', 'lbfgs']}],\n",
       "             scoring='f1_weighted', verbose=1)"
      ]
     },
     "execution_count": 135,
     "metadata": {},
     "output_type": "execute_result"
    }
   ],
   "source": [
    "%%time\n",
    "grid_search.fit(X_train_transformed_sm, y_train_sm)"
   ]
  },
  {
   "cell_type": "code",
   "execution_count": 136,
   "id": "96c32444",
   "metadata": {},
   "outputs": [
    {
     "data": {
      "text/plain": [
       "0.9738078754054825"
      ]
     },
     "execution_count": 136,
     "metadata": {},
     "output_type": "execute_result"
    }
   ],
   "source": [
    "# best weighted f1 score after performing gridsearchCV:\n",
    "grid_search.best_score_"
   ]
  },
  {
   "cell_type": "code",
   "execution_count": 137,
   "metadata": {},
   "outputs": [
    {
     "data": {
      "text/plain": [
       "LogisticRegression(C=100)"
      ]
     },
     "execution_count": 137,
     "metadata": {},
     "output_type": "execute_result"
    }
   ],
   "source": [
    "# Getting the best estimator:\n",
    "logit_best = grid_search.best_estimator_\n",
    "logit_best"
   ]
  },
  {
   "cell_type": "code",
   "execution_count": 138,
   "id": "309ee99c",
   "metadata": {},
   "outputs": [
    {
     "name": "stdout",
     "output_type": "stream",
     "text": [
      "Logistic Regression accuracy 0.9999463634413216\n",
      "              precision    recall  f1-score   support\n",
      "\n",
      "           0       1.00      1.00      1.00     18646\n",
      "           1       1.00      1.00      1.00     18642\n",
      "\n",
      "    accuracy                           1.00     37288\n",
      "   macro avg       1.00      1.00      1.00     37288\n",
      "weighted avg       1.00      1.00      1.00     37288\n",
      "\n"
     ]
    }
   ],
   "source": [
    "# Prediction Train Data\n",
    "y_pred_train= logit_best.predict(X_train_transformed_sm)\n",
    "\n",
    "#Model Performance on Train Dataset\n",
    "print(\"Logistic Regression accuracy\", accuracy_score(y_pred_train, y_train_sm))\n",
    "print(classification_report(y_pred_train, y_train_sm))"
   ]
  },
  {
   "cell_type": "code",
   "execution_count": 139,
   "id": "92128839",
   "metadata": {},
   "outputs": [
    {
     "name": "stdout",
     "output_type": "stream",
     "text": [
      "Logistic Regression accuracy 0.9112222222222223\n",
      "              precision    recall  f1-score   support\n",
      "\n",
      "           0       0.54      0.62      0.58       886\n",
      "           1       0.96      0.94      0.95      8114\n",
      "\n",
      "    accuracy                           0.91      9000\n",
      "   macro avg       0.75      0.78      0.76      9000\n",
      "weighted avg       0.92      0.91      0.91      9000\n",
      "\n",
      "[[ 549  337]\n",
      " [ 462 7652]]\n"
     ]
    }
   ],
   "source": [
    "# Prediction Test Data\n",
    "y_pred_test = logit_best.predict(X_test_transformed)\n",
    "\n",
    "#Model Performance on Test Dataset\n",
    "print(\"Logistic Regression accuracy\", accuracy_score(y_pred_test, y_test))\n",
    "print(classification_report(y_pred_test, y_test))\n",
    "print(confusion_matrix(y_pred_test, y_test))"
   ]
  },
  {
   "cell_type": "code",
   "execution_count": 140,
   "id": "7788fbca",
   "metadata": {},
   "outputs": [
    {
     "data": {
      "image/png": "[encoded data removed]",
      "text/plain": [
       "<Figure size 432x288 with 1 Axes>"
      ]
     },
     "metadata": {
      "needs_background": "light"
     },
     "output_type": "display_data"
    }
   ],
   "source": [
    "plot_roc_curve(logit_best, X_test_transformed, y_test)\n",
    "plt.show()"
   ]
  },
  {
   "cell_type": "code",
   "execution_count": 141,
   "id": "8e0e6b27",
   "metadata": {},
   "outputs": [],
   "source": [
    "# Calculate F1 Score of tuned model using weighted average method\n",
    "f1_logit_tuned_smote_train = f1_score(y_train_sm, y_pred_train, average=\"weighted\")\n",
    "\n",
    "f1_logit_tuned_smote_test = f1_score(y_test, y_pred_test, average=\"weighted\")"
   ]
  },
  {
   "cell_type": "code",
   "execution_count": 142,
   "id": "2b3d24e5",
   "metadata": {},
   "outputs": [
    {
     "data": {
      "text/html": [
       "<div>\n",
       "<style scoped>\n",
       "    .dataframe tbody tr th:only-of-type {\n",
       "        vertical-align: middle;\n",
       "    }\n",
       "\n",
       "    .dataframe tbody tr th {\n",
       "        vertical-align: top;\n",
       "    }\n",
       "\n",
       "    .dataframe thead th {\n",
       "        text-align: right;\n",
       "    }\n",
       "</style>\n",
       "<table border=\"1\" class=\"dataframe\">\n",
       "  <thead>\n",
       "    <tr style=\"text-align: right;\">\n",
       "      <th></th>\n",
       "      <th>Model</th>\n",
       "      <th>f1_score_train</th>\n",
       "      <th>f1_score_test</th>\n",
       "    </tr>\n",
       "  </thead>\n",
       "  <tbody>\n",
       "    <tr>\n",
       "      <th>0</th>\n",
       "      <td>logit_untuned</td>\n",
       "      <td>0.89</td>\n",
       "      <td>0.87</td>\n",
       "    </tr>\n",
       "    <tr>\n",
       "      <th>1</th>\n",
       "      <td>logit_untuned_smote</td>\n",
       "      <td>0.97</td>\n",
       "      <td>0.90</td>\n",
       "    </tr>\n",
       "    <tr>\n",
       "      <th>2</th>\n",
       "      <td>logit_tuned_smote</td>\n",
       "      <td>1.00</td>\n",
       "      <td>0.91</td>\n",
       "    </tr>\n",
       "  </tbody>\n",
       "</table>\n",
       "</div>"
      ],
      "text/plain": [
       "                 Model  f1_score_train  f1_score_test\n",
       "0        logit_untuned            0.89           0.87\n",
       "1  logit_untuned_smote            0.97           0.90\n",
       "2    logit_tuned_smote            1.00           0.91"
      ]
     },
     "execution_count": 142,
     "metadata": {},
     "output_type": "execute_result"
    }
   ],
   "source": [
    "logit_tuned_smote_dict = {'Model':'logit_tuned_smote',\n",
    "    'f1_score_train':round(f1_logit_tuned_smote_train,2),\n",
    "    'f1_score_test':round(f1_logit_tuned_smote_test,2)}\n",
    "    \n",
    "classification_model_performance = classification_model_performance.append(logit_tuned_smote_dict,ignore_index=True)\n",
    "classification_model_performance"
   ]
  },
  {
   "cell_type": "code",
   "execution_count": null,
   "id": "7def5b7f",
   "metadata": {},
   "outputs": [],
   "source": []
  },
  {
   "cell_type": "markdown",
   "id": "e6c74614",
   "metadata": {},
   "source": [
    "###    2.2.1. Building the Random forest model with hyperparameter tuning after handling class imbalance:"
   ]
  },
  {
   "cell_type": "code",
   "execution_count": 143,
   "id": "f8d10bbb",
   "metadata": {},
   "outputs": [],
   "source": [
    "# Creating an instance of class RandomForestClassifier\n",
    "rf = RandomForestClassifier(random_state=42, n_jobs=-1, bootstrap=True, oob_score=True)"
   ]
  },
  {
   "cell_type": "code",
   "execution_count": 144,
   "id": "ebf250b6",
   "metadata": {},
   "outputs": [],
   "source": [
    "# hyperparameter values for tuning with GridSearch cross validation:\n",
    "params = {\n",
    "    'max_depth': [2,3,5,10,20],\n",
    "    'min_samples_leaf': [5,10,20,50,100,200],\n",
    "    'n_estimators': [10, 25, 50, 100]\n",
    "}"
   ]
  },
  {
   "cell_type": "code",
   "execution_count": 145,
   "id": "ad32b9a1",
   "metadata": {},
   "outputs": [],
   "source": [
    "# GridSearch cross validation with 4 folds for Hyperparameter tuning:\n",
    "grid_search = GridSearchCV(estimator=rf,\n",
    "                           param_grid=params,\n",
    "                           cv = 4,\n",
    "                           n_jobs=-1, verbose=1, scoring=\"f1_weighted\")"
   ]
  },
  {
   "cell_type": "code",
   "execution_count": 146,
   "id": "5b21ce30",
   "metadata": {},
   "outputs": [
    {
     "name": "stdout",
     "output_type": "stream",
     "text": [
      "Fitting 4 folds for each of 120 candidates, totalling 480 fits\n",
      "Wall time: 51 s\n"
     ]
    },
    {
     "data": {
      "text/plain": [
       "GridSearchCV(cv=4,\n",
       "             estimator=RandomForestClassifier(n_jobs=-1, oob_score=True,\n",
       "                                              random_state=42),\n",
       "             n_jobs=-1,\n",
       "             param_grid={'max_depth': [2, 3, 5, 10, 20],\n",
       "                         'min_samples_leaf': [5, 10, 20, 50, 100, 200],\n",
       "                         'n_estimators': [10, 25, 50, 100]},\n",
       "             scoring='f1_weighted', verbose=1)"
      ]
     },
     "execution_count": 146,
     "metadata": {},
     "output_type": "execute_result"
    }
   ],
   "source": [
    "%%time\n",
    "grid_search.fit(X_train_transformed_sm, y_train_sm)"
   ]
  },
  {
   "cell_type": "code",
   "execution_count": 147,
   "id": "4e11f5da",
   "metadata": {},
   "outputs": [
    {
     "data": {
      "text/plain": [
       "0.8322266329282676"
      ]
     },
     "execution_count": 147,
     "metadata": {},
     "output_type": "execute_result"
    }
   ],
   "source": [
    "# best weighted f1 score after performing gridsearchCV:\n",
    "grid_search.best_score_"
   ]
  },
  {
   "cell_type": "code",
   "execution_count": 148,
   "id": "a555ad77",
   "metadata": {},
   "outputs": [
    {
     "data": {
      "text/plain": [
       "RandomForestClassifier(max_depth=20, min_samples_leaf=5, n_jobs=-1,\n",
       "                       oob_score=True, random_state=42)"
      ]
     },
     "execution_count": 148,
     "metadata": {},
     "output_type": "execute_result"
    }
   ],
   "source": [
    "# Getting the best estimator:\n",
    "rf_best = grid_search.best_estimator_\n",
    "rf_best"
   ]
  },
  {
   "cell_type": "code",
   "execution_count": 149,
   "id": "2280b86c",
   "metadata": {},
   "outputs": [
    {
     "data": {
      "text/plain": [
       "0.8316616605878567"
      ]
     },
     "execution_count": 149,
     "metadata": {},
     "output_type": "execute_result"
    }
   ],
   "source": [
    "# Inspecting out of bag score:\n",
    "rf_best.oob_score_"
   ]
  },
  {
   "cell_type": "code",
   "execution_count": 150,
   "id": "1315ce92",
   "metadata": {},
   "outputs": [
    {
     "name": "stdout",
     "output_type": "stream",
     "text": [
      "Random forest accuracy 0.8559858399485089\n",
      "              precision    recall  f1-score   support\n",
      "\n",
      "           0       0.79      0.91      0.85     16338\n",
      "           1       0.92      0.82      0.86     20950\n",
      "\n",
      "    accuracy                           0.86     37288\n",
      "   macro avg       0.86      0.86      0.86     37288\n",
      "weighted avg       0.86      0.86      0.86     37288\n",
      "\n"
     ]
    }
   ],
   "source": [
    "# Prediction Train Data\n",
    "y_pred_train= rf_best.predict(X_train_transformed_sm)\n",
    "\n",
    "#Model Performance on Train Dataset\n",
    "print(\"Random forest accuracy\", accuracy_score(y_pred_train, y_train_sm))\n",
    "print(classification_report(y_pred_train, y_train_sm))"
   ]
  },
  {
   "cell_type": "code",
   "execution_count": 151,
   "id": "5340d50d",
   "metadata": {},
   "outputs": [
    {
     "name": "stdout",
     "output_type": "stream",
     "text": [
      "Random forest accuracy 0.8656666666666667\n",
      "              precision    recall  f1-score   support\n",
      "\n",
      "           0       0.44      0.41      0.43      1094\n",
      "           1       0.92      0.93      0.92      7906\n",
      "\n",
      "    accuracy                           0.87      9000\n",
      "   macro avg       0.68      0.67      0.67      9000\n",
      "weighted avg       0.86      0.87      0.86      9000\n",
      "\n",
      "[[ 448  646]\n",
      " [ 563 7343]]\n"
     ]
    }
   ],
   "source": [
    "# Prediction Test Data\n",
    "y_pred_test = rf_best.predict(X_test_transformed)\n",
    "\n",
    "#Model Performance on Test Dataset\n",
    "print(\"Random forest accuracy\", accuracy_score(y_pred_test, y_test))\n",
    "print(classification_report(y_pred_test, y_test))\n",
    "print(confusion_matrix(y_pred_test, y_test))"
   ]
  },
  {
   "cell_type": "code",
   "execution_count": 152,
   "id": "1ad01fc3",
   "metadata": {},
   "outputs": [
    {
     "data": {
      "image/png": "[encoded data removed]",
      "text/plain": [
       "<Figure size 432x288 with 1 Axes>"
      ]
     },
     "metadata": {
      "needs_background": "light"
     },
     "output_type": "display_data"
    }
   ],
   "source": [
    "plot_roc_curve(rf_best, X_test_transformed, y_test)\n",
    "plt.show()"
   ]
  },
  {
   "cell_type": "code",
   "execution_count": 153,
   "id": "e43c6834",
   "metadata": {},
   "outputs": [],
   "source": [
    "# Calculate F1 Score of tuned model using weighted average method\n",
    "f1_RF_tuned_smote_train = f1_score(y_train_sm, y_pred_train, average=\"weighted\")\n",
    "\n",
    "f1_RF_tuned_smote_test = f1_score(y_test, y_pred_test, average=\"weighted\")"
   ]
  },
  {
   "cell_type": "code",
   "execution_count": 154,
   "id": "ad239daf",
   "metadata": {},
   "outputs": [
    {
     "data": {
      "text/html": [
       "<div>\n",
       "<style scoped>\n",
       "    .dataframe tbody tr th:only-of-type {\n",
       "        vertical-align: middle;\n",
       "    }\n",
       "\n",
       "    .dataframe tbody tr th {\n",
       "        vertical-align: top;\n",
       "    }\n",
       "\n",
       "    .dataframe thead th {\n",
       "        text-align: right;\n",
       "    }\n",
       "</style>\n",
       "<table border=\"1\" class=\"dataframe\">\n",
       "  <thead>\n",
       "    <tr style=\"text-align: right;\">\n",
       "      <th></th>\n",
       "      <th>Model</th>\n",
       "      <th>f1_score_train</th>\n",
       "      <th>f1_score_test</th>\n",
       "    </tr>\n",
       "  </thead>\n",
       "  <tbody>\n",
       "    <tr>\n",
       "      <th>0</th>\n",
       "      <td>logit_untuned</td>\n",
       "      <td>0.89</td>\n",
       "      <td>0.87</td>\n",
       "    </tr>\n",
       "    <tr>\n",
       "      <th>1</th>\n",
       "      <td>logit_untuned_smote</td>\n",
       "      <td>0.97</td>\n",
       "      <td>0.90</td>\n",
       "    </tr>\n",
       "    <tr>\n",
       "      <th>2</th>\n",
       "      <td>logit_tuned_smote</td>\n",
       "      <td>1.00</td>\n",
       "      <td>0.91</td>\n",
       "    </tr>\n",
       "    <tr>\n",
       "      <th>3</th>\n",
       "      <td>RF_tuned_smote</td>\n",
       "      <td>0.86</td>\n",
       "      <td>0.87</td>\n",
       "    </tr>\n",
       "  </tbody>\n",
       "</table>\n",
       "</div>"
      ],
      "text/plain": [
       "                 Model  f1_score_train  f1_score_test\n",
       "0        logit_untuned            0.89           0.87\n",
       "1  logit_untuned_smote            0.97           0.90\n",
       "2    logit_tuned_smote            1.00           0.91\n",
       "3       RF_tuned_smote            0.86           0.87"
      ]
     },
     "execution_count": 154,
     "metadata": {},
     "output_type": "execute_result"
    }
   ],
   "source": [
    "RF_tuned_smote_dict = {'Model':'RF_tuned_smote',\n",
    "    'f1_score_train':round(f1_RF_tuned_smote_train,2),\n",
    "    'f1_score_test':round(f1_RF_tuned_smote_test,2)}\n",
    "    \n",
    "classification_model_performance = classification_model_performance.append(RF_tuned_smote_dict,ignore_index=True)\n",
    "classification_model_performance"
   ]
  },
  {
   "cell_type": "code",
   "execution_count": null,
   "id": "402e8fab",
   "metadata": {},
   "outputs": [],
   "source": []
  },
  {
   "cell_type": "markdown",
   "id": "6453263e",
   "metadata": {},
   "source": [
    "###    2.3.1. Building the naive bayes model with hyperparameter tuning after handling class imbalance:"
   ]
  },
  {
   "cell_type": "code",
   "execution_count": 155,
   "id": "21fbea5f",
   "metadata": {},
   "outputs": [],
   "source": [
    "# Building the NB classifier model\n",
    "mnb = MultinomialNB()"
   ]
  },
  {
   "cell_type": "code",
   "execution_count": 156,
   "id": "6340b23a",
   "metadata": {},
   "outputs": [],
   "source": [
    "# hyperparameter values for tuning with GridSearch cross validation:\n",
    "params = {'alpha': [0.001, 0.005, 0.01, 0.1, 0.5, 1.0, 10.0]}"
   ]
  },
  {
   "cell_type": "code",
   "execution_count": 157,
   "id": "7cee8462",
   "metadata": {},
   "outputs": [],
   "source": [
    "# GridSearch cross validation with 4 folds for Hyperparameter tuning:\n",
    "grid_search = GridSearchCV(estimator=mnb,\n",
    "                           param_grid=params,\n",
    "                           cv = 4,\n",
    "                           n_jobs=-1, verbose=1, scoring=\"f1_weighted\")"
   ]
  },
  {
   "cell_type": "code",
   "execution_count": 158,
   "id": "f3eff7fa",
   "metadata": {},
   "outputs": [
    {
     "name": "stdout",
     "output_type": "stream",
     "text": [
      "Fitting 4 folds for each of 7 candidates, totalling 28 fits\n",
      "Wall time: 301 ms\n"
     ]
    },
    {
     "data": {
      "text/plain": [
       "GridSearchCV(cv=4, estimator=MultinomialNB(), n_jobs=-1,\n",
       "             param_grid={'alpha': [0.001, 0.005, 0.01, 0.1, 0.5, 1.0, 10.0]},\n",
       "             scoring='f1_weighted', verbose=1)"
      ]
     },
     "execution_count": 158,
     "metadata": {},
     "output_type": "execute_result"
    }
   ],
   "source": [
    "%%time\n",
    "grid_search.fit(X_train_transformed_sm, y_train_sm)"
   ]
  },
  {
   "cell_type": "code",
   "execution_count": 159,
   "id": "74869966",
   "metadata": {},
   "outputs": [
    {
     "data": {
      "text/plain": [
       "0.972480640823432"
      ]
     },
     "execution_count": 159,
     "metadata": {},
     "output_type": "execute_result"
    }
   ],
   "source": [
    "# best weighted f1 score after performing gridsearchCV:\n",
    "grid_search.best_score_"
   ]
  },
  {
   "cell_type": "code",
   "execution_count": 160,
   "id": "ee079e00",
   "metadata": {},
   "outputs": [
    {
     "data": {
      "text/plain": [
       "MultinomialNB(alpha=0.001)"
      ]
     },
     "execution_count": 160,
     "metadata": {},
     "output_type": "execute_result"
    }
   ],
   "source": [
    "# Getting the best estimator:\n",
    "mnb_best = grid_search.best_estimator_\n",
    "mnb_best"
   ]
  },
  {
   "cell_type": "code",
   "execution_count": 161,
   "id": "e55504b4",
   "metadata": {},
   "outputs": [
    {
     "name": "stdout",
     "output_type": "stream",
     "text": [
      "Naive bayes accuracy 0.9825949367088608\n",
      "              precision    recall  f1-score   support\n",
      "\n",
      "           0       0.99      0.98      0.98     18781\n",
      "           1       0.98      0.99      0.98     18507\n",
      "\n",
      "    accuracy                           0.98     37288\n",
      "   macro avg       0.98      0.98      0.98     37288\n",
      "weighted avg       0.98      0.98      0.98     37288\n",
      "\n"
     ]
    }
   ],
   "source": [
    "# Prediction Train Data\n",
    "y_pred_train= mnb_best.predict(X_train_transformed_sm)\n",
    "\n",
    "#Model Performance on Train Dataset\n",
    "print(\"Naive bayes accuracy\", accuracy_score(y_pred_train, y_train_sm))\n",
    "print(classification_report(y_pred_train, y_train_sm))"
   ]
  },
  {
   "cell_type": "code",
   "execution_count": 162,
   "id": "a816ab74",
   "metadata": {},
   "outputs": [
    {
     "name": "stdout",
     "output_type": "stream",
     "text": [
      "Naive bayes accuracy 0.891\n",
      "              precision    recall  f1-score   support\n",
      "\n",
      "           0       0.33      0.52      0.41       646\n",
      "           1       0.96      0.92      0.94      8354\n",
      "\n",
      "    accuracy                           0.89      9000\n",
      "   macro avg       0.65      0.72      0.67      9000\n",
      "weighted avg       0.92      0.89      0.90      9000\n",
      "\n",
      "[[ 338  308]\n",
      " [ 673 7681]]\n"
     ]
    }
   ],
   "source": [
    "# Prediction Test Data\n",
    "y_pred_test = mnb_best.predict(X_test_transformed)\n",
    "\n",
    "#Model Performance on Test Dataset\n",
    "print(\"Naive bayes accuracy\", accuracy_score(y_pred_test, y_test))\n",
    "print(classification_report(y_pred_test, y_test))\n",
    "print(confusion_matrix(y_pred_test, y_test))"
   ]
  },
  {
   "cell_type": "code",
   "execution_count": 163,
   "id": "f3351f40",
   "metadata": {},
   "outputs": [
    {
     "data": {
      "image/png": "[encoded data removed]",
      "text/plain": [
       "<Figure size 432x288 with 1 Axes>"
      ]
     },
     "metadata": {
      "needs_background": "light"
     },
     "output_type": "display_data"
    }
   ],
   "source": [
    "plot_roc_curve(mnb_best, X_test_transformed, y_test)\n",
    "plt.show()"
   ]
  },
  {
   "cell_type": "code",
   "execution_count": 164,
   "id": "a4c49469",
   "metadata": {},
   "outputs": [],
   "source": [
    "# Calculate F1 Score of tuned model using weighted average method\n",
    "f1_NB_tuned_smote_train = f1_score(y_train_sm, y_pred_train, average=\"weighted\")\n",
    "\n",
    "f1_NB_tuned_smote_test = f1_score(y_test, y_pred_test, average=\"weighted\")"
   ]
  },
  {
   "cell_type": "code",
   "execution_count": 165,
   "id": "d7104dd9",
   "metadata": {},
   "outputs": [
    {
     "data": {
      "text/html": [
       "<div>\n",
       "<style scoped>\n",
       "    .dataframe tbody tr th:only-of-type {\n",
       "        vertical-align: middle;\n",
       "    }\n",
       "\n",
       "    .dataframe tbody tr th {\n",
       "        vertical-align: top;\n",
       "    }\n",
       "\n",
       "    .dataframe thead th {\n",
       "        text-align: right;\n",
       "    }\n",
       "</style>\n",
       "<table border=\"1\" class=\"dataframe\">\n",
       "  <thead>\n",
       "    <tr style=\"text-align: right;\">\n",
       "      <th></th>\n",
       "      <th>Model</th>\n",
       "      <th>f1_score_train</th>\n",
       "      <th>f1_score_test</th>\n",
       "    </tr>\n",
       "  </thead>\n",
       "  <tbody>\n",
       "    <tr>\n",
       "      <th>0</th>\n",
       "      <td>logit_untuned</td>\n",
       "      <td>0.89</td>\n",
       "      <td>0.87</td>\n",
       "    </tr>\n",
       "    <tr>\n",
       "      <th>1</th>\n",
       "      <td>logit_untuned_smote</td>\n",
       "      <td>0.97</td>\n",
       "      <td>0.90</td>\n",
       "    </tr>\n",
       "    <tr>\n",
       "      <th>2</th>\n",
       "      <td>logit_tuned_smote</td>\n",
       "      <td>1.00</td>\n",
       "      <td>0.91</td>\n",
       "    </tr>\n",
       "    <tr>\n",
       "      <th>3</th>\n",
       "      <td>RF_tuned_smote</td>\n",
       "      <td>0.86</td>\n",
       "      <td>0.87</td>\n",
       "    </tr>\n",
       "    <tr>\n",
       "      <th>4</th>\n",
       "      <td>NB_tuned_smote</td>\n",
       "      <td>0.98</td>\n",
       "      <td>0.88</td>\n",
       "    </tr>\n",
       "  </tbody>\n",
       "</table>\n",
       "</div>"
      ],
      "text/plain": [
       "                 Model  f1_score_train  f1_score_test\n",
       "0        logit_untuned            0.89           0.87\n",
       "1  logit_untuned_smote            0.97           0.90\n",
       "2    logit_tuned_smote            1.00           0.91\n",
       "3       RF_tuned_smote            0.86           0.87\n",
       "4       NB_tuned_smote            0.98           0.88"
      ]
     },
     "execution_count": 165,
     "metadata": {},
     "output_type": "execute_result"
    }
   ],
   "source": [
    "NB_tuned_smote_dict = {'Model':'NB_tuned_smote',\n",
    "    'f1_score_train':round(f1_NB_tuned_smote_train,2),\n",
    "    'f1_score_test':round(f1_NB_tuned_smote_test,2)}\n",
    "    \n",
    "classification_model_performance = classification_model_performance.append(NB_tuned_smote_dict,ignore_index=True)\n",
    "classification_model_performance"
   ]
  },
  {
   "cell_type": "code",
   "execution_count": null,
   "id": "29546413",
   "metadata": {},
   "outputs": [],
   "source": []
  },
  {
   "cell_type": "markdown",
   "id": "2a0ebb39",
   "metadata": {},
   "source": [
    "###    2.4.1. Building the XGBOOST classifier model with hyperparameter tuning after handling class imbalance:"
   ]
  },
  {
   "cell_type": "code",
   "execution_count": 166,
   "id": "f9087513",
   "metadata": {},
   "outputs": [],
   "source": [
    "# Creating an instance of class XGBClassifier:\n",
    "xgb_cfl = xgb.XGBClassifier(n_jobs = -1,objective = \"binary:logistic\",eval_metric='logloss')"
   ]
  },
  {
   "cell_type": "code",
   "execution_count": 167,
   "id": "af381e51",
   "metadata": {},
   "outputs": [],
   "source": [
    "# A parameter grid for XGBoost\n",
    "params = {\n",
    "        'n_estimators' : [100, 200, 500], # no of trees \n",
    "        'learning_rate' : [0.01, 0.02, 0.05, 0.1, 0.25],  # eta\n",
    "        'min_child_weight': [1, 5, 7, 10],\n",
    "        'gamma': [0.1, 0.5, 1, 1.5, 5],\n",
    "        'subsample': [0.5, 0.8, 1.0],\n",
    "        'colsample_bytree': [0.5, 0.8, 1.0],\n",
    "        'max_depth': [3, 5, 10, 15]\n",
    "        }\n",
    "\n",
    "folds = 4\n",
    "\n",
    "\n",
    "# Random search cross validation with 4 folds for Hyperparameter tuning:\n",
    "random_search = RandomizedSearchCV(\n",
    "        xgb_cfl,\n",
    "        param_distributions=params,\n",
    "        scoring='f1_weighted',\n",
    "        n_jobs=-1,\n",
    "        cv=folds, verbose=1, random_state=42)"
   ]
  },
  {
   "cell_type": "code",
   "execution_count": 168,
   "metadata": {},
   "outputs": [
    {
     "name": "stdout",
     "output_type": "stream",
     "text": [
      "Fitting 4 folds for each of 10 candidates, totalling 40 fits\n",
      "Wall time: 5min 21s\n"
     ]
    },
    {
     "data": {
      "text/plain": [
       "RandomizedSearchCV(cv=4,\n",
       "                   estimator=XGBClassifier(base_score=None, booster=None,\n",
       "                                           colsample_bylevel=None,\n",
       "                                           colsample_bynode=None,\n",
       "                                           colsample_bytree=None,\n",
       "                                           enable_categorical=False,\n",
       "                                           eval_metric='logloss', gamma=None,\n",
       "                                           gpu_id=None, importance_type=None,\n",
       "                                           interaction_constraints=None,\n",
       "                                           learning_rate=None,\n",
       "                                           max_delta_step=None, max_depth=None,\n",
       "                                           min_child_weight=None, missing=na...\n",
       "                                           subsample=None, tree_method=None,\n",
       "                                           validate_parameters=None,\n",
       "                                           verbosity=None),\n",
       "                   n_jobs=-1,\n",
       "                   param_distributions={'colsample_bytree': [0.5, 0.8, 1.0],\n",
       "                                        'gamma': [0.1, 0.5, 1, 1.5, 5],\n",
       "                                        'learning_rate': [0.01, 0.02, 0.05, 0.1,\n",
       "                                                          0.25],\n",
       "                                        'max_depth': [3, 5, 10, 15],\n",
       "                                        'min_child_weight': [1, 5, 7, 10],\n",
       "                                        'n_estimators': [100, 200, 500],\n",
       "                                        'subsample': [0.5, 0.8, 1.0]},\n",
       "                   random_state=42, scoring='f1_weighted', verbose=1)"
      ]
     },
     "execution_count": 168,
     "metadata": {},
     "output_type": "execute_result"
    }
   ],
   "source": [
    "%%time\n",
    "random_search.fit(X_train_transformed_sm, y_train_sm)"
   ]
  },
  {
   "cell_type": "code",
   "execution_count": 169,
   "id": "d3923d0d",
   "metadata": {},
   "outputs": [
    {
     "data": {
      "text/plain": [
       "0.9384568402989579"
      ]
     },
     "execution_count": 169,
     "metadata": {},
     "output_type": "execute_result"
    }
   ],
   "source": [
    "# best weighted f1 score after performing RandomizedSearchCV:\n",
    "random_search.best_score_"
   ]
  },
  {
   "cell_type": "code",
   "execution_count": 170,
   "metadata": {},
   "outputs": [
    {
     "data": {
      "text/plain": [
       "XGBClassifier(base_score=0.5, booster='gbtree', colsample_bylevel=1,\n",
       "              colsample_bynode=1, colsample_bytree=1.0,\n",
       "              enable_categorical=False, eval_metric='logloss', gamma=0.5,\n",
       "              gpu_id=-1, importance_type=None, interaction_constraints='',\n",
       "              learning_rate=0.05, max_delta_step=0, max_depth=15,\n",
       "              min_child_weight=1, missing=nan, monotone_constraints='()',\n",
       "              n_estimators=500, n_jobs=-1, num_parallel_tree=1,\n",
       "              predictor='auto', random_state=0, reg_alpha=0, reg_lambda=1,\n",
       "              scale_pos_weight=1, subsample=0.5, tree_method='exact',\n",
       "              validate_parameters=1, verbosity=None)"
      ]
     },
     "execution_count": 170,
     "metadata": {},
     "output_type": "execute_result"
    }
   ],
   "source": [
    "# Getting the best estimator:\n",
    "xgboost_best = random_search.best_estimator_\n",
    "xgboost_best"
   ]
  },
  {
   "cell_type": "code",
   "execution_count": 171,
   "id": "15d643b8",
   "metadata": {},
   "outputs": [
    {
     "name": "stdout",
     "output_type": "stream",
     "text": [
      "XGBOOST accuracy 0.9827826646642351\n",
      "              precision    recall  f1-score   support\n",
      "\n",
      "           0       0.98      0.98      0.98     18562\n",
      "           1       0.98      0.98      0.98     18726\n",
      "\n",
      "    accuracy                           0.98     37288\n",
      "   macro avg       0.98      0.98      0.98     37288\n",
      "weighted avg       0.98      0.98      0.98     37288\n",
      "\n"
     ]
    }
   ],
   "source": [
    "# Prediction Train Data\n",
    "y_pred_train= xgboost_best.predict(X_train_transformed_sm)\n",
    "\n",
    "#Model Performance on Train Dataset\n",
    "print(\"XGBOOST accuracy\", accuracy_score(y_pred_train, y_train_sm))\n",
    "print(classification_report(y_pred_train, y_train_sm))"
   ]
  },
  {
   "cell_type": "code",
   "execution_count": 172,
   "id": "800a07e6",
   "metadata": {},
   "outputs": [
    {
     "name": "stdout",
     "output_type": "stream",
     "text": [
      "XGBOOST accuracy 0.9114444444444444\n",
      "              precision    recall  f1-score   support\n",
      "\n",
      "           0       0.51      0.63      0.56       818\n",
      "           1       0.96      0.94      0.95      8182\n",
      "\n",
      "    accuracy                           0.91      9000\n",
      "   macro avg       0.74      0.79      0.76      9000\n",
      "weighted avg       0.92      0.91      0.92      9000\n",
      "\n",
      "[[ 516  302]\n",
      " [ 495 7687]]\n"
     ]
    }
   ],
   "source": [
    "# Prediction Test Data\n",
    "y_pred_test = xgboost_best.predict(X_test_transformed)\n",
    "\n",
    "#Model Performance on Test Dataset\n",
    "print(\"XGBOOST accuracy\", accuracy_score(y_pred_test, y_test))\n",
    "print(classification_report(y_pred_test, y_test))\n",
    "print(confusion_matrix(y_pred_test, y_test))"
   ]
  },
  {
   "cell_type": "code",
   "execution_count": 173,
   "metadata": {},
   "outputs": [
    {
     "data": {
      "image/png": "[encoded data removed]",
      "text/plain": [
       "<Figure size 432x288 with 1 Axes>"
      ]
     },
     "metadata": {
      "needs_background": "light"
     },
     "output_type": "display_data"
    }
   ],
   "source": [
    "plot_roc_curve(xgboost_best, X_test_transformed, y_test)\n",
    "plt.show()"
   ]
  },
  {
   "cell_type": "code",
   "execution_count": 174,
   "id": "b81401a4",
   "metadata": {},
   "outputs": [],
   "source": [
    "# Calculate F1 Score of tuned model using weighted average method\n",
    "f1_XGBOOST_tuned_smote_train = f1_score(y_train_sm, y_pred_train, average=\"weighted\")\n",
    "\n",
    "f1_XGBOOST_tuned_smote_test = f1_score(y_test, y_pred_test, average=\"weighted\")"
   ]
  },
  {
   "cell_type": "code",
   "execution_count": 175,
   "metadata": {},
   "outputs": [
    {
     "data": {
      "text/html": [
       "<div>\n",
       "<style scoped>\n",
       "    .dataframe tbody tr th:only-of-type {\n",
       "        vertical-align: middle;\n",
       "    }\n",
       "\n",
       "    .dataframe tbody tr th {\n",
       "        vertical-align: top;\n",
       "    }\n",
       "\n",
       "    .dataframe thead th {\n",
       "        text-align: right;\n",
       "    }\n",
       "</style>\n",
       "<table border=\"1\" class=\"dataframe\">\n",
       "  <thead>\n",
       "    <tr style=\"text-align: right;\">\n",
       "      <th></th>\n",
       "      <th>Model</th>\n",
       "      <th>f1_score_train</th>\n",
       "      <th>f1_score_test</th>\n",
       "    </tr>\n",
       "  </thead>\n",
       "  <tbody>\n",
       "    <tr>\n",
       "      <th>0</th>\n",
       "      <td>logit_untuned</td>\n",
       "      <td>0.89</td>\n",
       "      <td>0.87</td>\n",
       "    </tr>\n",
       "    <tr>\n",
       "      <th>1</th>\n",
       "      <td>logit_untuned_smote</td>\n",
       "      <td>0.97</td>\n",
       "      <td>0.90</td>\n",
       "    </tr>\n",
       "    <tr>\n",
       "      <th>2</th>\n",
       "      <td>logit_tuned_smote</td>\n",
       "      <td>1.00</td>\n",
       "      <td>0.91</td>\n",
       "    </tr>\n",
       "    <tr>\n",
       "      <th>3</th>\n",
       "      <td>RF_tuned_smote</td>\n",
       "      <td>0.86</td>\n",
       "      <td>0.87</td>\n",
       "    </tr>\n",
       "    <tr>\n",
       "      <th>4</th>\n",
       "      <td>NB_tuned_smote</td>\n",
       "      <td>0.98</td>\n",
       "      <td>0.88</td>\n",
       "    </tr>\n",
       "    <tr>\n",
       "      <th>5</th>\n",
       "      <td>XGBOOST_tuned_smote</td>\n",
       "      <td>0.98</td>\n",
       "      <td>0.91</td>\n",
       "    </tr>\n",
       "  </tbody>\n",
       "</table>\n",
       "</div>"
      ],
      "text/plain": [
       "                 Model  f1_score_train  f1_score_test\n",
       "0        logit_untuned            0.89           0.87\n",
       "1  logit_untuned_smote            0.97           0.90\n",
       "2    logit_tuned_smote            1.00           0.91\n",
       "3       RF_tuned_smote            0.86           0.87\n",
       "4       NB_tuned_smote            0.98           0.88\n",
       "5  XGBOOST_tuned_smote            0.98           0.91"
      ]
     },
     "execution_count": 175,
     "metadata": {},
     "output_type": "execute_result"
    }
   ],
   "source": [
    "XGBOOST_tuned_smote_dict = {'Model':'XGBOOST_tuned_smote',\n",
    "    'f1_score_train':round(f1_XGBOOST_tuned_smote_train,2),\n",
    "    'f1_score_test':round(f1_XGBOOST_tuned_smote_test,2)}\n",
    "    \n",
    "classification_model_performance = classification_model_performance.append(XGBOOST_tuned_smote_dict,ignore_index=True)\n",
    "classification_model_performance"
   ]
  },
  {
   "cell_type": "code",
   "execution_count": null,
   "id": "ca62ec51",
   "metadata": {},
   "outputs": [],
   "source": []
  },
  {
   "cell_type": "markdown",
   "id": "164614b4",
   "metadata": {},
   "source": [
    "## Conclusion:\n",
    "Although XGBOOST is giving partially better performance, we will not use it since it is very heavy model to deploy. Hence, We will use logistic regression for sentiment classification as it is giving good results as compared to random forest and naive bayes models and it is lighter to deploy as compared to XGBOOST."
   ]
  },
  {
   "cell_type": "markdown",
   "id": "b667a0e9",
   "metadata": {},
   "source": [
    "Saving Logit classifier model with the help of pickle:"
   ]
  },
  {
   "cell_type": "code",
   "execution_count": 176,
   "id": "ac7351a1",
   "metadata": {},
   "outputs": [],
   "source": [
    "with open('./Model/SentimentClassification_logit.pkl', 'wb') as file_3:\n",
    "    pickle.dump(logit_best, file_3)"
   ]
  },
  {
   "cell_type": "code",
   "execution_count": null,
   "id": "176d2c6d",
   "metadata": {},
   "outputs": [],
   "source": []
  },
  {
   "cell_type": "markdown",
   "id": "3d9f4d5c",
   "metadata": {},
   "source": [
    "## End to end flow for getting top 4 recommendation for a particular user:"
   ]
  },
  {
   "cell_type": "code",
   "execution_count": 177,
   "id": "7af0cb9c",
   "metadata": {},
   "outputs": [],
   "source": [
    "with open('Model/recommendation_UBCF.pkl', 'rb') as file:\n",
    "    recomendation_matrix = pickle.load(file)"
   ]
  },
  {
   "cell_type": "code",
   "execution_count": 178,
   "id": "d8a5526d",
   "metadata": {},
   "outputs": [],
   "source": [
    "with open('Model/tfidf_vectorizer.pkl', 'rb') as file:\n",
    "    word_vectorizer = pickle.load(file)"
   ]
  },
  {
   "cell_type": "code",
   "execution_count": 179,
   "id": "8f513631",
   "metadata": {},
   "outputs": [],
   "source": [
    "with open('Model/SentimentClassification_logit.pkl', 'rb') as file:\n",
    "    SentimentClassification_logit = pickle.load(file)"
   ]
  },
  {
   "cell_type": "code",
   "execution_count": 180,
   "id": "21f76e72",
   "metadata": {},
   "outputs": [],
   "source": [
    "user_input = input(\"Enter your user name\")\n",
    "recomended_20 = recomendation_matrix.loc[user_input].sort_values(ascending=False)[0:20]\n",
    "recomended_20_names = recomended_20.index"
   ]
  },
  {
   "cell_type": "code",
   "execution_count": 181,
   "id": "58931569",
   "metadata": {},
   "outputs": [
    {
     "data": {
      "text/plain": [
       "Index(['Planes: Fire Rescue (2 Discs) (includes Digital Copy) (blu-Ray/dvd)',\n",
       "       'Mike Dave Need Wedding Dates (dvd + Digital)',\n",
       "       'The Resident Evil Collection 5 Discs (blu-Ray)',\n",
       "       'Red (special Edition) (dvdvideo)',\n",
       "       'Clorox Disinfecting Wipes Value Pack Scented 150 Ct Total',\n",
       "       'My Big Fat Greek Wedding 2 (blu-Ray + Dvd + Digital)',\n",
       "       'Clorox Disinfecting Bathroom Cleaner',\n",
       "       '100:Complete First Season (blu-Ray)',\n",
       "       'Chester's Cheese Flavored Puffcorn Snacks',\n",
       "       'Windex Original Glass Cleaner Refill 67.6oz (2 Liter)',\n",
       "       'Coty Airspun Face Powder, Translucent Extra Coverage',\n",
       "       'Tostitos Bite Size Tortilla Chips', 'Jason Aldean - They Don't Know',\n",
       "       'Dark Shadows (includes Digital Copy) (ultraviolet) (dvdvideo)',\n",
       "       'Hormel Chili, No Beans',\n",
       "       'Caress Moisturizing Body Bar Natural Silk, 4.75oz',\n",
       "       'Burt's Bees Lip Shimmer, Raisin',\n",
       "       'Just For Men Touch Of Gray Gray Hair Treatment, Black T-55',\n",
       "       'There's Something About Mary (dvd)',\n",
       "       'Pendaflex174 Divide It Up File Folder, Multi Section, Letter, Assorted, 12/pack'],\n",
       "      dtype='object', name='name')"
      ]
     },
     "execution_count": 181,
     "metadata": {},
     "output_type": "execute_result"
    }
   ],
   "source": [
    "recomended_20_names"
   ]
  },
  {
   "cell_type": "code",
   "execution_count": 182,
   "id": "5b45e5bf",
   "metadata": {},
   "outputs": [],
   "source": [
    "# recomended_20_df = review_filtered[review_filtered.name.isin(recomended_20_names)].copy(deep=True)"
   ]
  },
  {
   "cell_type": "code",
   "execution_count": 183,
   "id": "f3133194",
   "metadata": {},
   "outputs": [],
   "source": [
    "recomended_20_df = review_filtered[review_filtered.name.isin(recomended_20_names)]"
   ]
  },
  {
   "cell_type": "code",
   "execution_count": 184,
   "id": "a55ccb6d",
   "metadata": {},
   "outputs": [],
   "source": [
    "X_reviews = word_vectorizer.transform(recomended_20_df['combined_txt'].tolist())"
   ]
  },
  {
   "cell_type": "code",
   "execution_count": 185,
   "id": "e4334e7f",
   "metadata": {},
   "outputs": [],
   "source": [
    "Y_sentiment_prediction = SentimentClassification_logit.predict(X_reviews)"
   ]
  },
  {
   "cell_type": "code",
   "execution_count": 186,
   "id": "412c66ad",
   "metadata": {},
   "outputs": [],
   "source": [
    "recomended_20_df['sentiment_predicted'] = pd.Series(Y_sentiment_prediction)"
   ]
  },
  {
   "cell_type": "code",
   "execution_count": 187,
   "id": "bfe76c6d",
   "metadata": {},
   "outputs": [],
   "source": [
    "product_sentiment_dict = {}"
   ]
  },
  {
   "cell_type": "code",
   "execution_count": 188,
   "id": "290aae95",
   "metadata": {},
   "outputs": [],
   "source": [
    "for product in recomended_20_names:\n",
    "    total_positive_reviews = recomended_20_df[recomended_20_df.name == product]['sentiment_predicted'].sum()\n",
    "    total_product_reviews = recomended_20_df[recomended_20_df.name == product]['sentiment_predicted'].index.nunique()\n",
    "    positive_sentiment_percent = round((total_positive_reviews / total_product_reviews) * 100,2)\n",
    "    product_sentiment_dict[product] = positive_sentiment_percent"
   ]
  },
  {
   "cell_type": "code",
   "execution_count": 189,
   "id": "51c74b98",
   "metadata": {},
   "outputs": [],
   "source": [
    "top_4_recomended = sorted(product_sentiment_dict.items(), key=lambda item: item[1],reverse=True)[:4]"
   ]
  },
  {
   "cell_type": "code",
   "execution_count": 190,
   "id": "018908e0",
   "metadata": {},
   "outputs": [
    {
     "data": {
      "text/plain": [
       "[('Dark Shadows (includes Digital Copy) (ultraviolet) (dvdvideo)', 97.98),\n",
       " ('Coty Airspun Face Powder, Translucent Extra Coverage', 94.94),\n",
       " ('Just For Men Touch Of Gray Gray Hair Treatment, Black T-55', 92.41),\n",
       " ('Hormel Chili, No Beans', 92.35)]"
      ]
     },
     "execution_count": 190,
     "metadata": {},
     "output_type": "execute_result"
    }
   ],
   "source": [
    "top_4_recomended"
   ]
  },
  {
   "cell_type": "code",
   "execution_count": 191,
   "id": "f6bdd6da",
   "metadata": {},
   "outputs": [
    {
     "data": {
      "text/html": [
       "<div>\n",
       "<style scoped>\n",
       "    .dataframe tbody tr th:only-of-type {\n",
       "        vertical-align: middle;\n",
       "    }\n",
       "\n",
       "    .dataframe tbody tr th {\n",
       "        vertical-align: top;\n",
       "    }\n",
       "\n",
       "    .dataframe thead th {\n",
       "        text-align: right;\n",
       "    }\n",
       "</style>\n",
       "<table border=\"1\" class=\"dataframe\">\n",
       "  <thead>\n",
       "    <tr style=\"text-align: right;\">\n",
       "      <th></th>\n",
       "      <th>Product</th>\n",
       "      <th>Sentimen(%)</th>\n",
       "    </tr>\n",
       "  </thead>\n",
       "  <tbody>\n",
       "    <tr>\n",
       "      <th>1</th>\n",
       "      <td>Dark Shadows (includes Digital Copy) (ultravio...</td>\n",
       "      <td>97.98</td>\n",
       "    </tr>\n",
       "    <tr>\n",
       "      <th>2</th>\n",
       "      <td>Coty Airspun Face Powder, Translucent Extra Co...</td>\n",
       "      <td>94.94</td>\n",
       "    </tr>\n",
       "    <tr>\n",
       "      <th>3</th>\n",
       "      <td>Just For Men Touch Of Gray Gray Hair Treatment...</td>\n",
       "      <td>92.41</td>\n",
       "    </tr>\n",
       "    <tr>\n",
       "      <th>4</th>\n",
       "      <td>Hormel Chili, No Beans</td>\n",
       "      <td>92.35</td>\n",
       "    </tr>\n",
       "  </tbody>\n",
       "</table>\n",
       "</div>"
      ],
      "text/plain": [
       "                                             Product  Sentimen(%)\n",
       "1  Dark Shadows (includes Digital Copy) (ultravio...        97.98\n",
       "2  Coty Airspun Face Powder, Translucent Extra Co...        94.94\n",
       "3  Just For Men Touch Of Gray Gray Hair Treatment...        92.41\n",
       "4                             Hormel Chili, No Beans        92.35"
      ]
     },
     "execution_count": 191,
     "metadata": {},
     "output_type": "execute_result"
    }
   ],
   "source": [
    "pd.DataFrame(top_4_recomended,columns=['Product','Sentimen(%)'],index=np.arange(1, len(top_4_recomended)+1))"
   ]
  },
  {
   "cell_type": "code",
   "execution_count": null,
   "id": "8544d5cb",
   "metadata": {},
   "outputs": [],
   "source": []
  },
  {
   "cell_type": "markdown",
   "id": "ba297255",
   "metadata": {},
   "source": [
    "# THE END."
   ]
  },
  {
   "cell_type": "markdown",
   "id": "5dbeef72",
   "metadata": {},
   "source": []
  }
 ],
 "metadata": {
  "kernelspec": {
   "display_name": "Python 3 (ipykernel)",
   "language": "python",
   "name": "python3"
  },
  "language_info": {
   "codemirror_mode": {
    "name": "ipython",
    "version": 3
   },
   "file_extension": ".py",
   "mimetype": "text/x-python",
   "name": "python",
   "nbconvert_exporter": "python",
   "pygments_lexer": "ipython3",
   "version": "3.9.7"
  }
 },
 "nbformat": 4,
 "nbformat_minor": 5
}
